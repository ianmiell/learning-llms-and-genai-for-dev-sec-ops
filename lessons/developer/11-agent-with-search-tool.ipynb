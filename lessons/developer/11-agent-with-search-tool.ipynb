{
 "cells": [
  {
   "cell_type": "markdown",
   "metadata": {},
   "source": [
    "The example of the APIChain was a start, but what if we want to add more apis to our llm calls.\n",
    "The holy grail of agents and tools. So instead of just using text, we can provide the llms with the tools we have and have it form a strategy on what tools to use. In this example we'll add the tool that allows for google searches in the mix.\n",
    "\n",
    " This gives you a glimpse of where the industry is heading. We start coding the tools that code the tools and that English is the new programming language."
   ]
  },
  {
   "cell_type": "markdown",
   "metadata": {},
   "source": [
    "We begin the boilerplate setup"
   ]
  },
  {
   "cell_type": "code",
   "execution_count": 1,
   "metadata": {},
   "outputs": [
    {
     "name": "stdout",
     "output_type": "stream",
     "text": [
      "Requirement already satisfied: langchain in /Users/patrick.debois/Library/Caches/pypoetry/virtualenvs/learning-llms-and-genai-for-dev-sec-ops-Sv6v5t2W-py3.11/lib/python3.11/site-packages (0.1.5)\n",
      "Requirement already satisfied: langchain-openai in /Users/patrick.debois/Library/Caches/pypoetry/virtualenvs/learning-llms-and-genai-for-dev-sec-ops-Sv6v5t2W-py3.11/lib/python3.11/site-packages (0.0.2.post1)\n",
      "Requirement already satisfied: PyYAML>=5.3 in /Users/patrick.debois/Library/Caches/pypoetry/virtualenvs/learning-llms-and-genai-for-dev-sec-ops-Sv6v5t2W-py3.11/lib/python3.11/site-packages (from langchain) (6.0.1)\n",
      "Requirement already satisfied: SQLAlchemy<3,>=1.4 in /Users/patrick.debois/Library/Caches/pypoetry/virtualenvs/learning-llms-and-genai-for-dev-sec-ops-Sv6v5t2W-py3.11/lib/python3.11/site-packages (from langchain) (2.0.25)\n",
      "Requirement already satisfied: aiohttp<4.0.0,>=3.8.3 in /Users/patrick.debois/Library/Caches/pypoetry/virtualenvs/learning-llms-and-genai-for-dev-sec-ops-Sv6v5t2W-py3.11/lib/python3.11/site-packages (from langchain) (3.9.3)\n",
      "Requirement already satisfied: dataclasses-json<0.7,>=0.5.7 in /Users/patrick.debois/Library/Caches/pypoetry/virtualenvs/learning-llms-and-genai-for-dev-sec-ops-Sv6v5t2W-py3.11/lib/python3.11/site-packages (from langchain) (0.6.4)\n",
      "Requirement already satisfied: jsonpatch<2.0,>=1.33 in /Users/patrick.debois/Library/Caches/pypoetry/virtualenvs/learning-llms-and-genai-for-dev-sec-ops-Sv6v5t2W-py3.11/lib/python3.11/site-packages (from langchain) (1.33)\n",
      "Requirement already satisfied: langchain-community<0.1,>=0.0.17 in /Users/patrick.debois/Library/Caches/pypoetry/virtualenvs/learning-llms-and-genai-for-dev-sec-ops-Sv6v5t2W-py3.11/lib/python3.11/site-packages (from langchain) (0.0.17)\n",
      "Requirement already satisfied: langchain-core<0.2,>=0.1.16 in /Users/patrick.debois/Library/Caches/pypoetry/virtualenvs/learning-llms-and-genai-for-dev-sec-ops-Sv6v5t2W-py3.11/lib/python3.11/site-packages (from langchain) (0.1.18)\n",
      "Requirement already satisfied: langsmith<0.1,>=0.0.83 in /Users/patrick.debois/Library/Caches/pypoetry/virtualenvs/learning-llms-and-genai-for-dev-sec-ops-Sv6v5t2W-py3.11/lib/python3.11/site-packages (from langchain) (0.0.86)\n",
      "Requirement already satisfied: numpy<2,>=1 in /Users/patrick.debois/Library/Caches/pypoetry/virtualenvs/learning-llms-and-genai-for-dev-sec-ops-Sv6v5t2W-py3.11/lib/python3.11/site-packages (from langchain) (1.26.3)\n",
      "Requirement already satisfied: pydantic<3,>=1 in /Users/patrick.debois/Library/Caches/pypoetry/virtualenvs/learning-llms-and-genai-for-dev-sec-ops-Sv6v5t2W-py3.11/lib/python3.11/site-packages (from langchain) (2.6.0)\n",
      "Requirement already satisfied: requests<3,>=2 in /Users/patrick.debois/Library/Caches/pypoetry/virtualenvs/learning-llms-and-genai-for-dev-sec-ops-Sv6v5t2W-py3.11/lib/python3.11/site-packages (from langchain) (2.31.0)\n",
      "Requirement already satisfied: tenacity<9.0.0,>=8.1.0 in /Users/patrick.debois/Library/Caches/pypoetry/virtualenvs/learning-llms-and-genai-for-dev-sec-ops-Sv6v5t2W-py3.11/lib/python3.11/site-packages (from langchain) (8.2.3)\n",
      "Requirement already satisfied: openai<2.0.0,>=1.6.1 in /Users/patrick.debois/Library/Caches/pypoetry/virtualenvs/learning-llms-and-genai-for-dev-sec-ops-Sv6v5t2W-py3.11/lib/python3.11/site-packages (from langchain-openai) (1.11.0)\n",
      "Requirement already satisfied: tiktoken<0.6.0,>=0.5.2 in /Users/patrick.debois/Library/Caches/pypoetry/virtualenvs/learning-llms-and-genai-for-dev-sec-ops-Sv6v5t2W-py3.11/lib/python3.11/site-packages (from langchain-openai) (0.5.2)\n",
      "Requirement already satisfied: aiosignal>=1.1.2 in /Users/patrick.debois/Library/Caches/pypoetry/virtualenvs/learning-llms-and-genai-for-dev-sec-ops-Sv6v5t2W-py3.11/lib/python3.11/site-packages (from aiohttp<4.0.0,>=3.8.3->langchain) (1.3.1)\n",
      "Requirement already satisfied: attrs>=17.3.0 in /Users/patrick.debois/Library/Caches/pypoetry/virtualenvs/learning-llms-and-genai-for-dev-sec-ops-Sv6v5t2W-py3.11/lib/python3.11/site-packages (from aiohttp<4.0.0,>=3.8.3->langchain) (23.2.0)\n",
      "Requirement already satisfied: frozenlist>=1.1.1 in /Users/patrick.debois/Library/Caches/pypoetry/virtualenvs/learning-llms-and-genai-for-dev-sec-ops-Sv6v5t2W-py3.11/lib/python3.11/site-packages (from aiohttp<4.0.0,>=3.8.3->langchain) (1.4.1)\n",
      "Requirement already satisfied: multidict<7.0,>=4.5 in /Users/patrick.debois/Library/Caches/pypoetry/virtualenvs/learning-llms-and-genai-for-dev-sec-ops-Sv6v5t2W-py3.11/lib/python3.11/site-packages (from aiohttp<4.0.0,>=3.8.3->langchain) (6.0.5)\n",
      "Requirement already satisfied: yarl<2.0,>=1.0 in /Users/patrick.debois/Library/Caches/pypoetry/virtualenvs/learning-llms-and-genai-for-dev-sec-ops-Sv6v5t2W-py3.11/lib/python3.11/site-packages (from aiohttp<4.0.0,>=3.8.3->langchain) (1.9.4)\n",
      "Requirement already satisfied: marshmallow<4.0.0,>=3.18.0 in /Users/patrick.debois/Library/Caches/pypoetry/virtualenvs/learning-llms-and-genai-for-dev-sec-ops-Sv6v5t2W-py3.11/lib/python3.11/site-packages (from dataclasses-json<0.7,>=0.5.7->langchain) (3.20.2)\n",
      "Requirement already satisfied: typing-inspect<1,>=0.4.0 in /Users/patrick.debois/Library/Caches/pypoetry/virtualenvs/learning-llms-and-genai-for-dev-sec-ops-Sv6v5t2W-py3.11/lib/python3.11/site-packages (from dataclasses-json<0.7,>=0.5.7->langchain) (0.9.0)\n",
      "Requirement already satisfied: jsonpointer>=1.9 in /Users/patrick.debois/Library/Caches/pypoetry/virtualenvs/learning-llms-and-genai-for-dev-sec-ops-Sv6v5t2W-py3.11/lib/python3.11/site-packages (from jsonpatch<2.0,>=1.33->langchain) (2.4)\n",
      "Requirement already satisfied: anyio<5,>=3 in /Users/patrick.debois/Library/Caches/pypoetry/virtualenvs/learning-llms-and-genai-for-dev-sec-ops-Sv6v5t2W-py3.11/lib/python3.11/site-packages (from langchain-core<0.2,>=0.1.16->langchain) (4.2.0)\n",
      "Requirement already satisfied: packaging<24.0,>=23.2 in /Users/patrick.debois/Library/Caches/pypoetry/virtualenvs/learning-llms-and-genai-for-dev-sec-ops-Sv6v5t2W-py3.11/lib/python3.11/site-packages (from langchain-core<0.2,>=0.1.16->langchain) (23.2)\n",
      "Requirement already satisfied: distro<2,>=1.7.0 in /Users/patrick.debois/Library/Caches/pypoetry/virtualenvs/learning-llms-and-genai-for-dev-sec-ops-Sv6v5t2W-py3.11/lib/python3.11/site-packages (from openai<2.0.0,>=1.6.1->langchain-openai) (1.9.0)\n",
      "Requirement already satisfied: httpx<1,>=0.23.0 in /Users/patrick.debois/Library/Caches/pypoetry/virtualenvs/learning-llms-and-genai-for-dev-sec-ops-Sv6v5t2W-py3.11/lib/python3.11/site-packages (from openai<2.0.0,>=1.6.1->langchain-openai) (0.26.0)\n",
      "Requirement already satisfied: sniffio in /Users/patrick.debois/Library/Caches/pypoetry/virtualenvs/learning-llms-and-genai-for-dev-sec-ops-Sv6v5t2W-py3.11/lib/python3.11/site-packages (from openai<2.0.0,>=1.6.1->langchain-openai) (1.3.0)\n",
      "Requirement already satisfied: tqdm>4 in /Users/patrick.debois/Library/Caches/pypoetry/virtualenvs/learning-llms-and-genai-for-dev-sec-ops-Sv6v5t2W-py3.11/lib/python3.11/site-packages (from openai<2.0.0,>=1.6.1->langchain-openai) (4.66.1)\n",
      "Requirement already satisfied: typing-extensions<5,>=4.7 in /Users/patrick.debois/Library/Caches/pypoetry/virtualenvs/learning-llms-and-genai-for-dev-sec-ops-Sv6v5t2W-py3.11/lib/python3.11/site-packages (from openai<2.0.0,>=1.6.1->langchain-openai) (4.9.0)\n",
      "Requirement already satisfied: annotated-types>=0.4.0 in /Users/patrick.debois/Library/Caches/pypoetry/virtualenvs/learning-llms-and-genai-for-dev-sec-ops-Sv6v5t2W-py3.11/lib/python3.11/site-packages (from pydantic<3,>=1->langchain) (0.6.0)\n",
      "Requirement already satisfied: pydantic-core==2.16.1 in /Users/patrick.debois/Library/Caches/pypoetry/virtualenvs/learning-llms-and-genai-for-dev-sec-ops-Sv6v5t2W-py3.11/lib/python3.11/site-packages (from pydantic<3,>=1->langchain) (2.16.1)\n",
      "Requirement already satisfied: charset-normalizer<4,>=2 in /Users/patrick.debois/Library/Caches/pypoetry/virtualenvs/learning-llms-and-genai-for-dev-sec-ops-Sv6v5t2W-py3.11/lib/python3.11/site-packages (from requests<3,>=2->langchain) (3.3.2)\n",
      "Requirement already satisfied: idna<4,>=2.5 in /Users/patrick.debois/Library/Caches/pypoetry/virtualenvs/learning-llms-and-genai-for-dev-sec-ops-Sv6v5t2W-py3.11/lib/python3.11/site-packages (from requests<3,>=2->langchain) (3.6)\n",
      "Requirement already satisfied: urllib3<3,>=1.21.1 in /Users/patrick.debois/Library/Caches/pypoetry/virtualenvs/learning-llms-and-genai-for-dev-sec-ops-Sv6v5t2W-py3.11/lib/python3.11/site-packages (from requests<3,>=2->langchain) (2.2.0)\n",
      "Requirement already satisfied: certifi>=2017.4.17 in /Users/patrick.debois/Library/Caches/pypoetry/virtualenvs/learning-llms-and-genai-for-dev-sec-ops-Sv6v5t2W-py3.11/lib/python3.11/site-packages (from requests<3,>=2->langchain) (2024.2.2)\n",
      "Requirement already satisfied: regex>=2022.1.18 in /Users/patrick.debois/Library/Caches/pypoetry/virtualenvs/learning-llms-and-genai-for-dev-sec-ops-Sv6v5t2W-py3.11/lib/python3.11/site-packages (from tiktoken<0.6.0,>=0.5.2->langchain-openai) (2023.12.25)\n",
      "Requirement already satisfied: httpcore==1.* in /Users/patrick.debois/Library/Caches/pypoetry/virtualenvs/learning-llms-and-genai-for-dev-sec-ops-Sv6v5t2W-py3.11/lib/python3.11/site-packages (from httpx<1,>=0.23.0->openai<2.0.0,>=1.6.1->langchain-openai) (1.0.2)\n",
      "Requirement already satisfied: h11<0.15,>=0.13 in /Users/patrick.debois/Library/Caches/pypoetry/virtualenvs/learning-llms-and-genai-for-dev-sec-ops-Sv6v5t2W-py3.11/lib/python3.11/site-packages (from httpcore==1.*->httpx<1,>=0.23.0->openai<2.0.0,>=1.6.1->langchain-openai) (0.14.0)\n",
      "Requirement already satisfied: mypy-extensions>=0.3.0 in /Users/patrick.debois/Library/Caches/pypoetry/virtualenvs/learning-llms-and-genai-for-dev-sec-ops-Sv6v5t2W-py3.11/lib/python3.11/site-packages (from typing-inspect<1,>=0.4.0->dataclasses-json<0.7,>=0.5.7->langchain) (1.0.0)\n",
      "\n",
      "\u001b[1m[\u001b[0m\u001b[34;49mnotice\u001b[0m\u001b[1;39;49m]\u001b[0m\u001b[39;49m A new release of pip is available: \u001b[0m\u001b[31;49m23.3.1\u001b[0m\u001b[39;49m -> \u001b[0m\u001b[32;49m24.0\u001b[0m\n",
      "\u001b[1m[\u001b[0m\u001b[34;49mnotice\u001b[0m\u001b[1;39;49m]\u001b[0m\u001b[39;49m To update, run: \u001b[0m\u001b[32;49mpip install --upgrade pip\u001b[0m\n",
      "Note: you may need to restart the kernel to use updated packages.\n",
      "Requirement already satisfied: duckduckgo-search in /Users/patrick.debois/Library/Caches/pypoetry/virtualenvs/learning-llms-and-genai-for-dev-sec-ops-Sv6v5t2W-py3.11/lib/python3.11/site-packages (4.4)\n",
      "Requirement already satisfied: docstring-inheritance>=2.1.2 in /Users/patrick.debois/Library/Caches/pypoetry/virtualenvs/learning-llms-and-genai-for-dev-sec-ops-Sv6v5t2W-py3.11/lib/python3.11/site-packages (from duckduckgo-search) (2.1.2)\n",
      "Requirement already satisfied: click>=8.1.7 in /Users/patrick.debois/Library/Caches/pypoetry/virtualenvs/learning-llms-and-genai-for-dev-sec-ops-Sv6v5t2W-py3.11/lib/python3.11/site-packages (from duckduckgo-search) (8.1.7)\n",
      "Requirement already satisfied: curl-cffi>=0.6.0b7 in /Users/patrick.debois/Library/Caches/pypoetry/virtualenvs/learning-llms-and-genai-for-dev-sec-ops-Sv6v5t2W-py3.11/lib/python3.11/site-packages (from duckduckgo-search) (0.6.0b9)\n",
      "Requirement already satisfied: lxml>=4.9.3 in /Users/patrick.debois/Library/Caches/pypoetry/virtualenvs/learning-llms-and-genai-for-dev-sec-ops-Sv6v5t2W-py3.11/lib/python3.11/site-packages (from duckduckgo-search) (5.1.0)\n",
      "Requirement already satisfied: nest-asyncio>=1.6.0 in /Users/patrick.debois/Library/Caches/pypoetry/virtualenvs/learning-llms-and-genai-for-dev-sec-ops-Sv6v5t2W-py3.11/lib/python3.11/site-packages (from duckduckgo-search) (1.6.0)\n",
      "Requirement already satisfied: cffi>=1.12.0 in /Users/patrick.debois/Library/Caches/pypoetry/virtualenvs/learning-llms-and-genai-for-dev-sec-ops-Sv6v5t2W-py3.11/lib/python3.11/site-packages (from curl-cffi>=0.6.0b7->duckduckgo-search) (1.16.0)\n",
      "Requirement already satisfied: certifi in /Users/patrick.debois/Library/Caches/pypoetry/virtualenvs/learning-llms-and-genai-for-dev-sec-ops-Sv6v5t2W-py3.11/lib/python3.11/site-packages (from curl-cffi>=0.6.0b7->duckduckgo-search) (2024.2.2)\n",
      "Requirement already satisfied: pycparser in /Users/patrick.debois/Library/Caches/pypoetry/virtualenvs/learning-llms-and-genai-for-dev-sec-ops-Sv6v5t2W-py3.11/lib/python3.11/site-packages (from cffi>=1.12.0->curl-cffi>=0.6.0b7->duckduckgo-search) (2.21)\n",
      "\n",
      "\u001b[1m[\u001b[0m\u001b[34;49mnotice\u001b[0m\u001b[1;39;49m]\u001b[0m\u001b[39;49m A new release of pip is available: \u001b[0m\u001b[31;49m23.3.1\u001b[0m\u001b[39;49m -> \u001b[0m\u001b[32;49m24.0\u001b[0m\n",
      "\u001b[1m[\u001b[0m\u001b[34;49mnotice\u001b[0m\u001b[1;39;49m]\u001b[0m\u001b[39;49m To update, run: \u001b[0m\u001b[32;49mpip install --upgrade pip\u001b[0m\n",
      "Note: you may need to restart the kernel to use updated packages.\n"
     ]
    }
   ],
   "source": [
    "%pip install langchain langchain-openai\n",
    "\n",
    "%pip install duckduckgo-search"
   ]
  },
  {
   "cell_type": "code",
   "execution_count": 2,
   "metadata": {},
   "outputs": [
    {
     "name": "stderr",
     "output_type": "stream",
     "text": [
      "/Users/patrick.debois/Library/Caches/pypoetry/virtualenvs/learning-llms-and-genai-for-dev-sec-ops-Sv6v5t2W-py3.11/lib/python3.11/site-packages/langchain_community/utilities/duckduckgo_search.py:47: UserWarning: DDGS running in an async loop. This may cause errors. Use AsyncDDGS instead.\n",
      "  with DDGS() as ddgs:\n"
     ]
    },
    {
     "data": {
      "text/plain": [
       "'Patrick Debois is known as the godfather of DevOps. He is also the founder of the DevOpsDays volunteer-led event series which now has spread to more than 30 cities around the world, and the co-author of \" The DevOps Handbook .\" At DevOps days Austin 2022 I sat down with the godfather of DevOps, Patrick Debois to get his advice for those starting out in DevOps. Patrick talked about the importance of finding the next... Unsurprisingly, our distinguished speaker at the launch of Pulumi\\'s in-person AI Talks, Patrick Debois, who coined the term \"DevOps,\" has recently tuned into LLM and GenAI Ops using the Langchain framework. In this episode, Rob is joined by Patrick Debois, a seasoned industry expert and DevOps pioneer. Patrick shares his personal odyssey within the realm of DevOps, reflecting on the current state of the industry compared to his initial expectations. The conversation delves into the convergence of business analytics and technical analytics, exploring innovative approaches developers are adopting ... VDOMDHTMLtml> DOP 200: From Digital Twins to Management - A Conversation With Patrick Debois - YouTube #200: We\\'ve reached episode 200!!! As we do with all our divide by 50 episodes, we...'"
      ]
     },
     "execution_count": 2,
     "metadata": {},
     "output_type": "execute_result"
    }
   ],
   "source": [
    "from langchain.tools import DuckDuckGoSearchRun\n",
    "internet_searcher=DuckDuckGoSearchRun()\n",
    "internet_searcher.invoke(\"who is patrick Debois?\")"
   ]
  },
  {
   "cell_type": "code",
   "execution_count": 3,
   "metadata": {},
   "outputs": [],
   "source": [
    "# Add search as a tool to the agent toolbox\n",
    "from langchain.agents import Tool\n",
    "tools = [\n",
    "    Tool(\n",
    "        name=\"Current Search\",\n",
    "        func=internet_searcher.run,\n",
    "        description=\"useful for when you need to answer questions about current events or the current state of the world\",\n",
    "    ),\n",
    "]\n",
    "\n",
    "# Alternatively you can just add them as a tool\n",
    "tools = [internet_searcher]"
   ]
  },
  {
   "cell_type": "code",
   "execution_count": 4,
   "metadata": {},
   "outputs": [],
   "source": [
    "from _lessonshelper.pretty_print_callback_handler import PrettyPrintCallbackHandler\n",
    "pretty_callback = PrettyPrintCallbackHandler()"
   ]
  },
  {
   "cell_type": "markdown",
   "metadata": {},
   "source": [
    "Agents typically run multiple calls until they reach a goal. Therefore they have a memory."
   ]
  },
  {
   "cell_type": "code",
   "execution_count": 5,
   "metadata": {},
   "outputs": [],
   "source": [
    "# Give the agent memory\n",
    "from langchain.memory import ConversationBufferMemory\n",
    "\n",
    "memory = ConversationBufferMemory(memory_key=\"chat_history\")\n",
    "\n",
    "# Prepare the LLM for the agent to use\n",
    "from langchain_openai import OpenAI\n",
    "llm = OpenAI(temperature=0, callbacks=[pretty_callback])"
   ]
  },
  {
   "cell_type": "markdown",
   "metadata": {},
   "source": [
    "To reach that goal , agents follow a strategy to get to that goal.\n",
    "And to act on it , they will have tools at their disposal."
   ]
  },
  {
   "cell_type": "code",
   "execution_count": 6,
   "metadata": {},
   "outputs": [
    {
     "name": "stdout",
     "output_type": "stream",
     "text": [
      "[chain][start] - inputs {'input': 'whats the current temperature in London?'}\n",
      "\n",
      "=============\n",
      "[llm][start] - prompts: Answer the following questions as best you can. You have access to the following tools:\n",
      "\n",
      "duckduckgo_search: A wrapper around DuckDuckGo Search. Useful for when you need to answer questions about current events. Input should be a search query.\n",
      "\n",
      "Use the following format:\n",
      "\n",
      "Question: the input question you must answer\n",
      "Thought: you should always think about what to do\n",
      "Action: the action to take, should be one of [duckduckgo_search]\n",
      "Action Input: the input to the action\n",
      "Observation: the result of the action\n",
      "... (this Thought/Action/Action Input/Observation can repeat N times)\n",
      "Thought: I now know the final answer\n",
      "Final Answer: the final answer to the original input question\n",
      "\n",
      "Begin!\n",
      "\n",
      "Question: whats the current temperature in London?\n",
      "Thought:\n",
      "[llm][new_token]  I\n",
      "[llm][new_token]  should\n",
      "[llm][new_token]  use\n",
      "[llm][new_token]  a\n",
      "[llm][new_token]  search\n",
      "[llm][new_token]  engine\n",
      "[llm][new_token]  to\n",
      "[llm][new_token]  find\n",
      "[llm][new_token]  the\n",
      "[llm][new_token]  answer\n",
      "[llm][new_token] \n",
      "Action\n",
      "[llm][new_token] :\n",
      "[llm][new_token]  duck\n",
      "[llm][new_token] duck\n",
      "[llm][new_token] go\n",
      "[llm][new_token] _search\n",
      "[llm][new_token] \n",
      "Action\n",
      "[llm][new_token]  Input\n",
      "[llm][new_token] :\n",
      "[llm][new_token]  \"\n",
      "[llm][new_token] current\n",
      "[llm][new_token]  temperature\n",
      "[llm][new_token]  in\n",
      "[llm][new_token]  London\n",
      "[llm][new_token] \"\n",
      "\n",
      "=============\n",
      "[llm][end] - generation  I should use a search engine to find the answer\n",
      "Action: duckduckgo_search\n",
      "Action Input: \"current temperature in London\"\n",
      "[agent][action] - action: tool='duckduckgo_search' tool_input='current temperature in London' log=' I should use a search engine to find the answer\\nAction: duckduckgo_search\\nAction Input: \"current temperature in London\"'\n"
     ]
    },
    {
     "name": "stderr",
     "output_type": "stream",
     "text": [
      "/Users/patrick.debois/Library/Caches/pypoetry/virtualenvs/learning-llms-and-genai-for-dev-sec-ops-Sv6v5t2W-py3.11/lib/python3.11/site-packages/langchain_community/utilities/duckduckgo_search.py:47: UserWarning: DDGS running in an async loop. This may cause errors. Use AsyncDDGS instead.\n",
      "  with DDGS() as ddgs:\n"
     ]
    },
    {
     "name": "stdout",
     "output_type": "stream",
     "text": [
      "\n",
      "=============\n",
      "[llm][start] - prompts: Answer the following questions as best you can. You have access to the following tools:\n",
      "\n",
      "duckduckgo_search: A wrapper around DuckDuckGo Search. Useful for when you need to answer questions about current events. Input should be a search query.\n",
      "\n",
      "Use the following format:\n",
      "\n",
      "Question: the input question you must answer\n",
      "Thought: you should always think about what to do\n",
      "Action: the action to take, should be one of [duckduckgo_search]\n",
      "Action Input: the input to the action\n",
      "Observation: the result of the action\n",
      "... (this Thought/Action/Action Input/Observation can repeat N times)\n",
      "Thought: I now know the final answer\n",
      "Final Answer: the final answer to the original input question\n",
      "\n",
      "Begin!\n",
      "\n",
      "Question: whats the current temperature in London?\n",
      "Thought: I should use a search engine to find the answer\n",
      "Action: duckduckgo_search\n",
      "Action Input: \"current temperature in London\"\n",
      "Observation: The current temperature in London is 6 degrees Celsius, with a light rain changing to overcast by nighttime. The UV index is low and the pollution is low. The forecast for the next seven days shows a range of temperatures from 0 to 8 degrees Celsius, with a chance of precipitation on some days. Today Hourly 10-Day Calendar History Wundermap settings Customize Tue 1/30 Wed 1/31 Thu 2/1 Fri 2/2 Weather Forecast for January 16 in London, England - temperature, wind, atmospheric pressure, humidity and precipitations. Detailed hourly weather chart. January 14 January 15 Select date: January 17 January 18 13° 8° Mon 5 Feb 11° 10° Tue 6 Feb 12° 10° Wed 7 Feb 12° 10° Today Friday Saturday Sunday Monday Tuesday Wednesday Updated: 07:36 (UTC) on Thu 1 Feb 2024 Show full forecast Forecast table explained... 6°C. 1033mb. 66%. 2°C. Find out what the weather is doing right now across the UK.\n",
      "Thought: \n",
      "[llm][new_token] I\n",
      "[llm][new_token]  should\n",
      "[llm][new_token]  check\n",
      "[llm][new_token]  the\n",
      "[llm][new_token]  forecast\n",
      "[llm][new_token]  for\n",
      "[llm][new_token]  the\n",
      "[llm][new_token]  next\n",
      "[llm][new_token]  few\n",
      "[llm][new_token]  days\n",
      "[llm][new_token]  to\n",
      "[llm][new_token]  get\n",
      "[llm][new_token]  a\n",
      "[llm][new_token]  better\n",
      "[llm][new_token]  understanding of\n",
      "[llm][new_token]  the\n",
      "[llm][new_token]  weather\n",
      "[llm][new_token]  in\n",
      "[llm][new_token]  London\n",
      "[llm][new_token] \n",
      "Action\n",
      "[llm][new_token] :\n",
      "[llm][new_token]  duck\n",
      "[llm][new_token] duck\n",
      "[llm][new_token] go\n",
      "[llm][new_token] _search\n",
      "[llm][new_token] \n",
      "Action\n",
      "[llm][new_token]  Input\n",
      "[llm][new_token] :\n",
      "[llm][new_token]  \"\n",
      "[llm][new_token] London\n",
      "[llm][new_token]  weather\n",
      "[llm][new_token]  forecast\n",
      "[llm][new_token] \"\n",
      "\n",
      "=============\n",
      "[llm][end] - generation I should check the forecast for the next few days to get a better understanding of the weather in London\n",
      "Action: duckduckgo_search\n",
      "Action Input: \"London weather forecast\"\n",
      "[agent][action] - action: tool='duckduckgo_search' tool_input='London weather forecast' log='I should check the forecast for the next few days to get a better understanding of the weather in London\\nAction: duckduckgo_search\\nAction Input: \"London weather forecast\"'\n"
     ]
    },
    {
     "name": "stderr",
     "output_type": "stream",
     "text": [
      "/Users/patrick.debois/Library/Caches/pypoetry/virtualenvs/learning-llms-and-genai-for-dev-sec-ops-Sv6v5t2W-py3.11/lib/python3.11/site-packages/langchain_community/utilities/duckduckgo_search.py:47: UserWarning: DDGS running in an async loop. This may cause errors. Use AsyncDDGS instead.\n",
      "  with DDGS() as ddgs:\n"
     ]
    },
    {
     "name": "stdout",
     "output_type": "stream",
     "text": [
      "\n",
      "=============\n",
      "[llm][start] - prompts: Answer the following questions as best you can. You have access to the following tools:\n",
      "\n",
      "duckduckgo_search: A wrapper around DuckDuckGo Search. Useful for when you need to answer questions about current events. Input should be a search query.\n",
      "\n",
      "Use the following format:\n",
      "\n",
      "Question: the input question you must answer\n",
      "Thought: you should always think about what to do\n",
      "Action: the action to take, should be one of [duckduckgo_search]\n",
      "Action Input: the input to the action\n",
      "Observation: the result of the action\n",
      "... (this Thought/Action/Action Input/Observation can repeat N times)\n",
      "Thought: I now know the final answer\n",
      "Final Answer: the final answer to the original input question\n",
      "\n",
      "Begin!\n",
      "\n",
      "Question: whats the current temperature in London?\n",
      "Thought: I should use a search engine to find the answer\n",
      "Action: duckduckgo_search\n",
      "Action Input: \"current temperature in London\"\n",
      "Observation: The current temperature in London is 6 degrees Celsius, with a light rain changing to overcast by nighttime. The UV index is low and the pollution is low. The forecast for the next seven days shows a range of temperatures from 0 to 8 degrees Celsius, with a chance of precipitation on some days. Today Hourly 10-Day Calendar History Wundermap settings Customize Tue 1/30 Wed 1/31 Thu 2/1 Fri 2/2 Weather Forecast for January 16 in London, England - temperature, wind, atmospheric pressure, humidity and precipitations. Detailed hourly weather chart. January 14 January 15 Select date: January 17 January 18 13° 8° Mon 5 Feb 11° 10° Tue 6 Feb 12° 10° Wed 7 Feb 12° 10° Today Friday Saturday Sunday Monday Tuesday Wednesday Updated: 07:36 (UTC) on Thu 1 Feb 2024 Show full forecast Forecast table explained... 6°C. 1033mb. 66%. 2°C. Find out what the weather is doing right now across the UK.\n",
      "Thought: I should check the forecast for the next few days to get a better understanding of the weather in London\n",
      "Action: duckduckgo_search\n",
      "Action Input: \"London weather forecast\"\n",
      "Observation: Get the latest weather forecast for London (Greater London) from the Met Office, including temperature, wind, visibility, UV, pollution and pollen data. See the seven-day forecast for today and the next week, with weather symbols and descriptions. Get the latest 10-day weather forecast for London, England, United Kingdom from Weather Underground. See current conditions, hourly and daily forecasts, maps, almanac, news and more. 1 - 7 days 8 - 14 days Hourly Trending news Temperature map Weather Radar Satellites Models Today 1 Feb 11° / 2° 9 - 19 mph Tomorrow 2 Feb 13° / 3° 18 - 34 mph Saturday 3 Feb 13° / 10° 16 - 28 mph Sunday 4 Feb 13° / 8° 18 - 32 mph Monday 5 Feb 12° / 6° 22 - 39 mph Tuesday 6 Feb 70% 0.3 mm 13° / 10° 20 - 37 mph L UV L Pollution Fri 2 Feb 12° 10° Sat 3 Feb 13° 10° Sun 4 Feb 13° 8° Mon 5 Feb 11° 10° Tue 6 Feb 12° 10° Wed 7 Feb 12° 10° Today Friday Saturday Sunday Monday Tuesday Wednesday Updated: 07:36... 30-day weather forecast in London, United Kingdom ☀️ Accurate monthly weather forecast for London ⛅ Detailed forecast By month Current temperature \"near me\" Weather news ⊳ Widget of weather ⊳ Water temperature | METEOPROG\n",
      "Thought: \n",
      "[llm][new_token] I\n",
      "[llm][new_token]  should\n",
      "[llm][new_token]  also\n",
      "[llm][new_token]  check\n",
      "[llm][new_token]  the\n",
      "[llm][new_token]  current\n",
      "[llm][new_token]  weather\n",
      "[llm][new_token]  conditions\n",
      "[llm][new_token]  in\n",
      "[llm][new_token]  London\n",
      "[llm][new_token]  to\n",
      "[llm][new_token]  get\n",
      "[llm][new_token]  a\n",
      "[llm][new_token]  better\n",
      "[llm][new_token]  idea\n",
      "[llm][new_token]  of\n",
      "[llm][new_token]  the\n",
      "[llm][new_token]  temperature\n",
      "[llm][new_token] \n",
      "Action\n",
      "[llm][new_token] :\n",
      "[llm][new_token]  duck\n",
      "[llm][new_token] duck\n",
      "[llm][new_token] go\n",
      "[llm][new_token] _search\n",
      "[llm][new_token] \n",
      "Action\n",
      "[llm][new_token]  Input\n",
      "[llm][new_token] :\n",
      "[llm][new_token]  \"\n",
      "[llm][new_token] current\n",
      "[llm][new_token]  weather\n",
      "[llm][new_token]  in\n",
      "[llm][new_token]  London\n",
      "[llm][new_token] \"\n",
      "\n",
      "=============\n",
      "[llm][end] - generation I should also check the current weather conditions in London to get a better idea of the temperature\n",
      "Action: duckduckgo_search\n",
      "Action Input: \"current weather in London\"\n",
      "[agent][action] - action: tool='duckduckgo_search' tool_input='current weather in London' log='I should also check the current weather conditions in London to get a better idea of the temperature\\nAction: duckduckgo_search\\nAction Input: \"current weather in London\"'\n"
     ]
    },
    {
     "name": "stderr",
     "output_type": "stream",
     "text": [
      "/Users/patrick.debois/Library/Caches/pypoetry/virtualenvs/learning-llms-and-genai-for-dev-sec-ops-Sv6v5t2W-py3.11/lib/python3.11/site-packages/langchain_community/utilities/duckduckgo_search.py:47: UserWarning: DDGS running in an async loop. This may cause errors. Use AsyncDDGS instead.\n",
      "  with DDGS() as ddgs:\n"
     ]
    },
    {
     "name": "stdout",
     "output_type": "stream",
     "text": [
      "\n",
      "=============\n",
      "[llm][start] - prompts: Answer the following questions as best you can. You have access to the following tools:\n",
      "\n",
      "duckduckgo_search: A wrapper around DuckDuckGo Search. Useful for when you need to answer questions about current events. Input should be a search query.\n",
      "\n",
      "Use the following format:\n",
      "\n",
      "Question: the input question you must answer\n",
      "Thought: you should always think about what to do\n",
      "Action: the action to take, should be one of [duckduckgo_search]\n",
      "Action Input: the input to the action\n",
      "Observation: the result of the action\n",
      "... (this Thought/Action/Action Input/Observation can repeat N times)\n",
      "Thought: I now know the final answer\n",
      "Final Answer: the final answer to the original input question\n",
      "\n",
      "Begin!\n",
      "\n",
      "Question: whats the current temperature in London?\n",
      "Thought: I should use a search engine to find the answer\n",
      "Action: duckduckgo_search\n",
      "Action Input: \"current temperature in London\"\n",
      "Observation: The current temperature in London is 6 degrees Celsius, with a light rain changing to overcast by nighttime. The UV index is low and the pollution is low. The forecast for the next seven days shows a range of temperatures from 0 to 8 degrees Celsius, with a chance of precipitation on some days. Today Hourly 10-Day Calendar History Wundermap settings Customize Tue 1/30 Wed 1/31 Thu 2/1 Fri 2/2 Weather Forecast for January 16 in London, England - temperature, wind, atmospheric pressure, humidity and precipitations. Detailed hourly weather chart. January 14 January 15 Select date: January 17 January 18 13° 8° Mon 5 Feb 11° 10° Tue 6 Feb 12° 10° Wed 7 Feb 12° 10° Today Friday Saturday Sunday Monday Tuesday Wednesday Updated: 07:36 (UTC) on Thu 1 Feb 2024 Show full forecast Forecast table explained... 6°C. 1033mb. 66%. 2°C. Find out what the weather is doing right now across the UK.\n",
      "Thought: I should check the forecast for the next few days to get a better understanding of the weather in London\n",
      "Action: duckduckgo_search\n",
      "Action Input: \"London weather forecast\"\n",
      "Observation: Get the latest weather forecast for London (Greater London) from the Met Office, including temperature, wind, visibility, UV, pollution and pollen data. See the seven-day forecast for today and the next week, with weather symbols and descriptions. Get the latest 10-day weather forecast for London, England, United Kingdom from Weather Underground. See current conditions, hourly and daily forecasts, maps, almanac, news and more. 1 - 7 days 8 - 14 days Hourly Trending news Temperature map Weather Radar Satellites Models Today 1 Feb 11° / 2° 9 - 19 mph Tomorrow 2 Feb 13° / 3° 18 - 34 mph Saturday 3 Feb 13° / 10° 16 - 28 mph Sunday 4 Feb 13° / 8° 18 - 32 mph Monday 5 Feb 12° / 6° 22 - 39 mph Tuesday 6 Feb 70% 0.3 mm 13° / 10° 20 - 37 mph L UV L Pollution Fri 2 Feb 12° 10° Sat 3 Feb 13° 10° Sun 4 Feb 13° 8° Mon 5 Feb 11° 10° Tue 6 Feb 12° 10° Wed 7 Feb 12° 10° Today Friday Saturday Sunday Monday Tuesday Wednesday Updated: 07:36... 30-day weather forecast in London, United Kingdom ☀️ Accurate monthly weather forecast for London ⛅ Detailed forecast By month Current temperature \"near me\" Weather news ⊳ Widget of weather ⊳ Water temperature | METEOPROG\n",
      "Thought: I should also check the current weather conditions in London to get a better idea of the temperature\n",
      "Action: duckduckgo_search\n",
      "Action Input: \"current weather in London\"\n",
      "Observation: 13° 10° Thu 8 Feb 12° 10° Fri 9 Feb 11° 5° Today Sunday Monday Tuesday Wednesday Thursday Friday Updated: 10:41 (UTC) on Sat 3 Feb 2024 Show full forecast Forecast table explained i Last 24 hours... Elev 92 ft, 51.51 °N, 0.13 °W London, England, United Kingdom 10-Day Weather Forecast star_ratehome 47 Charing Cross Station | Change Current Station Personal Weather Station Charing Cross... The O2 (Greater London) weather - Met Office Today 9° 5° Sunny changing to cloudy by lunchtime. Sunrise: 07:39 Sunset: 16:48 L UV L Pollution Fri 2 Feb 12° 10° Sat 3 Feb 13° 10° Sun 4 Feb 13°... 8 - 14 days Hourly Trending news Temperature map Weather Radar Satellites Models Today 1 Feb 11° / 2° 9 - 19 mph Tomorrow 2 Feb 13° / 3° 18 - 34 mph Saturday 3 Feb 13° / 10° 16 - 28 mph Sunday 4 Feb 13° / 8° 18 - 32 mph Monday 5 Feb 12° / 6° 22 - 39 mph Tuesday 6 Feb 70% 0.3 mm 13° / 10° 20 - 37 mph Wednesday 7 Feb 80% 5.4 mm 12° / 3° 19 - 32 mph Weather in London: Get the current weather for cities in London, along with hourly, daily and weekly forecast. Also, get the weather and season trend for cities of London along with latest weather news and updates.\n",
      "Thought: \n",
      "[llm][new_token]  I\n",
      "[llm][new_token]  now\n",
      "[llm][new_token]  know\n",
      "[llm][new_token]  the\n",
      "[llm][new_token]  final\n",
      "[llm][new_token]  answer\n",
      "[llm][new_token] \n",
      "Final Answer:\n",
      "[llm][new_token]  The current temperature in\n",
      "[llm][new_token]  London\n",
      "[llm][new_token]  is\n",
      "[llm][new_token]  \n",
      "[llm][new_token] 13\n",
      "[llm][new_token]  degrees\n",
      "[llm][new_token]  Celsius\n",
      "[llm][new_token] .\n",
      "[llm][new_token] \n",
      "\n",
      "=============\n",
      "[llm][end] - generation  I now know the final answer\n",
      "Final Answer: The current temperature in London is 13 degrees Celsius.\n",
      "[agent][finish] - finish: return_values={'output': 'The current temperature in London is 13 degrees Celsius.'} log=' I now know the final answer\\nFinal Answer: The current temperature in London is 13 degrees Celsius.'\n",
      "[chain][end] - outputs: {'output': 'The current temperature in London is 13 degrees Celsius.'}\n"
     ]
    },
    {
     "data": {
      "text/plain": [
       "{'input': 'whats the current temperature in London?',\n",
       " 'output': 'The current temperature in London is 13 degrees Celsius.'}"
      ]
     },
     "execution_count": 6,
     "metadata": {},
     "output_type": "execute_result"
    }
   ],
   "source": [
    "# Now initialize the agent\n",
    "\n",
    "from langchain import hub\n",
    "from langchain.agents import AgentExecutor, create_react_agent\n",
    "\n",
    "# Reason and act \n",
    "prompt = hub.pull(\"hwchase17/react\")\n",
    "model = llm\n",
    "\n",
    "agent = create_react_agent(model, tools, prompt)\n",
    "agent_executor = AgentExecutor(agent=agent, tools=tools)\n",
    "agent_executor.callbacks = [pretty_callback]\n",
    "\n",
    "agent_executor.invoke({\"input\":\"whats the current temperature in London?\"})"
   ]
  }
 ],
 "metadata": {
  "kernelspec": {
   "display_name": "london-devops-VW7lFx7f-py3.11",
   "language": "python",
   "name": "python3"
  },
  "language_info": {
   "codemirror_mode": {
    "name": "ipython",
    "version": 3
   },
   "file_extension": ".py",
   "mimetype": "text/x-python",
   "name": "python",
   "nbconvert_exporter": "python",
   "pygments_lexer": "ipython3",
   "version": "3.11.7"
  },
  "orig_nbformat": 4
 },
 "nbformat": 4,
 "nbformat_minor": 2
}
