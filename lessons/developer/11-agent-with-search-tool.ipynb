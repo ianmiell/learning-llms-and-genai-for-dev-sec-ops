{
 "cells": [
  {
   "cell_type": "markdown",
   "metadata": {},
   "source": [
    "The example of the APIChain was a start, but what if we want to add more apis to our llm calls.\n",
    "The holy grail of agents and tools. So instead of just using text, we can provide the llms with the tools we have and have it form a strategy on what tools to use. In this example we'll add the tool that allows for google searches in the mix.\n",
    "\n",
    " This gives you a glimpse of where the industry is heading. We start coding the tools that code the tools and that English is the new programming language."
   ]
  },
  {
   "cell_type": "markdown",
   "metadata": {},
   "source": [
    "We begin the boilerplate setup"
   ]
  },
  {
   "cell_type": "code",
   "execution_count": 15,
   "metadata": {},
   "outputs": [
    {
     "name": "stdout",
     "output_type": "stream",
     "text": [
      "Requirement already satisfied: langchain in /Users/patrick.debois/Library/Caches/pypoetry/virtualenvs/learning-llms-and-genai-for-dev-sec-ops-Sv6v5t2W-py3.11/lib/python3.11/site-packages (0.1.5)\n",
      "Requirement already satisfied: langchain-openai in /Users/patrick.debois/Library/Caches/pypoetry/virtualenvs/learning-llms-and-genai-for-dev-sec-ops-Sv6v5t2W-py3.11/lib/python3.11/site-packages (0.0.5)\n",
      "Requirement already satisfied: PyYAML>=5.3 in /Users/patrick.debois/Library/Caches/pypoetry/virtualenvs/learning-llms-and-genai-for-dev-sec-ops-Sv6v5t2W-py3.11/lib/python3.11/site-packages (from langchain) (6.0.1)\n",
      "Requirement already satisfied: SQLAlchemy<3,>=1.4 in /Users/patrick.debois/Library/Caches/pypoetry/virtualenvs/learning-llms-and-genai-for-dev-sec-ops-Sv6v5t2W-py3.11/lib/python3.11/site-packages (from langchain) (2.0.25)\n",
      "Requirement already satisfied: aiohttp<4.0.0,>=3.8.3 in /Users/patrick.debois/Library/Caches/pypoetry/virtualenvs/learning-llms-and-genai-for-dev-sec-ops-Sv6v5t2W-py3.11/lib/python3.11/site-packages (from langchain) (3.9.3)\n",
      "Requirement already satisfied: dataclasses-json<0.7,>=0.5.7 in /Users/patrick.debois/Library/Caches/pypoetry/virtualenvs/learning-llms-and-genai-for-dev-sec-ops-Sv6v5t2W-py3.11/lib/python3.11/site-packages (from langchain) (0.6.4)\n",
      "Requirement already satisfied: jsonpatch<2.0,>=1.33 in /Users/patrick.debois/Library/Caches/pypoetry/virtualenvs/learning-llms-and-genai-for-dev-sec-ops-Sv6v5t2W-py3.11/lib/python3.11/site-packages (from langchain) (1.33)\n",
      "Requirement already satisfied: langchain-community<0.1,>=0.0.17 in /Users/patrick.debois/Library/Caches/pypoetry/virtualenvs/learning-llms-and-genai-for-dev-sec-ops-Sv6v5t2W-py3.11/lib/python3.11/site-packages (from langchain) (0.0.17)\n",
      "Requirement already satisfied: langchain-core<0.2,>=0.1.16 in /Users/patrick.debois/Library/Caches/pypoetry/virtualenvs/learning-llms-and-genai-for-dev-sec-ops-Sv6v5t2W-py3.11/lib/python3.11/site-packages (from langchain) (0.1.18)\n",
      "Requirement already satisfied: langsmith<0.1,>=0.0.83 in /Users/patrick.debois/Library/Caches/pypoetry/virtualenvs/learning-llms-and-genai-for-dev-sec-ops-Sv6v5t2W-py3.11/lib/python3.11/site-packages (from langchain) (0.0.86)\n",
      "Requirement already satisfied: numpy<2,>=1 in /Users/patrick.debois/Library/Caches/pypoetry/virtualenvs/learning-llms-and-genai-for-dev-sec-ops-Sv6v5t2W-py3.11/lib/python3.11/site-packages (from langchain) (1.26.3)\n",
      "Requirement already satisfied: pydantic<3,>=1 in /Users/patrick.debois/Library/Caches/pypoetry/virtualenvs/learning-llms-and-genai-for-dev-sec-ops-Sv6v5t2W-py3.11/lib/python3.11/site-packages (from langchain) (2.6.0)\n",
      "Requirement already satisfied: requests<3,>=2 in /Users/patrick.debois/Library/Caches/pypoetry/virtualenvs/learning-llms-and-genai-for-dev-sec-ops-Sv6v5t2W-py3.11/lib/python3.11/site-packages (from langchain) (2.31.0)\n",
      "Requirement already satisfied: tenacity<9.0.0,>=8.1.0 in /Users/patrick.debois/Library/Caches/pypoetry/virtualenvs/learning-llms-and-genai-for-dev-sec-ops-Sv6v5t2W-py3.11/lib/python3.11/site-packages (from langchain) (8.2.3)\n",
      "Requirement already satisfied: openai<2.0.0,>=1.10.0 in /Users/patrick.debois/Library/Caches/pypoetry/virtualenvs/learning-llms-and-genai-for-dev-sec-ops-Sv6v5t2W-py3.11/lib/python3.11/site-packages (from langchain-openai) (1.11.0)\n",
      "Requirement already satisfied: tiktoken<0.6.0,>=0.5.2 in /Users/patrick.debois/Library/Caches/pypoetry/virtualenvs/learning-llms-and-genai-for-dev-sec-ops-Sv6v5t2W-py3.11/lib/python3.11/site-packages (from langchain-openai) (0.5.2)\n",
      "Requirement already satisfied: aiosignal>=1.1.2 in /Users/patrick.debois/Library/Caches/pypoetry/virtualenvs/learning-llms-and-genai-for-dev-sec-ops-Sv6v5t2W-py3.11/lib/python3.11/site-packages (from aiohttp<4.0.0,>=3.8.3->langchain) (1.3.1)\n",
      "Requirement already satisfied: attrs>=17.3.0 in /Users/patrick.debois/Library/Caches/pypoetry/virtualenvs/learning-llms-and-genai-for-dev-sec-ops-Sv6v5t2W-py3.11/lib/python3.11/site-packages (from aiohttp<4.0.0,>=3.8.3->langchain) (23.2.0)\n",
      "Requirement already satisfied: frozenlist>=1.1.1 in /Users/patrick.debois/Library/Caches/pypoetry/virtualenvs/learning-llms-and-genai-for-dev-sec-ops-Sv6v5t2W-py3.11/lib/python3.11/site-packages (from aiohttp<4.0.0,>=3.8.3->langchain) (1.4.1)\n",
      "Requirement already satisfied: multidict<7.0,>=4.5 in /Users/patrick.debois/Library/Caches/pypoetry/virtualenvs/learning-llms-and-genai-for-dev-sec-ops-Sv6v5t2W-py3.11/lib/python3.11/site-packages (from aiohttp<4.0.0,>=3.8.3->langchain) (6.0.5)\n",
      "Requirement already satisfied: yarl<2.0,>=1.0 in /Users/patrick.debois/Library/Caches/pypoetry/virtualenvs/learning-llms-and-genai-for-dev-sec-ops-Sv6v5t2W-py3.11/lib/python3.11/site-packages (from aiohttp<4.0.0,>=3.8.3->langchain) (1.9.4)\n",
      "Requirement already satisfied: marshmallow<4.0.0,>=3.18.0 in /Users/patrick.debois/Library/Caches/pypoetry/virtualenvs/learning-llms-and-genai-for-dev-sec-ops-Sv6v5t2W-py3.11/lib/python3.11/site-packages (from dataclasses-json<0.7,>=0.5.7->langchain) (3.20.2)\n",
      "Requirement already satisfied: typing-inspect<1,>=0.4.0 in /Users/patrick.debois/Library/Caches/pypoetry/virtualenvs/learning-llms-and-genai-for-dev-sec-ops-Sv6v5t2W-py3.11/lib/python3.11/site-packages (from dataclasses-json<0.7,>=0.5.7->langchain) (0.9.0)\n",
      "Requirement already satisfied: jsonpointer>=1.9 in /Users/patrick.debois/Library/Caches/pypoetry/virtualenvs/learning-llms-and-genai-for-dev-sec-ops-Sv6v5t2W-py3.11/lib/python3.11/site-packages (from jsonpatch<2.0,>=1.33->langchain) (2.4)\n",
      "Requirement already satisfied: anyio<5,>=3 in /Users/patrick.debois/Library/Caches/pypoetry/virtualenvs/learning-llms-and-genai-for-dev-sec-ops-Sv6v5t2W-py3.11/lib/python3.11/site-packages (from langchain-core<0.2,>=0.1.16->langchain) (4.2.0)\n",
      "Requirement already satisfied: packaging<24.0,>=23.2 in /Users/patrick.debois/Library/Caches/pypoetry/virtualenvs/learning-llms-and-genai-for-dev-sec-ops-Sv6v5t2W-py3.11/lib/python3.11/site-packages (from langchain-core<0.2,>=0.1.16->langchain) (23.2)\n",
      "Requirement already satisfied: distro<2,>=1.7.0 in /Users/patrick.debois/Library/Caches/pypoetry/virtualenvs/learning-llms-and-genai-for-dev-sec-ops-Sv6v5t2W-py3.11/lib/python3.11/site-packages (from openai<2.0.0,>=1.10.0->langchain-openai) (1.9.0)\n",
      "Requirement already satisfied: httpx<1,>=0.23.0 in /Users/patrick.debois/Library/Caches/pypoetry/virtualenvs/learning-llms-and-genai-for-dev-sec-ops-Sv6v5t2W-py3.11/lib/python3.11/site-packages (from openai<2.0.0,>=1.10.0->langchain-openai) (0.26.0)\n",
      "Requirement already satisfied: sniffio in /Users/patrick.debois/Library/Caches/pypoetry/virtualenvs/learning-llms-and-genai-for-dev-sec-ops-Sv6v5t2W-py3.11/lib/python3.11/site-packages (from openai<2.0.0,>=1.10.0->langchain-openai) (1.3.0)\n",
      "Requirement already satisfied: tqdm>4 in /Users/patrick.debois/Library/Caches/pypoetry/virtualenvs/learning-llms-and-genai-for-dev-sec-ops-Sv6v5t2W-py3.11/lib/python3.11/site-packages (from openai<2.0.0,>=1.10.0->langchain-openai) (4.66.1)\n",
      "Requirement already satisfied: typing-extensions<5,>=4.7 in /Users/patrick.debois/Library/Caches/pypoetry/virtualenvs/learning-llms-and-genai-for-dev-sec-ops-Sv6v5t2W-py3.11/lib/python3.11/site-packages (from openai<2.0.0,>=1.10.0->langchain-openai) (4.9.0)\n",
      "Requirement already satisfied: annotated-types>=0.4.0 in /Users/patrick.debois/Library/Caches/pypoetry/virtualenvs/learning-llms-and-genai-for-dev-sec-ops-Sv6v5t2W-py3.11/lib/python3.11/site-packages (from pydantic<3,>=1->langchain) (0.6.0)\n",
      "Requirement already satisfied: pydantic-core==2.16.1 in /Users/patrick.debois/Library/Caches/pypoetry/virtualenvs/learning-llms-and-genai-for-dev-sec-ops-Sv6v5t2W-py3.11/lib/python3.11/site-packages (from pydantic<3,>=1->langchain) (2.16.1)\n",
      "Requirement already satisfied: charset-normalizer<4,>=2 in /Users/patrick.debois/Library/Caches/pypoetry/virtualenvs/learning-llms-and-genai-for-dev-sec-ops-Sv6v5t2W-py3.11/lib/python3.11/site-packages (from requests<3,>=2->langchain) (3.3.2)\n",
      "Requirement already satisfied: idna<4,>=2.5 in /Users/patrick.debois/Library/Caches/pypoetry/virtualenvs/learning-llms-and-genai-for-dev-sec-ops-Sv6v5t2W-py3.11/lib/python3.11/site-packages (from requests<3,>=2->langchain) (3.6)\n",
      "Requirement already satisfied: urllib3<3,>=1.21.1 in /Users/patrick.debois/Library/Caches/pypoetry/virtualenvs/learning-llms-and-genai-for-dev-sec-ops-Sv6v5t2W-py3.11/lib/python3.11/site-packages (from requests<3,>=2->langchain) (2.2.0)\n",
      "Requirement already satisfied: certifi>=2017.4.17 in /Users/patrick.debois/Library/Caches/pypoetry/virtualenvs/learning-llms-and-genai-for-dev-sec-ops-Sv6v5t2W-py3.11/lib/python3.11/site-packages (from requests<3,>=2->langchain) (2024.2.2)\n",
      "Requirement already satisfied: regex>=2022.1.18 in /Users/patrick.debois/Library/Caches/pypoetry/virtualenvs/learning-llms-and-genai-for-dev-sec-ops-Sv6v5t2W-py3.11/lib/python3.11/site-packages (from tiktoken<0.6.0,>=0.5.2->langchain-openai) (2023.12.25)\n",
      "Requirement already satisfied: httpcore==1.* in /Users/patrick.debois/Library/Caches/pypoetry/virtualenvs/learning-llms-and-genai-for-dev-sec-ops-Sv6v5t2W-py3.11/lib/python3.11/site-packages (from httpx<1,>=0.23.0->openai<2.0.0,>=1.10.0->langchain-openai) (1.0.2)\n",
      "Requirement already satisfied: h11<0.15,>=0.13 in /Users/patrick.debois/Library/Caches/pypoetry/virtualenvs/learning-llms-and-genai-for-dev-sec-ops-Sv6v5t2W-py3.11/lib/python3.11/site-packages (from httpcore==1.*->httpx<1,>=0.23.0->openai<2.0.0,>=1.10.0->langchain-openai) (0.14.0)\n",
      "Requirement already satisfied: mypy-extensions>=0.3.0 in /Users/patrick.debois/Library/Caches/pypoetry/virtualenvs/learning-llms-and-genai-for-dev-sec-ops-Sv6v5t2W-py3.11/lib/python3.11/site-packages (from typing-inspect<1,>=0.4.0->dataclasses-json<0.7,>=0.5.7->langchain) (1.0.0)\n",
      "\n",
      "\u001b[1m[\u001b[0m\u001b[34;49mnotice\u001b[0m\u001b[1;39;49m]\u001b[0m\u001b[39;49m A new release of pip is available: \u001b[0m\u001b[31;49m23.3.1\u001b[0m\u001b[39;49m -> \u001b[0m\u001b[32;49m24.0\u001b[0m\n",
      "\u001b[1m[\u001b[0m\u001b[34;49mnotice\u001b[0m\u001b[1;39;49m]\u001b[0m\u001b[39;49m To update, run: \u001b[0m\u001b[32;49mpip install --upgrade pip\u001b[0m\n",
      "Note: you may need to restart the kernel to use updated packages.\n",
      "Requirement already satisfied: duckduckgo-search in /Users/patrick.debois/Library/Caches/pypoetry/virtualenvs/learning-llms-and-genai-for-dev-sec-ops-Sv6v5t2W-py3.11/lib/python3.11/site-packages (4.4)\n",
      "Requirement already satisfied: docstring-inheritance>=2.1.2 in /Users/patrick.debois/Library/Caches/pypoetry/virtualenvs/learning-llms-and-genai-for-dev-sec-ops-Sv6v5t2W-py3.11/lib/python3.11/site-packages (from duckduckgo-search) (2.1.2)\n",
      "Requirement already satisfied: click>=8.1.7 in /Users/patrick.debois/Library/Caches/pypoetry/virtualenvs/learning-llms-and-genai-for-dev-sec-ops-Sv6v5t2W-py3.11/lib/python3.11/site-packages (from duckduckgo-search) (8.1.7)\n",
      "Requirement already satisfied: curl-cffi>=0.6.0b7 in /Users/patrick.debois/Library/Caches/pypoetry/virtualenvs/learning-llms-and-genai-for-dev-sec-ops-Sv6v5t2W-py3.11/lib/python3.11/site-packages (from duckduckgo-search) (0.6.0b9)\n",
      "Requirement already satisfied: lxml>=4.9.3 in /Users/patrick.debois/Library/Caches/pypoetry/virtualenvs/learning-llms-and-genai-for-dev-sec-ops-Sv6v5t2W-py3.11/lib/python3.11/site-packages (from duckduckgo-search) (5.1.0)\n",
      "Requirement already satisfied: nest-asyncio>=1.6.0 in /Users/patrick.debois/Library/Caches/pypoetry/virtualenvs/learning-llms-and-genai-for-dev-sec-ops-Sv6v5t2W-py3.11/lib/python3.11/site-packages (from duckduckgo-search) (1.6.0)\n",
      "Requirement already satisfied: cffi>=1.12.0 in /Users/patrick.debois/Library/Caches/pypoetry/virtualenvs/learning-llms-and-genai-for-dev-sec-ops-Sv6v5t2W-py3.11/lib/python3.11/site-packages (from curl-cffi>=0.6.0b7->duckduckgo-search) (1.16.0)\n",
      "Requirement already satisfied: certifi in /Users/patrick.debois/Library/Caches/pypoetry/virtualenvs/learning-llms-and-genai-for-dev-sec-ops-Sv6v5t2W-py3.11/lib/python3.11/site-packages (from curl-cffi>=0.6.0b7->duckduckgo-search) (2024.2.2)\n",
      "Requirement already satisfied: pycparser in /Users/patrick.debois/Library/Caches/pypoetry/virtualenvs/learning-llms-and-genai-for-dev-sec-ops-Sv6v5t2W-py3.11/lib/python3.11/site-packages (from cffi>=1.12.0->curl-cffi>=0.6.0b7->duckduckgo-search) (2.21)\n",
      "\n",
      "\u001b[1m[\u001b[0m\u001b[34;49mnotice\u001b[0m\u001b[1;39;49m]\u001b[0m\u001b[39;49m A new release of pip is available: \u001b[0m\u001b[31;49m23.3.1\u001b[0m\u001b[39;49m -> \u001b[0m\u001b[32;49m24.0\u001b[0m\n",
      "\u001b[1m[\u001b[0m\u001b[34;49mnotice\u001b[0m\u001b[1;39;49m]\u001b[0m\u001b[39;49m To update, run: \u001b[0m\u001b[32;49mpip install --upgrade pip\u001b[0m\n",
      "Note: you may need to restart the kernel to use updated packages.\n"
     ]
    }
   ],
   "source": [
    "%pip install langchain langchain-openai\n",
    "\n",
    "%pip install duckduckgo-search"
   ]
  },
  {
   "cell_type": "code",
   "execution_count": 16,
   "metadata": {},
   "outputs": [
    {
     "name": "stderr",
     "output_type": "stream",
     "text": [
      "/Users/patrick.debois/Library/Caches/pypoetry/virtualenvs/learning-llms-and-genai-for-dev-sec-ops-Sv6v5t2W-py3.11/lib/python3.11/site-packages/langchain_community/utilities/duckduckgo_search.py:47: UserWarning: DDGS running in an async loop. This may cause errors. Use AsyncDDGS instead.\n",
      "  with DDGS() as ddgs:\n"
     ]
    },
    {
     "data": {
      "text/plain": [
       "'08th Sep, 2023 Views Read Time 10 Mins In this article The origins of the DevOps trace back to when the term, \"DevOps\" was first coined by Patrick Debois in 2009 which is regarded as the DevOps origin year. Patrick Debois led DevOpsDays from its inception in 2009 until 2014, and then Bridget Kromhout became the lead in 2015. She is also the co-host on the very popular podcast, Arrested DevOps. If you don\\'t listen to it, you should. She stepped down in 2020 but stayed on the advisory board of DevOpsDays with Patrick. At DevOps days Austin 2022 I sat down with the godfather of DevOps, Patrick Debois to get his advice for those starting out in DevOps. Patrick talked about the importance of finding the next... VDOMDHTMLtml> DOP 200: From Digital Twins to Management - A Conversation With Patrick Debois - YouTube #200: We\\'ve reached episode 200!!! As we do with all our divide by 50 episodes, we... Watching the presentation from afar was the Belgian programmer Patrick Debois. He, too, was sick of organizations putting development in one silo and operations in another. While at a US-based agile conference the year before, Debois had suggested an informal conversation (also known as a \"birds of a feather\" meeting) to discuss how the two ...'"
      ]
     },
     "execution_count": 16,
     "metadata": {},
     "output_type": "execute_result"
    }
   ],
   "source": [
    "from langchain.tools import DuckDuckGoSearchRun\n",
    "internet_searcher=DuckDuckGoSearchRun()\n",
    "internet_searcher.invoke(\"who is patrick Debois?\")"
   ]
  },
  {
   "cell_type": "code",
   "execution_count": 22,
   "metadata": {},
   "outputs": [],
   "source": [
    "# Add search as a tool to the agent toolbox\n",
    "from langchain.agents import Tool\n",
    "tools = [\n",
    "    Tool(\n",
    "        name=\"Current Search\",\n",
    "        func=internet_searcher.run,\n",
    "        description=\"useful for when you need to answer questions about current events or the current state of the world\",\n",
    "    ),\n",
    "]\n",
    "\n",
    "# Alternatively you can just add them as a tool\n",
    "tools = [internet_searcher]"
   ]
  },
  {
   "cell_type": "code",
   "execution_count": 23,
   "metadata": {},
   "outputs": [],
   "source": [
    "from _lessonshelper.pretty_print_callback_handler import PrettyPrintCallbackHandler\n",
    "pretty_callback = PrettyPrintCallbackHandler()"
   ]
  },
  {
   "cell_type": "markdown",
   "metadata": {},
   "source": [
    "Agents typically run multiple calls until they reach a goal. Therefore they have a memory."
   ]
  },
  {
   "cell_type": "code",
   "execution_count": 24,
   "metadata": {},
   "outputs": [],
   "source": [
    "# Give the agent memory\n",
    "from langchain.memory import ConversationBufferMemory\n",
    "\n",
    "memory = ConversationBufferMemory(memory_key=\"chat_history\")\n",
    "\n",
    "# Prepare the LLM for the agent to use\n",
    "from langchain_openai import OpenAI\n",
    "llm = OpenAI(temperature=0, callbacks=[pretty_callback])"
   ]
  },
  {
   "cell_type": "markdown",
   "metadata": {},
   "source": [
    "To reach that goal , agents follow a strategy to get to that goal.\n",
    "And to act on it , they will have tools at their disposal."
   ]
  },
  {
   "cell_type": "code",
   "execution_count": 25,
   "metadata": {},
   "outputs": [
    {
     "name": "stdout",
     "output_type": "stream",
     "text": [
      "[chain][start] - inputs {'input': 'whats the current temperature in London?', 'chat_history': ''}\n",
      "\n",
      "=============\n",
      "[llm][start] - prompts: Assistant is a large language model trained by OpenAI.\n",
      "\n",
      "Assistant is designed to be able to assist with a wide range of tasks, from answering simple questions to providing in-depth explanations and discussions on a wide range of topics. As a language model, Assistant is able to generate human-like text based on the input it receives, allowing it to engage in natural-sounding conversations and provide responses that are coherent and relevant to the topic at hand.\n",
      "\n",
      "Assistant is constantly learning and improving, and its capabilities are constantly evolving. It is able to process and understand large amounts of text, and can use this knowledge to provide accurate and informative responses to a wide range of questions. Additionally, Assistant is able to generate its own text based on the input it receives, allowing it to engage in discussions and provide explanations and descriptions on a wide range of topics.\n",
      "\n",
      "Overall, Assistant is a powerful tool that can help with a wide range of tasks and provide valuable insights and information on a wide range of topics. Whether you need help with a specific question or just want to have a conversation about a particular topic, Assistant is here to assist.\n",
      "\n",
      "TOOLS:\n",
      "------\n",
      "\n",
      "Assistant has access to the following tools:\n",
      "\n",
      "> duckduckgo_search: A wrapper around DuckDuckGo Search. Useful for when you need to answer questions about current events. Input should be a search query.\n",
      "\n",
      "To use a tool, please use the following format:\n",
      "\n",
      "```\n",
      "Thought: Do I need to use a tool? Yes\n",
      "Action: the action to take, should be one of [duckduckgo_search]\n",
      "Action Input: the input to the action\n",
      "Observation: the result of the action\n",
      "```\n",
      "\n",
      "When you have a response to say to the Human, or if you do not need to use a tool, you MUST use the format:\n",
      "\n",
      "```\n",
      "Thought: Do I need to use a tool? No\n",
      "AI: [your response here]\n",
      "```\n",
      "\n",
      "Begin!\n",
      "\n",
      "Previous conversation history:\n",
      "\n",
      "\n",
      "New input: whats the current temperature in London?\n",
      "\n",
      "\n",
      "=============\n",
      "[llm][end] - generation \n",
      "Thought: Do I need to use a tool? Yes\n",
      "Action: duckduckgo_search\n",
      "Action Input: current temperature in London\n",
      "[agent][action] - action: tool='duckduckgo_search' tool_input='current temperature in London' log='\\nThought: Do I need to use a tool? Yes\\nAction: duckduckgo_search\\nAction Input: current temperature in London'\n"
     ]
    },
    {
     "name": "stderr",
     "output_type": "stream",
     "text": [
      "/Users/patrick.debois/Library/Caches/pypoetry/virtualenvs/learning-llms-and-genai-for-dev-sec-ops-Sv6v5t2W-py3.11/lib/python3.11/site-packages/langchain_community/utilities/duckduckgo_search.py:47: UserWarning: DDGS running in an async loop. This may cause errors. Use AsyncDDGS instead.\n",
      "  with DDGS() as ddgs:\n"
     ]
    },
    {
     "name": "stdout",
     "output_type": "stream",
     "text": [
      "\n",
      "=============\n",
      "[llm][start] - prompts: Assistant is a large language model trained by OpenAI.\n",
      "\n",
      "Assistant is designed to be able to assist with a wide range of tasks, from answering simple questions to providing in-depth explanations and discussions on a wide range of topics. As a language model, Assistant is able to generate human-like text based on the input it receives, allowing it to engage in natural-sounding conversations and provide responses that are coherent and relevant to the topic at hand.\n",
      "\n",
      "Assistant is constantly learning and improving, and its capabilities are constantly evolving. It is able to process and understand large amounts of text, and can use this knowledge to provide accurate and informative responses to a wide range of questions. Additionally, Assistant is able to generate its own text based on the input it receives, allowing it to engage in discussions and provide explanations and descriptions on a wide range of topics.\n",
      "\n",
      "Overall, Assistant is a powerful tool that can help with a wide range of tasks and provide valuable insights and information on a wide range of topics. Whether you need help with a specific question or just want to have a conversation about a particular topic, Assistant is here to assist.\n",
      "\n",
      "TOOLS:\n",
      "------\n",
      "\n",
      "Assistant has access to the following tools:\n",
      "\n",
      "> duckduckgo_search: A wrapper around DuckDuckGo Search. Useful for when you need to answer questions about current events. Input should be a search query.\n",
      "\n",
      "To use a tool, please use the following format:\n",
      "\n",
      "```\n",
      "Thought: Do I need to use a tool? Yes\n",
      "Action: the action to take, should be one of [duckduckgo_search]\n",
      "Action Input: the input to the action\n",
      "Observation: the result of the action\n",
      "```\n",
      "\n",
      "When you have a response to say to the Human, or if you do not need to use a tool, you MUST use the format:\n",
      "\n",
      "```\n",
      "Thought: Do I need to use a tool? No\n",
      "AI: [your response here]\n",
      "```\n",
      "\n",
      "Begin!\n",
      "\n",
      "Previous conversation history:\n",
      "\n",
      "\n",
      "New input: whats the current temperature in London?\n",
      "\n",
      "Thought: Do I need to use a tool? Yes\n",
      "Action: duckduckgo_search\n",
      "Action Input: current temperature in London\n",
      "Observation: The current temperature in London is 6 degrees Celsius, with a light rain changing to overcast by nighttime. The UV index is low and the pollution is low. The forecast for the next seven days shows a range of temperatures from 0 to 8 degrees Celsius, with a chance of precipitation on some days. Elev 92 ft, 51.51 °N, 0.13 °W London, England, United Kingdom 10-Day Weather Forecast star_ratehome 47 Charing Cross Station | Change Current Station Personal Weather Station Charing Cross... 12° 10° Sat 3 Feb 12° 9° Today Monday Tuesday Wednesday Thursday Friday Saturday Updated: 16:38 (UTC) on Sun 28 Jan 2024 Show full forecast Forecast table explained i Last 24 hours UK video... London Weather London 19:00 Saturday Cloudy 4° Feels like 1° Last Quarter Illuminated: 97% Hourly Overcast skies for the next few hours 1 - 7 days 8 - 14 days Hourly Trending news Clouds map Weather Radar Satellites Models Today 27 Jan 9° / -1° 11 - 19 mph Tomorrow 28 Jan 11° / 3° 9 - 16 mph Monday 29 Jan 14° / 7° 12 - 19 mph 6°C. 1033mb. 66%. 2°C. Find out what the weather is doing right now across the UK.\n",
      "Thought:\n",
      "\n",
      "=============\n",
      "[llm][end] - generation  Do I need to use a tool? No\n",
      "AI: The current temperature in London is 6 degrees Celsius, with a light rain changing to overcast by nighttime. The UV index is low and the pollution is low. The forecast for the next seven days shows a range of temperatures from 0 to 8 degrees Celsius, with a chance of precipitation on some days.\n",
      "[agent][finish] - finish: return_values={'output': 'The current temperature in London is 6 degrees Celsius, with a light rain changing to overcast by nighttime. The UV index is low and the pollution is low. The forecast for the next seven days shows a range of temperatures from 0 to 8 degrees Celsius, with a chance of precipitation on some days.'} log=' Do I need to use a tool? No\\nAI: The current temperature in London is 6 degrees Celsius, with a light rain changing to overcast by nighttime. The UV index is low and the pollution is low. The forecast for the next seven days shows a range of temperatures from 0 to 8 degrees Celsius, with a chance of precipitation on some days.'\n",
      "[chain][end] - outputs: {'output': 'The current temperature in London is 6 degrees Celsius, with a light rain changing to overcast by nighttime. The UV index is low and the pollution is low. The forecast for the next seven days shows a range of temperatures from 0 to 8 degrees Celsius, with a chance of precipitation on some days.'}\n"
     ]
    },
    {
     "data": {
      "text/plain": [
       "{'input': 'whats the current temperature in London?',\n",
       " 'chat_history': '',\n",
       " 'output': 'The current temperature in London is 6 degrees Celsius, with a light rain changing to overcast by nighttime. The UV index is low and the pollution is low. The forecast for the next seven days shows a range of temperatures from 0 to 8 degrees Celsius, with a chance of precipitation on some days.'}"
      ]
     },
     "execution_count": 25,
     "metadata": {},
     "output_type": "execute_result"
    }
   ],
   "source": [
    "# Now initialize the agent\n",
    "from langchain.agents import AgentType\n",
    "from langchain.agents import initialize_agent\n",
    "agent_chain = initialize_agent(\n",
    "    llm=llm,\n",
    "    tools=tools,\n",
    "    agent=AgentType.CONVERSATIONAL_REACT_DESCRIPTION,\n",
    "    memory=memory\n",
    ")\n",
    "agent_chain.callbacks = [pretty_callback]\n",
    "\n",
    "agent_chain.invoke(input=\"whats the current temperature in London?\")"
   ]
  }
 ],
 "metadata": {
  "kernelspec": {
   "display_name": "london-devops-VW7lFx7f-py3.11",
   "language": "python",
   "name": "python3"
  },
  "language_info": {
   "codemirror_mode": {
    "name": "ipython",
    "version": 3
   },
   "file_extension": ".py",
   "mimetype": "text/x-python",
   "name": "python",
   "nbconvert_exporter": "python",
   "pygments_lexer": "ipython3",
   "version": "3.11.7"
  },
  "orig_nbformat": 4
 },
 "nbformat": 4,
 "nbformat_minor": 2
}
