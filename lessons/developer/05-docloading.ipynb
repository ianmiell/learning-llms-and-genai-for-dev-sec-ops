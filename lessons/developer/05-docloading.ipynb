{
 "cells": [
  {
   "cell_type": "markdown",
   "metadata": {},
   "source": [
    "Now that we got the prompts loaded and the lls answering our questions, we dive into mixing the llms with our own content. This is useful because llms usually have a knowledge date cut off and also we don't want private information to leak into public llms. An important technique for this is called *RAG : Retrieval Augmented Generation*.\n",
    "\n",
    "Langchain has a set of documentloader to load & parse different formats."
   ]
  },
  {
   "cell_type": "code",
   "execution_count": 1,
   "metadata": {},
   "outputs": [
    {
     "name": "stdout",
     "output_type": "stream",
     "text": [
      "Requirement already satisfied: langchain in /Users/patrick.debois/Library/Caches/pypoetry/virtualenvs/learning-llms-and-genai-for-dev-sec-ops-Sv6v5t2W-py3.11/lib/python3.11/site-packages (0.1.5)\n",
      "Requirement already satisfied: PyYAML>=5.3 in /Users/patrick.debois/Library/Caches/pypoetry/virtualenvs/learning-llms-and-genai-for-dev-sec-ops-Sv6v5t2W-py3.11/lib/python3.11/site-packages (from langchain) (6.0.1)\n",
      "Requirement already satisfied: SQLAlchemy<3,>=1.4 in /Users/patrick.debois/Library/Caches/pypoetry/virtualenvs/learning-llms-and-genai-for-dev-sec-ops-Sv6v5t2W-py3.11/lib/python3.11/site-packages (from langchain) (2.0.25)\n",
      "Requirement already satisfied: aiohttp<4.0.0,>=3.8.3 in /Users/patrick.debois/Library/Caches/pypoetry/virtualenvs/learning-llms-and-genai-for-dev-sec-ops-Sv6v5t2W-py3.11/lib/python3.11/site-packages (from langchain) (3.9.3)\n",
      "Requirement already satisfied: dataclasses-json<0.7,>=0.5.7 in /Users/patrick.debois/Library/Caches/pypoetry/virtualenvs/learning-llms-and-genai-for-dev-sec-ops-Sv6v5t2W-py3.11/lib/python3.11/site-packages (from langchain) (0.6.4)\n",
      "Requirement already satisfied: jsonpatch<2.0,>=1.33 in /Users/patrick.debois/Library/Caches/pypoetry/virtualenvs/learning-llms-and-genai-for-dev-sec-ops-Sv6v5t2W-py3.11/lib/python3.11/site-packages (from langchain) (1.33)\n",
      "Requirement already satisfied: langchain-community<0.1,>=0.0.17 in /Users/patrick.debois/Library/Caches/pypoetry/virtualenvs/learning-llms-and-genai-for-dev-sec-ops-Sv6v5t2W-py3.11/lib/python3.11/site-packages (from langchain) (0.0.17)\n",
      "Requirement already satisfied: langchain-core<0.2,>=0.1.16 in /Users/patrick.debois/Library/Caches/pypoetry/virtualenvs/learning-llms-and-genai-for-dev-sec-ops-Sv6v5t2W-py3.11/lib/python3.11/site-packages (from langchain) (0.1.18)\n",
      "Requirement already satisfied: langsmith<0.1,>=0.0.83 in /Users/patrick.debois/Library/Caches/pypoetry/virtualenvs/learning-llms-and-genai-for-dev-sec-ops-Sv6v5t2W-py3.11/lib/python3.11/site-packages (from langchain) (0.0.86)\n",
      "Requirement already satisfied: numpy<2,>=1 in /Users/patrick.debois/Library/Caches/pypoetry/virtualenvs/learning-llms-and-genai-for-dev-sec-ops-Sv6v5t2W-py3.11/lib/python3.11/site-packages (from langchain) (1.26.3)\n",
      "Requirement already satisfied: pydantic<3,>=1 in /Users/patrick.debois/Library/Caches/pypoetry/virtualenvs/learning-llms-and-genai-for-dev-sec-ops-Sv6v5t2W-py3.11/lib/python3.11/site-packages (from langchain) (2.6.0)\n",
      "Requirement already satisfied: requests<3,>=2 in /Users/patrick.debois/Library/Caches/pypoetry/virtualenvs/learning-llms-and-genai-for-dev-sec-ops-Sv6v5t2W-py3.11/lib/python3.11/site-packages (from langchain) (2.31.0)\n",
      "Requirement already satisfied: tenacity<9.0.0,>=8.1.0 in /Users/patrick.debois/Library/Caches/pypoetry/virtualenvs/learning-llms-and-genai-for-dev-sec-ops-Sv6v5t2W-py3.11/lib/python3.11/site-packages (from langchain) (8.2.3)\n",
      "Requirement already satisfied: aiosignal>=1.1.2 in /Users/patrick.debois/Library/Caches/pypoetry/virtualenvs/learning-llms-and-genai-for-dev-sec-ops-Sv6v5t2W-py3.11/lib/python3.11/site-packages (from aiohttp<4.0.0,>=3.8.3->langchain) (1.3.1)\n",
      "Requirement already satisfied: attrs>=17.3.0 in /Users/patrick.debois/Library/Caches/pypoetry/virtualenvs/learning-llms-and-genai-for-dev-sec-ops-Sv6v5t2W-py3.11/lib/python3.11/site-packages (from aiohttp<4.0.0,>=3.8.3->langchain) (23.2.0)\n",
      "Requirement already satisfied: frozenlist>=1.1.1 in /Users/patrick.debois/Library/Caches/pypoetry/virtualenvs/learning-llms-and-genai-for-dev-sec-ops-Sv6v5t2W-py3.11/lib/python3.11/site-packages (from aiohttp<4.0.0,>=3.8.3->langchain) (1.4.1)\n",
      "Requirement already satisfied: multidict<7.0,>=4.5 in /Users/patrick.debois/Library/Caches/pypoetry/virtualenvs/learning-llms-and-genai-for-dev-sec-ops-Sv6v5t2W-py3.11/lib/python3.11/site-packages (from aiohttp<4.0.0,>=3.8.3->langchain) (6.0.5)\n",
      "Requirement already satisfied: yarl<2.0,>=1.0 in /Users/patrick.debois/Library/Caches/pypoetry/virtualenvs/learning-llms-and-genai-for-dev-sec-ops-Sv6v5t2W-py3.11/lib/python3.11/site-packages (from aiohttp<4.0.0,>=3.8.3->langchain) (1.9.4)\n",
      "Requirement already satisfied: marshmallow<4.0.0,>=3.18.0 in /Users/patrick.debois/Library/Caches/pypoetry/virtualenvs/learning-llms-and-genai-for-dev-sec-ops-Sv6v5t2W-py3.11/lib/python3.11/site-packages (from dataclasses-json<0.7,>=0.5.7->langchain) (3.20.2)\n",
      "Requirement already satisfied: typing-inspect<1,>=0.4.0 in /Users/patrick.debois/Library/Caches/pypoetry/virtualenvs/learning-llms-and-genai-for-dev-sec-ops-Sv6v5t2W-py3.11/lib/python3.11/site-packages (from dataclasses-json<0.7,>=0.5.7->langchain) (0.9.0)\n",
      "Requirement already satisfied: jsonpointer>=1.9 in /Users/patrick.debois/Library/Caches/pypoetry/virtualenvs/learning-llms-and-genai-for-dev-sec-ops-Sv6v5t2W-py3.11/lib/python3.11/site-packages (from jsonpatch<2.0,>=1.33->langchain) (2.4)\n",
      "Requirement already satisfied: anyio<5,>=3 in /Users/patrick.debois/Library/Caches/pypoetry/virtualenvs/learning-llms-and-genai-for-dev-sec-ops-Sv6v5t2W-py3.11/lib/python3.11/site-packages (from langchain-core<0.2,>=0.1.16->langchain) (4.2.0)\n",
      "Requirement already satisfied: packaging<24.0,>=23.2 in /Users/patrick.debois/Library/Caches/pypoetry/virtualenvs/learning-llms-and-genai-for-dev-sec-ops-Sv6v5t2W-py3.11/lib/python3.11/site-packages (from langchain-core<0.2,>=0.1.16->langchain) (23.2)\n",
      "Requirement already satisfied: annotated-types>=0.4.0 in /Users/patrick.debois/Library/Caches/pypoetry/virtualenvs/learning-llms-and-genai-for-dev-sec-ops-Sv6v5t2W-py3.11/lib/python3.11/site-packages (from pydantic<3,>=1->langchain) (0.6.0)\n",
      "Requirement already satisfied: pydantic-core==2.16.1 in /Users/patrick.debois/Library/Caches/pypoetry/virtualenvs/learning-llms-and-genai-for-dev-sec-ops-Sv6v5t2W-py3.11/lib/python3.11/site-packages (from pydantic<3,>=1->langchain) (2.16.1)\n",
      "Requirement already satisfied: typing-extensions>=4.6.1 in /Users/patrick.debois/Library/Caches/pypoetry/virtualenvs/learning-llms-and-genai-for-dev-sec-ops-Sv6v5t2W-py3.11/lib/python3.11/site-packages (from pydantic<3,>=1->langchain) (4.9.0)\n",
      "Requirement already satisfied: charset-normalizer<4,>=2 in /Users/patrick.debois/Library/Caches/pypoetry/virtualenvs/learning-llms-and-genai-for-dev-sec-ops-Sv6v5t2W-py3.11/lib/python3.11/site-packages (from requests<3,>=2->langchain) (3.3.2)\n",
      "Requirement already satisfied: idna<4,>=2.5 in /Users/patrick.debois/Library/Caches/pypoetry/virtualenvs/learning-llms-and-genai-for-dev-sec-ops-Sv6v5t2W-py3.11/lib/python3.11/site-packages (from requests<3,>=2->langchain) (3.6)\n",
      "Requirement already satisfied: urllib3<3,>=1.21.1 in /Users/patrick.debois/Library/Caches/pypoetry/virtualenvs/learning-llms-and-genai-for-dev-sec-ops-Sv6v5t2W-py3.11/lib/python3.11/site-packages (from requests<3,>=2->langchain) (2.2.0)\n",
      "Requirement already satisfied: certifi>=2017.4.17 in /Users/patrick.debois/Library/Caches/pypoetry/virtualenvs/learning-llms-and-genai-for-dev-sec-ops-Sv6v5t2W-py3.11/lib/python3.11/site-packages (from requests<3,>=2->langchain) (2024.2.2)\n",
      "Requirement already satisfied: sniffio>=1.1 in /Users/patrick.debois/Library/Caches/pypoetry/virtualenvs/learning-llms-and-genai-for-dev-sec-ops-Sv6v5t2W-py3.11/lib/python3.11/site-packages (from anyio<5,>=3->langchain-core<0.2,>=0.1.16->langchain) (1.3.0)\n",
      "Requirement already satisfied: mypy-extensions>=0.3.0 in /Users/patrick.debois/Library/Caches/pypoetry/virtualenvs/learning-llms-and-genai-for-dev-sec-ops-Sv6v5t2W-py3.11/lib/python3.11/site-packages (from typing-inspect<1,>=0.4.0->dataclasses-json<0.7,>=0.5.7->langchain) (1.0.0)\n",
      "\n",
      "\u001b[1m[\u001b[0m\u001b[34;49mnotice\u001b[0m\u001b[1;39;49m]\u001b[0m\u001b[39;49m A new release of pip is available: \u001b[0m\u001b[31;49m23.3.1\u001b[0m\u001b[39;49m -> \u001b[0m\u001b[32;49m24.0\u001b[0m\n",
      "\u001b[1m[\u001b[0m\u001b[34;49mnotice\u001b[0m\u001b[1;39;49m]\u001b[0m\u001b[39;49m To update, run: \u001b[0m\u001b[32;49mpip install --upgrade pip\u001b[0m\n",
      "Note: you may need to restart the kernel to use updated packages.\n"
     ]
    }
   ],
   "source": [
    "%pip install langchain"
   ]
  },
  {
   "cell_type": "markdown",
   "metadata": {},
   "source": [
    "A first loader could be to load simple text. We will load a markdown file as a text first to show the difference. With the generic text loader you it loads the file as is and does not try to interprete the content."
   ]
  },
  {
   "cell_type": "code",
   "execution_count": 2,
   "metadata": {},
   "outputs": [
    {
     "data": {
      "text/plain": [
       "[Document(page_content='# A history lesson on Devops\\n\\n## Devopsdays\\n\\nDevopsdays is a worldwide series of technical conferences covering topics of software development, IT infrastructure operations, and the intersection between them. Each event is run by volunteers from the local area.\\n\\nMost devopsdays events feature a combination of curated talks (see open Calls for Proposals) and self organized open space content. Topics often include automation, testing, security, and organizational culture.\\n\\n### History\\nThe first devopsdays was held in Ghent, Belgium in 2009. Since then, devopsdays events have multiplied, and if there isn’t one in your city, check out the information about organizing one yourself!\\n\\n### About the organization\\nThe devopsdays global core team guides local organizers in hosting their own devopsdays events worldwide. Active core organizers onboard and guide events, answer questions, and maintain the website. Advisory core organizers are less involved day-to-day but weigh in on important matters and assist as needed. Emeritus core organizers are no longer involved in the core team; we thank them for their past efforts.\\n\\n\\n## Devops Handbook authors\\nThe Devops Handbook was written by the following authors: Gene Kim, Jez Humble , John Willis , Patrick Debois and John Allspaw.\\n\\nGene Kim is a multiple award-winning entrepreneur, the founder and former CTO of Tripwire and a researcher. He is passionate about IT operations, security and compliance, and how IT organizations successfully transform from \"good to great.\"\\x9d He lives in Portland, Oregon.\\n\\nJez Humble is an award-winning author and researcher on software who has spent his career tinkering with code, infrastructure, and product development in organizations of varying sizes across three continents. He works at 18F, teaches at UC Berkeley, and is co-founder of DevOps Research and Assessment LLC.\\n\\nPatrick Debois is an independent IT-consultant who is bridging the gap between projects and operations by using Agile techniques both in development, project management and system administration.\\n\\nJohn Willis has worked in the IT management industry for more than 30 years. He has authored six IBM Redbooks for IBM on enterprise systems management and was the founder and chief architect at Chain Bridge Systems. He lives in Atlanta, Georgia.\\n\\n## DevSecOps\\nAs a reaction of Devops, Security got its own name and movement.\\nNotably it talks about Shifting Security left.', metadata={'source': './data/history.md'})]"
      ]
     },
     "execution_count": 2,
     "metadata": {},
     "output_type": "execute_result"
    }
   ],
   "source": [
    "# Load a doc as text file\n",
    "from langchain.document_loaders import TextLoader\n",
    "\n",
    "loader = TextLoader(\"./data/history.md\")\n",
    "loader.load()"
   ]
  },
  {
   "cell_type": "markdown",
   "metadata": {},
   "source": [
    "We can now do the same with a Markdownloader. For that we install a few extra packages."
   ]
  },
  {
   "cell_type": "code",
   "execution_count": 3,
   "metadata": {},
   "outputs": [
    {
     "name": "stdout",
     "output_type": "stream",
     "text": [
      "Requirement already satisfied: unstructured in /Users/patrick.debois/Library/Caches/pypoetry/virtualenvs/learning-llms-and-genai-for-dev-sec-ops-Sv6v5t2W-py3.11/lib/python3.11/site-packages (0.12.3)\n",
      "Requirement already satisfied: markdown in /Users/patrick.debois/Library/Caches/pypoetry/virtualenvs/learning-llms-and-genai-for-dev-sec-ops-Sv6v5t2W-py3.11/lib/python3.11/site-packages (3.5.2)\n",
      "Requirement already satisfied: chardet in /Users/patrick.debois/Library/Caches/pypoetry/virtualenvs/learning-llms-and-genai-for-dev-sec-ops-Sv6v5t2W-py3.11/lib/python3.11/site-packages (from unstructured) (5.2.0)\n",
      "Requirement already satisfied: filetype in /Users/patrick.debois/Library/Caches/pypoetry/virtualenvs/learning-llms-and-genai-for-dev-sec-ops-Sv6v5t2W-py3.11/lib/python3.11/site-packages (from unstructured) (1.2.0)\n",
      "Requirement already satisfied: python-magic in /Users/patrick.debois/Library/Caches/pypoetry/virtualenvs/learning-llms-and-genai-for-dev-sec-ops-Sv6v5t2W-py3.11/lib/python3.11/site-packages (from unstructured) (0.4.27)\n",
      "Requirement already satisfied: lxml in /Users/patrick.debois/Library/Caches/pypoetry/virtualenvs/learning-llms-and-genai-for-dev-sec-ops-Sv6v5t2W-py3.11/lib/python3.11/site-packages (from unstructured) (5.1.0)\n",
      "Requirement already satisfied: nltk in /Users/patrick.debois/Library/Caches/pypoetry/virtualenvs/learning-llms-and-genai-for-dev-sec-ops-Sv6v5t2W-py3.11/lib/python3.11/site-packages (from unstructured) (3.8.1)\n",
      "Requirement already satisfied: tabulate in /Users/patrick.debois/Library/Caches/pypoetry/virtualenvs/learning-llms-and-genai-for-dev-sec-ops-Sv6v5t2W-py3.11/lib/python3.11/site-packages (from unstructured) (0.9.0)\n",
      "Requirement already satisfied: requests in /Users/patrick.debois/Library/Caches/pypoetry/virtualenvs/learning-llms-and-genai-for-dev-sec-ops-Sv6v5t2W-py3.11/lib/python3.11/site-packages (from unstructured) (2.31.0)\n",
      "Requirement already satisfied: beautifulsoup4 in /Users/patrick.debois/Library/Caches/pypoetry/virtualenvs/learning-llms-and-genai-for-dev-sec-ops-Sv6v5t2W-py3.11/lib/python3.11/site-packages (from unstructured) (4.12.3)\n",
      "Requirement already satisfied: emoji in /Users/patrick.debois/Library/Caches/pypoetry/virtualenvs/learning-llms-and-genai-for-dev-sec-ops-Sv6v5t2W-py3.11/lib/python3.11/site-packages (from unstructured) (2.10.1)\n",
      "Requirement already satisfied: dataclasses-json in /Users/patrick.debois/Library/Caches/pypoetry/virtualenvs/learning-llms-and-genai-for-dev-sec-ops-Sv6v5t2W-py3.11/lib/python3.11/site-packages (from unstructured) (0.6.4)\n",
      "Requirement already satisfied: python-iso639 in /Users/patrick.debois/Library/Caches/pypoetry/virtualenvs/learning-llms-and-genai-for-dev-sec-ops-Sv6v5t2W-py3.11/lib/python3.11/site-packages (from unstructured) (2024.1.2)\n",
      "Requirement already satisfied: langdetect in /Users/patrick.debois/Library/Caches/pypoetry/virtualenvs/learning-llms-and-genai-for-dev-sec-ops-Sv6v5t2W-py3.11/lib/python3.11/site-packages (from unstructured) (1.0.9)\n",
      "Requirement already satisfied: numpy in /Users/patrick.debois/Library/Caches/pypoetry/virtualenvs/learning-llms-and-genai-for-dev-sec-ops-Sv6v5t2W-py3.11/lib/python3.11/site-packages (from unstructured) (1.26.3)\n",
      "Requirement already satisfied: rapidfuzz in /Users/patrick.debois/Library/Caches/pypoetry/virtualenvs/learning-llms-and-genai-for-dev-sec-ops-Sv6v5t2W-py3.11/lib/python3.11/site-packages (from unstructured) (3.6.1)\n",
      "Requirement already satisfied: backoff in /Users/patrick.debois/Library/Caches/pypoetry/virtualenvs/learning-llms-and-genai-for-dev-sec-ops-Sv6v5t2W-py3.11/lib/python3.11/site-packages (from unstructured) (2.2.1)\n",
      "Requirement already satisfied: typing-extensions in /Users/patrick.debois/Library/Caches/pypoetry/virtualenvs/learning-llms-and-genai-for-dev-sec-ops-Sv6v5t2W-py3.11/lib/python3.11/site-packages (from unstructured) (4.9.0)\n",
      "Requirement already satisfied: unstructured-client>=0.15.1 in /Users/patrick.debois/Library/Caches/pypoetry/virtualenvs/learning-llms-and-genai-for-dev-sec-ops-Sv6v5t2W-py3.11/lib/python3.11/site-packages (from unstructured) (0.17.0)\n",
      "Requirement already satisfied: wrapt in /Users/patrick.debois/Library/Caches/pypoetry/virtualenvs/learning-llms-and-genai-for-dev-sec-ops-Sv6v5t2W-py3.11/lib/python3.11/site-packages (from unstructured) (1.16.0)\n",
      "Requirement already satisfied: certifi>=2023.7.22 in /Users/patrick.debois/Library/Caches/pypoetry/virtualenvs/learning-llms-and-genai-for-dev-sec-ops-Sv6v5t2W-py3.11/lib/python3.11/site-packages (from unstructured-client>=0.15.1->unstructured) (2024.2.2)\n",
      "Requirement already satisfied: charset-normalizer>=3.2.0 in /Users/patrick.debois/Library/Caches/pypoetry/virtualenvs/learning-llms-and-genai-for-dev-sec-ops-Sv6v5t2W-py3.11/lib/python3.11/site-packages (from unstructured-client>=0.15.1->unstructured) (3.3.2)\n",
      "Requirement already satisfied: dataclasses-json-speakeasy>=0.5.11 in /Users/patrick.debois/Library/Caches/pypoetry/virtualenvs/learning-llms-and-genai-for-dev-sec-ops-Sv6v5t2W-py3.11/lib/python3.11/site-packages (from unstructured-client>=0.15.1->unstructured) (0.5.11)\n",
      "Requirement already satisfied: idna>=3.4 in /Users/patrick.debois/Library/Caches/pypoetry/virtualenvs/learning-llms-and-genai-for-dev-sec-ops-Sv6v5t2W-py3.11/lib/python3.11/site-packages (from unstructured-client>=0.15.1->unstructured) (3.6)\n",
      "Requirement already satisfied: jsonpath-python>=1.0.6 in /Users/patrick.debois/Library/Caches/pypoetry/virtualenvs/learning-llms-and-genai-for-dev-sec-ops-Sv6v5t2W-py3.11/lib/python3.11/site-packages (from unstructured-client>=0.15.1->unstructured) (1.0.6)\n",
      "Requirement already satisfied: marshmallow>=3.19.0 in /Users/patrick.debois/Library/Caches/pypoetry/virtualenvs/learning-llms-and-genai-for-dev-sec-ops-Sv6v5t2W-py3.11/lib/python3.11/site-packages (from unstructured-client>=0.15.1->unstructured) (3.20.2)\n",
      "Requirement already satisfied: mypy-extensions>=1.0.0 in /Users/patrick.debois/Library/Caches/pypoetry/virtualenvs/learning-llms-and-genai-for-dev-sec-ops-Sv6v5t2W-py3.11/lib/python3.11/site-packages (from unstructured-client>=0.15.1->unstructured) (1.0.0)\n",
      "Requirement already satisfied: packaging>=23.1 in /Users/patrick.debois/Library/Caches/pypoetry/virtualenvs/learning-llms-and-genai-for-dev-sec-ops-Sv6v5t2W-py3.11/lib/python3.11/site-packages (from unstructured-client>=0.15.1->unstructured) (23.2)\n",
      "Requirement already satisfied: python-dateutil>=2.8.2 in /Users/patrick.debois/Library/Caches/pypoetry/virtualenvs/learning-llms-and-genai-for-dev-sec-ops-Sv6v5t2W-py3.11/lib/python3.11/site-packages (from unstructured-client>=0.15.1->unstructured) (2.8.2)\n",
      "Requirement already satisfied: six>=1.16.0 in /Users/patrick.debois/Library/Caches/pypoetry/virtualenvs/learning-llms-and-genai-for-dev-sec-ops-Sv6v5t2W-py3.11/lib/python3.11/site-packages (from unstructured-client>=0.15.1->unstructured) (1.16.0)\n",
      "Requirement already satisfied: typing-inspect>=0.9.0 in /Users/patrick.debois/Library/Caches/pypoetry/virtualenvs/learning-llms-and-genai-for-dev-sec-ops-Sv6v5t2W-py3.11/lib/python3.11/site-packages (from unstructured-client>=0.15.1->unstructured) (0.9.0)\n",
      "Requirement already satisfied: urllib3>=1.26.18 in /Users/patrick.debois/Library/Caches/pypoetry/virtualenvs/learning-llms-and-genai-for-dev-sec-ops-Sv6v5t2W-py3.11/lib/python3.11/site-packages (from unstructured-client>=0.15.1->unstructured) (2.2.0)\n",
      "Requirement already satisfied: soupsieve>1.2 in /Users/patrick.debois/Library/Caches/pypoetry/virtualenvs/learning-llms-and-genai-for-dev-sec-ops-Sv6v5t2W-py3.11/lib/python3.11/site-packages (from beautifulsoup4->unstructured) (2.5)\n",
      "Requirement already satisfied: click in /Users/patrick.debois/Library/Caches/pypoetry/virtualenvs/learning-llms-and-genai-for-dev-sec-ops-Sv6v5t2W-py3.11/lib/python3.11/site-packages (from nltk->unstructured) (8.1.7)\n",
      "Requirement already satisfied: joblib in /Users/patrick.debois/Library/Caches/pypoetry/virtualenvs/learning-llms-and-genai-for-dev-sec-ops-Sv6v5t2W-py3.11/lib/python3.11/site-packages (from nltk->unstructured) (1.3.2)\n",
      "Requirement already satisfied: regex>=2021.8.3 in /Users/patrick.debois/Library/Caches/pypoetry/virtualenvs/learning-llms-and-genai-for-dev-sec-ops-Sv6v5t2W-py3.11/lib/python3.11/site-packages (from nltk->unstructured) (2023.12.25)\n",
      "Requirement already satisfied: tqdm in /Users/patrick.debois/Library/Caches/pypoetry/virtualenvs/learning-llms-and-genai-for-dev-sec-ops-Sv6v5t2W-py3.11/lib/python3.11/site-packages (from nltk->unstructured) (4.66.1)\n",
      "\n",
      "\u001b[1m[\u001b[0m\u001b[34;49mnotice\u001b[0m\u001b[1;39;49m]\u001b[0m\u001b[39;49m A new release of pip is available: \u001b[0m\u001b[31;49m23.3.1\u001b[0m\u001b[39;49m -> \u001b[0m\u001b[32;49m24.0\u001b[0m\n",
      "\u001b[1m[\u001b[0m\u001b[34;49mnotice\u001b[0m\u001b[1;39;49m]\u001b[0m\u001b[39;49m To update, run: \u001b[0m\u001b[32;49mpip install --upgrade pip\u001b[0m\n",
      "Note: you may need to restart the kernel to use updated packages.\n"
     ]
    }
   ],
   "source": [
    "%pip install unstructured markdown"
   ]
  },
  {
   "cell_type": "markdown",
   "metadata": {},
   "source": [
    "The difference is that it 'understood' the file and stripped it from any Markdown specific elements."
   ]
  },
  {
   "cell_type": "code",
   "execution_count": 4,
   "metadata": {},
   "outputs": [
    {
     "data": {
      "text/plain": [
       "[Document(page_content='A history lesson on Devops\\n\\nDevopsdays\\n\\nDevopsdays is a worldwide series of technical conferences covering topics of software development, IT infrastructure operations, and the intersection between them. Each event is run by volunteers from the local area.\\n\\nMost devopsdays events feature a combination of curated talks (see open Calls for Proposals) and self organized open space content. Topics often include automation, testing, security, and organizational culture.\\n\\nHistory\\n\\nThe first devopsdays was held in Ghent, Belgium in 2009. Since then, devopsdays events have multiplied, and if there isn’t one in your city, check out the information about organizing one yourself!\\n\\nAbout the organization\\n\\nThe devopsdays global core team guides local organizers in hosting their own devopsdays events worldwide. Active core organizers onboard and guide events, answer questions, and maintain the website. Advisory core organizers are less involved day-to-day but weigh in on important matters and assist as needed. Emeritus core organizers are no longer involved in the core team; we thank them for their past efforts.\\n\\nDevops Handbook authors\\n\\nThe Devops Handbook was written by the following authors: Gene Kim, Jez Humble , John Willis , Patrick Debois and John Allspaw.\\n\\nGene Kim is a multiple award-winning entrepreneur, the founder and former CTO of Tripwire and a researcher. He is passionate about IT operations, security and compliance, and how IT organizations successfully transform from \"good to great.\"\\x9d He lives in Portland, Oregon.\\n\\nJez Humble is an award-winning author and researcher on software who has spent his career tinkering with code, infrastructure, and product development in organizations of varying sizes across three continents. He works at 18F, teaches at UC Berkeley, and is co-founder of DevOps Research and Assessment LLC.\\n\\nPatrick Debois is an independent IT-consultant who is bridging the gap between projects and operations by using Agile techniques both in development, project management and system administration.\\n\\nJohn Willis has worked in the IT management industry for more than 30 years. He has authored six IBM Redbooks for IBM on enterprise systems management and was the founder and chief architect at Chain Bridge Systems. He lives in Atlanta, Georgia.\\n\\nDevSecOps\\n\\nAs a reaction of Devops, Security got its own name and movement.\\nNotably it talks about Shifting Security left.', metadata={'source': './data/history.md'})]"
      ]
     },
     "execution_count": 4,
     "metadata": {},
     "output_type": "execute_result"
    }
   ],
   "source": [
    "from langchain.document_loaders import UnstructuredMarkdownLoader\n",
    "loader = UnstructuredMarkdownLoader(\"./data/history.md\")\n",
    "loader.load()"
   ]
  },
  {
   "cell_type": "markdown",
   "metadata": {},
   "source": [
    "We can similarly load whole directories"
   ]
  },
  {
   "cell_type": "code",
   "execution_count": 5,
   "metadata": {},
   "outputs": [
    {
     "name": "stderr",
     "output_type": "stream",
     "text": [
      "  0%|          | 0/4 [00:00<?, ?it/s]Error loading file data/screenshot.jpg\n",
      "Error loading file data/hotdog.jpg\n",
      "100%|██████████| 4/4 [00:00<00:00, 22.84it/s]\n"
     ]
    },
    {
     "data": {
      "text/plain": [
       "[Document(page_content='A history lesson on Devops\\n\\nDevopsdays\\n\\nDevopsdays is a worldwide series of technical conferences covering topics of software development, IT infrastructure operations, and the intersection between them. Each event is run by volunteers from the local area.\\n\\nMost devopsdays events feature a combination of curated talks (see open Calls for Proposals) and self organized open space content. Topics often include automation, testing, security, and organizational culture.\\n\\nHistory\\n\\nThe first devopsdays was held in Ghent, Belgium in 2009. Since then, devopsdays events have multiplied, and if there isn’t one in your city, check out the information about organizing one yourself!\\n\\nAbout the organization\\n\\nThe devopsdays global core team guides local organizers in hosting their own devopsdays events worldwide. Active core organizers onboard and guide events, answer questions, and maintain the website. Advisory core organizers are less involved day-to-day but weigh in on important matters and assist as needed. Emeritus core organizers are no longer involved in the core team; we thank them for their past efforts.\\n\\nDevops Handbook authors\\n\\nThe Devops Handbook was written by the following authors: Gene Kim, Jez Humble , John Willis , Patrick Debois and John Allspaw.\\n\\nGene Kim is a multiple award-winning entrepreneur, the founder and former CTO of Tripwire and a researcher. He is passionate about IT operations, security and compliance, and how IT organizations successfully transform from \"good to great.\"\\x9d He lives in Portland, Oregon.\\n\\nJez Humble is an award-winning author and researcher on software who has spent his career tinkering with code, infrastructure, and product development in organizations of varying sizes across three continents. He works at 18F, teaches at UC Berkeley, and is co-founder of DevOps Research and Assessment LLC.\\n\\nPatrick Debois is an independent IT-consultant who is bridging the gap between projects and operations by using Agile techniques both in development, project management and system administration.\\n\\nJohn Willis has worked in the IT management industry for more than 30 years. He has authored six IBM Redbooks for IBM on enterprise systems management and was the founder and chief architect at Chain Bridge Systems. He lives in Atlanta, Georgia.\\n\\nDevSecOps\\n\\nAs a reaction of Devops, Security got its own name and movement.\\nNotably it talks about Shifting Security left.', metadata={'source': 'data/history.md'}),\n",
       " Document(page_content='openapi: 3.0.0\\n\\ninfo:\\n\\ntitle: Open-Meteo APIs\\n\\ndescription: \\'Open-Meteo offers free weather forecast APIs for open-source developers and non-commercial use. No API key is required.\\'\\n\\nversion: \\'1.0\\'\\n\\ncontact:\\n\\nname: Open-Meteo\\n\\nurl: https://open-meteo.com\\n\\nemail: info@open-meteo.com\\n\\nlicense:\\n\\nname: Attribution 4.0 International (CC BY 4.0)\\n\\nurl: https://creativecommons.org/licenses/by/4.0/\\n\\ntermsOfService: https://open-meteo.com/en/features#terms\\n\\npaths:\\n\\n/v1/forecast:\\n\\nservers:\\n\\nurl: https://api.open-meteo.com\\n\\nget:\\n\\ntags:\\n\\nWeather Forecast APIs\\n\\nsummary: 7 day weather forecast for coordinates\\n\\ndescription: 7 day weather variables in hourly and daily resolution for given WGS84 latitude and longitude coordinates. Available worldwide.\\n\\nparameters:\\n\\nname: hourly\\n\\nin: query\\n\\nexplode: false\\n\\nschema:\\n\\ntype: array\\n\\nitems:\\n\\ntype: string\\n\\nenum:\\n\\ntemperature_2m\\n\\nrelative_humidity_2m\\n\\ndew_point_2m\\n\\napparent_temperature\\n\\npressure_msl\\n\\ncloud_cover\\n\\ncloud_cover_low\\n\\ncloud_cover_mid\\n\\ncloud_cover_high\\n\\nwind_speed_10m\\n\\nwind_speed_80m\\n\\nwind_speed_120m\\n\\nwind_speed_180m\\n\\nwind_direction_10m\\n\\nwind_direction_80m\\n\\nwind_direction_120m\\n\\nwind_direction_180m\\n\\nwind_gusts_10m\\n\\nshortwave_radiation\\n\\ndirect_radiation\\n\\ndirect_normal_irradiance\\n\\ndiffuse_radiation\\n\\nvapour_pressure_deficit\\n\\nevapotranspiration\\n\\nprecipitation\\n\\nweather_code\\n\\nsnow_height\\n\\nfreezing_level_height\\n\\nsoil_temperature_0cm\\n\\nsoil_temperature_6cm\\n\\nsoil_temperature_18cm\\n\\nsoil_temperature_54cm\\n\\nsoil_moisture_0_1cm\\n\\nsoil_moisture_1_3cm\\n\\nsoil_moisture_3_9cm\\n\\nsoil_moisture_9_27cm\\n\\nsoil_moisture_27_81cm\\n\\nname: daily\\n\\nin: query\\n\\nschema:\\n\\ntype: array\\n\\nitems:\\n\\ntype: string\\n\\nenum:\\n\\ntemperature_2m_max\\n\\ntemperature_2m_min\\n\\napparent_temperature_max\\n\\napparent_temperature_min\\n\\nprecipitation_sum\\n\\nprecipitation_hours\\n\\nweather_code\\n\\nsunrise\\n\\nsunset\\n\\nwind_speed_10m_max\\n\\nwind_gusts_10m_max\\n\\nwind_direction_10m_dominant\\n\\nshortwave_radiation_sum\\n\\nuv_index_max\\n\\nuv_index_clear_sky_max\\n\\net0_fao_evapotranspiration\\n\\nname: latitude\\n\\nin: query\\n\\nrequired: true\\n\\ndescription: \"WGS84 coordinate\"\\n\\nschema:\\n\\ntype: number\\n\\nformat: float\\n\\nname: longitude\\n\\nin: query\\n\\nrequired: true\\n\\ndescription: \"WGS84 coordinate\"\\n\\nschema:\\n\\ntype: number\\n\\nformat: float\\n\\nname: current_weather\\n\\nin: query\\n\\nschema:\\n\\ntype: boolean\\n\\nname: temperature_unit\\n\\nin: query\\n\\nschema:\\n\\ntype: string\\n\\ndefault: celsius\\n\\nenum:\\n\\ncelsius\\n\\nfahrenheit\\n\\nname: wind_speed_unit\\n\\nin: query\\n\\nschema:\\n\\ntype: string\\n\\ndefault: kmh\\n\\nenum:\\n\\nkmh\\n\\nms\\n\\nmph\\n\\nkn\\n\\nname: timeformat\\n\\nin: query\\n\\ndescription: If format `unixtime` is selected, all time values are returned in UNIX epoch time in seconds. Please not that all time is then in GMT+0! For daily values with unix timestamp, please apply `utc_offset_seconds` again to get the correct date.\\n\\nschema:\\n\\ntype: string\\n\\ndefault: iso8601\\n\\nenum:\\n\\niso8601\\n\\nunixtime\\n\\nname: timezone\\n\\nin: query\\n\\ndescription: If `timezone` is set, all timestamps are returned as local-time and data is returned starting at 0:00 local-time. Any time zone name from the [time zone database](https://en.wikipedia.org/wiki/List_of_tz_database_time_zones) is supported.\\n\\nschema:\\n\\ntype: string\\n\\nname: past_days\\n\\nin: query\\n\\ndescription: If `past_days` is set, yesterdays or the day before yesterdays data are also returned.\\n\\nschema:\\n\\ntype: integer\\n\\nenum:\\n\\n1\\n\\n2\\n\\nresponses:\\n\\n200:\\n\\ndescription: OK\\n\\ncontent:\\n\\napplication/json:\\n\\nschema:\\n\\ntype: object\\n\\nproperties:\\n\\nlatitude:\\n\\ntype: number\\n\\nexample: 52.52\\n\\ndescription: WGS84 of the center of the weather grid-cell which was used to generate this forecast. This coordinate might be up to 5 km away.\\n\\nlongitude:\\n\\ntype: number\\n\\nexample: 13.419.52\\n\\ndescription: WGS84 of the center of the weather grid-cell which was used to generate this forecast. This coordinate might be up to 5 km away.\\n\\nelevation:\\n\\ntype: number\\n\\nexample: 44.812\\n\\ndescription: The elevation in meters of the selected weather grid-cell. In mountain terrain it might differ from the location you would expect.\\n\\ngenerationtime_ms:\\n\\ntype: number\\n\\nexample: 2.2119\\n\\ndescription: Generation time of the weather forecast in milli seconds. This is mainly used for performance monitoring and improvements.\\n\\nutc_offset_seconds:\\n\\ntype: integer\\n\\nexample: 3600\\n\\ndescription: Applied timezone offset from the &timezone= parameter.\\n\\nhourly:\\n\\ntype: HourlyResponse\\n\\ndescription: For each selected weather variable, data will be returned as a floating point array. Additionally a `time` array will be returned with ISO8601 timestamps.\\n\\nhourly_units:\\n\\ntype: object\\n\\nadditionalProperties:\\n\\ntype: string\\n\\ndescription: For each selected weather variable, the unit will be listed here.\\n\\ndaily:\\n\\ntype: DailyResponse\\n\\ndescription: For each selected daily weather variable, data will be returned as a floating point array. Additionally a `time` array will be returned with ISO8601 timestamps.\\n\\ndaily_units:\\n\\ntype: object\\n\\nadditionalProperties:\\n\\ntype: string\\n\\ndescription: For each selected daily weather variable, the unit will be listed here.\\n\\ncurrent_weather:\\n\\ntype: CurrentWeather\\n\\ndescription: \"Current weather conditions with the attributes: time, temperature, wind_speed, wind_direction and weather_code\"\\n\\n400:\\n\\ndescription: Bad Request\\n\\ncontent:\\n\\napplication/json:\\n\\nschema:\\n\\ntype: object\\n\\nproperties:\\n\\nerror:\\n\\ntype: boolean\\n\\ndescription: Always set true for errors\\n\\nreason:\\n\\ntype: string\\n\\ndescription: Description of the error\\n\\nexample: \"Latitude must be in range of -90 to 90°. Given: 300\"\\n\\ncomponents:\\n\\nschemas:\\n\\nHourlyResponse:\\n\\ntype: object\\n\\nrequired:\\n\\ntime\\n\\nproperties:\\n\\ntime:\\n\\ntype: array\\n\\nitems:\\n\\ntype: string\\n\\ntemperature_2m:\\n\\ntype: array\\n\\nitems:\\n\\ntype: float\\n\\nrelative_humidity_2m:\\n\\ntype: array\\n\\nitems:\\n\\ntype: float\\n\\ndew_point_2m:\\n\\ntype: array\\n\\nitems:\\n\\ntype: float\\n\\napparent_temperature:\\n\\ntype: array\\n\\nitems:\\n\\ntype: float\\n\\npressure_msl:\\n\\ntype: array\\n\\nitems:\\n\\ntype: float\\n\\ncloud_cover:\\n\\ntype: array\\n\\nitems:\\n\\ntype: float\\n\\ncloud_cover_low:\\n\\ntype: array\\n\\nitems:\\n\\ntype: float\\n\\ncloud_cover_mid:\\n\\ntype: array\\n\\nitems:\\n\\ntype: float\\n\\ncloud_cover_high:\\n\\ntype: array\\n\\nitems:\\n\\ntype: float\\n\\nwind_speed_10m:\\n\\ntype: array\\n\\nitems:\\n\\ntype: float\\n\\nwind_speed_80m:\\n\\ntype: array\\n\\nitems:\\n\\ntype: float\\n\\nwind_speed_120m:\\n\\ntype: array\\n\\nitems:\\n\\ntype: float\\n\\nwind_speed_180m:\\n\\ntype: array\\n\\nitems:\\n\\ntype: float\\n\\nwind_direction_10m:\\n\\ntype: array\\n\\nitems:\\n\\ntype: float\\n\\nwind_direction_80m:\\n\\ntype: array\\n\\nitems:\\n\\ntype: float\\n\\nwind_direction_120m:\\n\\ntype: array\\n\\nitems:\\n\\ntype: float\\n\\nwind_direction_180m:\\n\\ntype: array\\n\\nitems:\\n\\ntype: float\\n\\nwind_gusts_10m:\\n\\ntype: array\\n\\nitems:\\n\\ntype: float\\n\\nshortwave_radiation:\\n\\ntype: array\\n\\nitems:\\n\\ntype: float\\n\\ndirect_radiation:\\n\\ntype: array\\n\\nitems:\\n\\ntype: float\\n\\ndirect_normal_irradiance:\\n\\ntype: array\\n\\nitems:\\n\\ntype: float\\n\\ndiffuse_radiation:\\n\\ntype: array\\n\\nitems:\\n\\ntype: float\\n\\nvapour_pressure_deficit:\\n\\ntype: array\\n\\nitems:\\n\\ntype: float\\n\\nevapotranspiration:\\n\\ntype: array\\n\\nitems:\\n\\ntype: float\\n\\nprecipitation:\\n\\ntype: array\\n\\nitems:\\n\\ntype: float\\n\\nweather_code:\\n\\ntype: array\\n\\nitems:\\n\\ntype: float\\n\\nsnow_height:\\n\\ntype: array\\n\\nitems:\\n\\ntype: float\\n\\nfreezing_level_height:\\n\\ntype: array\\n\\nitems:\\n\\ntype: float\\n\\nsoil_temperature_0cm:\\n\\ntype: array\\n\\nitems:\\n\\ntype: float\\n\\nsoil_temperature_6cm:\\n\\ntype: array\\n\\nitems:\\n\\ntype: float\\n\\nsoil_temperature_18cm:\\n\\ntype: array\\n\\nitems:\\n\\ntype: float\\n\\nsoil_temperature_54cm:\\n\\ntype: array\\n\\nitems:\\n\\ntype: float\\n\\nsoil_moisture_0_1cm:\\n\\ntype: array\\n\\nitems:\\n\\ntype: float\\n\\nsoil_moisture_1_3cm:\\n\\ntype: array\\n\\nitems:\\n\\ntype: float\\n\\nsoil_moisture_3_9cm:\\n\\ntype: array\\n\\nitems:\\n\\ntype: float\\n\\nsoil_moisture_9_27cm:\\n\\ntype: array\\n\\nitems:\\n\\ntype: float\\n\\nsoil_moisture_27_81cm:\\n\\ntype: array\\n\\nitems:\\n\\ntype: float\\n\\nDailyResponse:\\n\\ntype: object\\n\\nproperties:\\n\\ntime:\\n\\ntype: array\\n\\nitems:\\n\\ntype: string\\n\\ntemperature_2m_max:\\n\\ntype: array\\n\\nitems:\\n\\ntype: float\\n\\ntemperature_2m_min:\\n\\ntype: array\\n\\nitems:\\n\\ntype: float\\n\\napparent_temperature_max:\\n\\ntype: array\\n\\nitems:\\n\\ntype: float\\n\\napparent_temperature_min:\\n\\ntype: array\\n\\nitems:\\n\\ntype: float\\n\\nprecipitation_sum:\\n\\ntype: array\\n\\nitems:\\n\\ntype: float\\n\\nprecipitation_hours:\\n\\ntype: array\\n\\nitems:\\n\\ntype: float\\n\\nweather_code:\\n\\ntype: array\\n\\nitems:\\n\\ntype: float\\n\\nsunrise:\\n\\ntype: array\\n\\nitems:\\n\\ntype: float\\n\\nsunset:\\n\\ntype: array\\n\\nitems:\\n\\ntype: float\\n\\nwind_speed_10m_max:\\n\\ntype: array\\n\\nitems:\\n\\ntype: float\\n\\nwind_gusts_10m_max:\\n\\ntype: array\\n\\nitems:\\n\\ntype: float\\n\\nwind_direction_10m_dominant:\\n\\ntype: array\\n\\nitems:\\n\\ntype: float\\n\\nshortwave_radiation_sum:\\n\\ntype: array\\n\\nitems:\\n\\ntype: float\\n\\nuv_index_max:\\n\\ntype: array\\n\\nitems:\\n\\ntype: float\\n\\nuv_index_clear_sky_max:\\n\\ntype: array\\n\\nitems:\\n\\ntype: float\\n\\net0_fao_evapotranspiration:\\n\\ntype: array\\n\\nitems:\\n\\ntype: float\\n\\nrequired:\\n\\ntime\\n\\nCurrentWeather:\\n\\ntype: object\\n\\nproperties:\\n\\ntime:\\n\\ntype: string\\n\\ntemperature:\\n\\ntype: float\\n\\nwind_speed:\\n\\ntype: float\\n\\nwind_direction:\\n\\ntype: float\\n\\nweather_code:\\n\\ntype: int\\n\\nrequired:\\n\\ntime\\n\\ntemperature\\n\\nwind_speed\\n\\nwind_direction\\n\\nweather_code', metadata={'source': 'data/open-meteo.yml'})]"
      ]
     },
     "execution_count": 5,
     "metadata": {},
     "output_type": "execute_result"
    }
   ],
   "source": [
    "from langchain.document_loaders import DirectoryLoader\n",
    "\n",
    "loader = DirectoryLoader(\n",
    "    \"./\",\n",
    "    glob=\"data/**/*.*\",\n",
    "    use_multithreading=True,\n",
    "    max_concurrency=4,\n",
    "    show_progress=True,\n",
    ")\n",
    "loader.load()\n"
   ]
  },
  {
   "cell_type": "markdown",
   "metadata": {},
   "source": [
    "But it does not stop with files , we can load webfiles , and many many other documents from various sources. From Jira tickets to Datadog Logfiles etc.."
   ]
  },
  {
   "cell_type": "code",
   "execution_count": 6,
   "metadata": {},
   "outputs": [
    {
     "name": "stdout",
     "output_type": "stream",
     "text": [
      "[Document(page_content='\\n\\n\\n\\n\\n  Personal website of Patrick Debois – JEDI - Just Enough Documented Information Blog\\n\\n\\n\\n\\n\\n\\n\\n\\n\\n\\n\\n\\n\\n\\n\\n\\n\\n\\n\\n\\n\\n\\n\\n\\n\\n\\n\\n\\n            [Home]\\n            [Blog]\\n            [Contact]\\n         -\\n            [Talks]\\n            [Bio]\\n            [Customers]\\n          \\n\\n\\n\\n\\n\\n\\n\\n\\n\\nSubscribe via email\\n\\n\\n\\n\\n\\nPersonal website of Patrick Debois\\n\\n\\nA warm welcome to you !\\n\\nDuring 15 years of consultancy, I’ve assumed different roles within large enterprises ranging from developer, network specialist, system administrator, tester and project manager.  And because I’ve lived and experienced each role, I can talk to both manager, developer and IT people. Each in their own language.\\n\\nThis allows me to break past silo-based organizational boundaries resulting in smoother project delivery.\\n\\nI currently specialize in applying Agile techniques in infrastructure integration projects or what is sometimes called devops; agile techniques used in development have an impact on the way operations organizes it work. Similar, operations and sysadmins are becoming programmers because of the virtualization and automation trend where everything is managed through an API.\\nThe only way to respond to the increasing business demands, is to improve the flow from projects to operations. It is essential to keep up with the competition. So when was the last time you deployed to production without fear for a catastrophe?\\n\\n\\n\\n\\n\\n\\n\\nTheme: uses Github Markdown\\n          CSS\\n\\n\\n', metadata={'source': 'https://jedi.be', 'title': '\\n  Personal website of Patrick Debois – JEDI - Just Enough Documented Information Blog\\n', 'language': 'No language found.'})]\n"
     ]
    }
   ],
   "source": [
    "# https://python.langchain.com/docs/integrations/document_loaders/web_base\n",
    "from langchain.document_loaders import WebBaseLoader\n",
    "loader = WebBaseLoader(\"https://jedi.be\")\n",
    "\n",
    "data = loader.load()\n",
    "print(data)\n"
   ]
  }
 ],
 "metadata": {
  "kernelspec": {
   "display_name": "london-devops-VW7lFx7f-py3.11",
   "language": "python",
   "name": "python3"
  },
  "language_info": {
   "codemirror_mode": {
    "name": "ipython",
    "version": 3
   },
   "file_extension": ".py",
   "mimetype": "text/x-python",
   "name": "python",
   "nbconvert_exporter": "python",
   "pygments_lexer": "ipython3",
   "version": "3.11.7"
  },
  "orig_nbformat": 4
 },
 "nbformat": 4,
 "nbformat_minor": 2
}
