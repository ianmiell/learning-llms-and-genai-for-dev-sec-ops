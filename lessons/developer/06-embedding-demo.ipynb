{
 "cells": [
  {
   "cell_type": "markdown",
   "metadata": {},
   "source": [
    "Now that we got the document loaded & parsed , the next step is to calculate an \"embedding\" of that text. \n",
    "An embedding in it's simplest form is a multi dimensional mathematical vector that calculates the similarity of a piece of text. Topics and content that are similar have vectors that are close together. \n",
    "\n",
    "Embeddings enhance traditional search engines that use keywords or synonyms. Both have their place, but in this example we'll use embeddings as a way to calculate the proximity of texts.\n",
    "\n",
    "Why similarity you might ask ? Well RAG allows us to provide and LLM more context about a subject when we ask it a question. This context is done by looking up documents that have similarity and giving that information. So in this section we're laying the groundwork for that end-goal."
   ]
  },
  {
   "cell_type": "code",
   "execution_count": 2,
   "metadata": {},
   "outputs": [
    {
     "name": "stdout",
     "output_type": "stream",
     "text": [
      "Requirement already satisfied: langchain in /Users/patrick.debois/Library/Caches/pypoetry/virtualenvs/learning-llms-and-genai-for-dev-sec-ops-Sv6v5t2W-py3.11/lib/python3.11/site-packages (0.1.5)\n",
      "Requirement already satisfied: langchain-openai in /Users/patrick.debois/Library/Caches/pypoetry/virtualenvs/learning-llms-and-genai-for-dev-sec-ops-Sv6v5t2W-py3.11/lib/python3.11/site-packages (0.0.5)\n",
      "Requirement already satisfied: PyYAML>=5.3 in /Users/patrick.debois/Library/Caches/pypoetry/virtualenvs/learning-llms-and-genai-for-dev-sec-ops-Sv6v5t2W-py3.11/lib/python3.11/site-packages (from langchain) (6.0.1)\n",
      "Requirement already satisfied: SQLAlchemy<3,>=1.4 in /Users/patrick.debois/Library/Caches/pypoetry/virtualenvs/learning-llms-and-genai-for-dev-sec-ops-Sv6v5t2W-py3.11/lib/python3.11/site-packages (from langchain) (2.0.25)\n",
      "Requirement already satisfied: aiohttp<4.0.0,>=3.8.3 in /Users/patrick.debois/Library/Caches/pypoetry/virtualenvs/learning-llms-and-genai-for-dev-sec-ops-Sv6v5t2W-py3.11/lib/python3.11/site-packages (from langchain) (3.9.3)\n",
      "Requirement already satisfied: dataclasses-json<0.7,>=0.5.7 in /Users/patrick.debois/Library/Caches/pypoetry/virtualenvs/learning-llms-and-genai-for-dev-sec-ops-Sv6v5t2W-py3.11/lib/python3.11/site-packages (from langchain) (0.6.4)\n",
      "Requirement already satisfied: jsonpatch<2.0,>=1.33 in /Users/patrick.debois/Library/Caches/pypoetry/virtualenvs/learning-llms-and-genai-for-dev-sec-ops-Sv6v5t2W-py3.11/lib/python3.11/site-packages (from langchain) (1.33)\n",
      "Requirement already satisfied: langchain-community<0.1,>=0.0.17 in /Users/patrick.debois/Library/Caches/pypoetry/virtualenvs/learning-llms-and-genai-for-dev-sec-ops-Sv6v5t2W-py3.11/lib/python3.11/site-packages (from langchain) (0.0.17)\n",
      "Requirement already satisfied: langchain-core<0.2,>=0.1.16 in /Users/patrick.debois/Library/Caches/pypoetry/virtualenvs/learning-llms-and-genai-for-dev-sec-ops-Sv6v5t2W-py3.11/lib/python3.11/site-packages (from langchain) (0.1.18)\n",
      "Requirement already satisfied: langsmith<0.1,>=0.0.83 in /Users/patrick.debois/Library/Caches/pypoetry/virtualenvs/learning-llms-and-genai-for-dev-sec-ops-Sv6v5t2W-py3.11/lib/python3.11/site-packages (from langchain) (0.0.86)\n",
      "Requirement already satisfied: numpy<2,>=1 in /Users/patrick.debois/Library/Caches/pypoetry/virtualenvs/learning-llms-and-genai-for-dev-sec-ops-Sv6v5t2W-py3.11/lib/python3.11/site-packages (from langchain) (1.26.3)\n",
      "Requirement already satisfied: pydantic<3,>=1 in /Users/patrick.debois/Library/Caches/pypoetry/virtualenvs/learning-llms-and-genai-for-dev-sec-ops-Sv6v5t2W-py3.11/lib/python3.11/site-packages (from langchain) (2.6.0)\n",
      "Requirement already satisfied: requests<3,>=2 in /Users/patrick.debois/Library/Caches/pypoetry/virtualenvs/learning-llms-and-genai-for-dev-sec-ops-Sv6v5t2W-py3.11/lib/python3.11/site-packages (from langchain) (2.31.0)\n",
      "Requirement already satisfied: tenacity<9.0.0,>=8.1.0 in /Users/patrick.debois/Library/Caches/pypoetry/virtualenvs/learning-llms-and-genai-for-dev-sec-ops-Sv6v5t2W-py3.11/lib/python3.11/site-packages (from langchain) (8.2.3)\n",
      "Requirement already satisfied: openai<2.0.0,>=1.10.0 in /Users/patrick.debois/Library/Caches/pypoetry/virtualenvs/learning-llms-and-genai-for-dev-sec-ops-Sv6v5t2W-py3.11/lib/python3.11/site-packages (from langchain-openai) (1.11.0)\n",
      "Requirement already satisfied: tiktoken<0.6.0,>=0.5.2 in /Users/patrick.debois/Library/Caches/pypoetry/virtualenvs/learning-llms-and-genai-for-dev-sec-ops-Sv6v5t2W-py3.11/lib/python3.11/site-packages (from langchain-openai) (0.5.2)\n",
      "Requirement already satisfied: aiosignal>=1.1.2 in /Users/patrick.debois/Library/Caches/pypoetry/virtualenvs/learning-llms-and-genai-for-dev-sec-ops-Sv6v5t2W-py3.11/lib/python3.11/site-packages (from aiohttp<4.0.0,>=3.8.3->langchain) (1.3.1)\n",
      "Requirement already satisfied: attrs>=17.3.0 in /Users/patrick.debois/Library/Caches/pypoetry/virtualenvs/learning-llms-and-genai-for-dev-sec-ops-Sv6v5t2W-py3.11/lib/python3.11/site-packages (from aiohttp<4.0.0,>=3.8.3->langchain) (23.2.0)\n",
      "Requirement already satisfied: frozenlist>=1.1.1 in /Users/patrick.debois/Library/Caches/pypoetry/virtualenvs/learning-llms-and-genai-for-dev-sec-ops-Sv6v5t2W-py3.11/lib/python3.11/site-packages (from aiohttp<4.0.0,>=3.8.3->langchain) (1.4.1)\n",
      "Requirement already satisfied: multidict<7.0,>=4.5 in /Users/patrick.debois/Library/Caches/pypoetry/virtualenvs/learning-llms-and-genai-for-dev-sec-ops-Sv6v5t2W-py3.11/lib/python3.11/site-packages (from aiohttp<4.0.0,>=3.8.3->langchain) (6.0.5)\n",
      "Requirement already satisfied: yarl<2.0,>=1.0 in /Users/patrick.debois/Library/Caches/pypoetry/virtualenvs/learning-llms-and-genai-for-dev-sec-ops-Sv6v5t2W-py3.11/lib/python3.11/site-packages (from aiohttp<4.0.0,>=3.8.3->langchain) (1.9.4)\n",
      "Requirement already satisfied: marshmallow<4.0.0,>=3.18.0 in /Users/patrick.debois/Library/Caches/pypoetry/virtualenvs/learning-llms-and-genai-for-dev-sec-ops-Sv6v5t2W-py3.11/lib/python3.11/site-packages (from dataclasses-json<0.7,>=0.5.7->langchain) (3.20.2)\n",
      "Requirement already satisfied: typing-inspect<1,>=0.4.0 in /Users/patrick.debois/Library/Caches/pypoetry/virtualenvs/learning-llms-and-genai-for-dev-sec-ops-Sv6v5t2W-py3.11/lib/python3.11/site-packages (from dataclasses-json<0.7,>=0.5.7->langchain) (0.9.0)\n",
      "Requirement already satisfied: jsonpointer>=1.9 in /Users/patrick.debois/Library/Caches/pypoetry/virtualenvs/learning-llms-and-genai-for-dev-sec-ops-Sv6v5t2W-py3.11/lib/python3.11/site-packages (from jsonpatch<2.0,>=1.33->langchain) (2.4)\n",
      "Requirement already satisfied: anyio<5,>=3 in /Users/patrick.debois/Library/Caches/pypoetry/virtualenvs/learning-llms-and-genai-for-dev-sec-ops-Sv6v5t2W-py3.11/lib/python3.11/site-packages (from langchain-core<0.2,>=0.1.16->langchain) (4.2.0)\n",
      "Requirement already satisfied: packaging<24.0,>=23.2 in /Users/patrick.debois/Library/Caches/pypoetry/virtualenvs/learning-llms-and-genai-for-dev-sec-ops-Sv6v5t2W-py3.11/lib/python3.11/site-packages (from langchain-core<0.2,>=0.1.16->langchain) (23.2)\n",
      "Requirement already satisfied: distro<2,>=1.7.0 in /Users/patrick.debois/Library/Caches/pypoetry/virtualenvs/learning-llms-and-genai-for-dev-sec-ops-Sv6v5t2W-py3.11/lib/python3.11/site-packages (from openai<2.0.0,>=1.10.0->langchain-openai) (1.9.0)\n",
      "Requirement already satisfied: httpx<1,>=0.23.0 in /Users/patrick.debois/Library/Caches/pypoetry/virtualenvs/learning-llms-and-genai-for-dev-sec-ops-Sv6v5t2W-py3.11/lib/python3.11/site-packages (from openai<2.0.0,>=1.10.0->langchain-openai) (0.26.0)\n",
      "Requirement already satisfied: sniffio in /Users/patrick.debois/Library/Caches/pypoetry/virtualenvs/learning-llms-and-genai-for-dev-sec-ops-Sv6v5t2W-py3.11/lib/python3.11/site-packages (from openai<2.0.0,>=1.10.0->langchain-openai) (1.3.0)\n",
      "Requirement already satisfied: tqdm>4 in /Users/patrick.debois/Library/Caches/pypoetry/virtualenvs/learning-llms-and-genai-for-dev-sec-ops-Sv6v5t2W-py3.11/lib/python3.11/site-packages (from openai<2.0.0,>=1.10.0->langchain-openai) (4.66.1)\n",
      "Requirement already satisfied: typing-extensions<5,>=4.7 in /Users/patrick.debois/Library/Caches/pypoetry/virtualenvs/learning-llms-and-genai-for-dev-sec-ops-Sv6v5t2W-py3.11/lib/python3.11/site-packages (from openai<2.0.0,>=1.10.0->langchain-openai) (4.9.0)\n",
      "Requirement already satisfied: annotated-types>=0.4.0 in /Users/patrick.debois/Library/Caches/pypoetry/virtualenvs/learning-llms-and-genai-for-dev-sec-ops-Sv6v5t2W-py3.11/lib/python3.11/site-packages (from pydantic<3,>=1->langchain) (0.6.0)\n",
      "Requirement already satisfied: pydantic-core==2.16.1 in /Users/patrick.debois/Library/Caches/pypoetry/virtualenvs/learning-llms-and-genai-for-dev-sec-ops-Sv6v5t2W-py3.11/lib/python3.11/site-packages (from pydantic<3,>=1->langchain) (2.16.1)\n",
      "Requirement already satisfied: charset-normalizer<4,>=2 in /Users/patrick.debois/Library/Caches/pypoetry/virtualenvs/learning-llms-and-genai-for-dev-sec-ops-Sv6v5t2W-py3.11/lib/python3.11/site-packages (from requests<3,>=2->langchain) (3.3.2)\n",
      "Requirement already satisfied: idna<4,>=2.5 in /Users/patrick.debois/Library/Caches/pypoetry/virtualenvs/learning-llms-and-genai-for-dev-sec-ops-Sv6v5t2W-py3.11/lib/python3.11/site-packages (from requests<3,>=2->langchain) (3.6)\n",
      "Requirement already satisfied: urllib3<3,>=1.21.1 in /Users/patrick.debois/Library/Caches/pypoetry/virtualenvs/learning-llms-and-genai-for-dev-sec-ops-Sv6v5t2W-py3.11/lib/python3.11/site-packages (from requests<3,>=2->langchain) (2.2.0)\n",
      "Requirement already satisfied: certifi>=2017.4.17 in /Users/patrick.debois/Library/Caches/pypoetry/virtualenvs/learning-llms-and-genai-for-dev-sec-ops-Sv6v5t2W-py3.11/lib/python3.11/site-packages (from requests<3,>=2->langchain) (2024.2.2)\n",
      "Requirement already satisfied: regex>=2022.1.18 in /Users/patrick.debois/Library/Caches/pypoetry/virtualenvs/learning-llms-and-genai-for-dev-sec-ops-Sv6v5t2W-py3.11/lib/python3.11/site-packages (from tiktoken<0.6.0,>=0.5.2->langchain-openai) (2023.12.25)\n",
      "Requirement already satisfied: httpcore==1.* in /Users/patrick.debois/Library/Caches/pypoetry/virtualenvs/learning-llms-and-genai-for-dev-sec-ops-Sv6v5t2W-py3.11/lib/python3.11/site-packages (from httpx<1,>=0.23.0->openai<2.0.0,>=1.10.0->langchain-openai) (1.0.2)\n",
      "Requirement already satisfied: h11<0.15,>=0.13 in /Users/patrick.debois/Library/Caches/pypoetry/virtualenvs/learning-llms-and-genai-for-dev-sec-ops-Sv6v5t2W-py3.11/lib/python3.11/site-packages (from httpcore==1.*->httpx<1,>=0.23.0->openai<2.0.0,>=1.10.0->langchain-openai) (0.14.0)\n",
      "Requirement already satisfied: mypy-extensions>=0.3.0 in /Users/patrick.debois/Library/Caches/pypoetry/virtualenvs/learning-llms-and-genai-for-dev-sec-ops-Sv6v5t2W-py3.11/lib/python3.11/site-packages (from typing-inspect<1,>=0.4.0->dataclasses-json<0.7,>=0.5.7->langchain) (1.0.0)\n",
      "\n",
      "\u001b[1m[\u001b[0m\u001b[34;49mnotice\u001b[0m\u001b[1;39;49m]\u001b[0m\u001b[39;49m A new release of pip is available: \u001b[0m\u001b[31;49m23.3.1\u001b[0m\u001b[39;49m -> \u001b[0m\u001b[32;49m24.0\u001b[0m\n",
      "\u001b[1m[\u001b[0m\u001b[34;49mnotice\u001b[0m\u001b[1;39;49m]\u001b[0m\u001b[39;49m To update, run: \u001b[0m\u001b[32;49mpip install --upgrade pip\u001b[0m\n",
      "Note: you may need to restart the kernel to use updated packages.\n"
     ]
    }
   ],
   "source": [
    "# Install the necessary packages - tiktoken is used for calculating tokens\n",
    "%pip install langchain langchain-openai"
   ]
  },
  {
   "cell_type": "markdown",
   "metadata": {},
   "source": [
    "In the following example we have a bunch of texts and calculate embeddings with them.\n",
    "There are many different flavors of embeddings. Some work better with long texts, some better with multi lingual texts. Often llm providers will also provide an API to calculate embeddings through their service.\n",
    "They are not per se the best for your use case."
   ]
  },
  {
   "cell_type": "code",
   "execution_count": 3,
   "metadata": {},
   "outputs": [
    {
     "name": "stderr",
     "output_type": "stream",
     "text": [
      "/Users/patrick.debois/Library/Caches/pypoetry/virtualenvs/learning-llms-and-genai-for-dev-sec-ops-Sv6v5t2W-py3.11/lib/python3.11/site-packages/langchain_core/_api/deprecation.py:117: LangChainDeprecationWarning: The class `langchain_community.embeddings.openai.OpenAIEmbeddings` was deprecated in langchain-community 0.1.0 and will be removed in 0.2.0. An updated version of the class exists in the langchain-openai package and should be used instead. To use it run `pip install -U langchain-openai` and import as `from langchain_openai import OpenAIEmbeddings`.\n",
      "  warn_deprecated(\n"
     ]
    },
    {
     "name": "stdout",
     "output_type": "stream",
     "text": [
      "Embeddings calculated: 5\n",
      "Vectorsize of first embedding :1536\n"
     ]
    }
   ],
   "source": [
    "# https://python.langchain.com/docs/modules/data_connection/text_embedding/\n",
    "\n",
    "from langchain_openai import OpenAIEmbeddings\n",
    "\n",
    "embeddings_model = OpenAIEmbeddings()\n",
    "\n",
    "embeddings = embeddings_model.embed_documents(\n",
    "    [\n",
    "        \"Hi there!\",\n",
    "        \"Oh, hello!\",\n",
    "        \"What's your name?\",\n",
    "        \"My friends call me World\",\n",
    "        \"Hello World!\"\n",
    "    ]\n",
    ")\n",
    "print(f\"Embeddings calculated: {len(embeddings)}\")\n",
    "print(f\"Vectorsize of first embedding :{len(embeddings[0])}\")\n"
   ]
  },
  {
   "cell_type": "markdown",
   "metadata": {},
   "source": [
    "Next to calculating the embeddings from documents, we could also calculate that of a question.\n",
    "We assume that through that we can find the documents that are best to provide the answer.\n",
    "In this case the vector size is 1536."
   ]
  },
  {
   "cell_type": "code",
   "execution_count": 3,
   "metadata": {},
   "outputs": [
    {
     "name": "stdout",
     "output_type": "stream",
     "text": [
      "Vectorsize of query text embedding :1536\n"
     ]
    }
   ],
   "source": [
    "# calculate the embedding of the query\n",
    "embedded_query_results = embeddings_model.embed_query(\"What was the name mentioned in the conversation?\")\n",
    "print(f\"Vectorsize of query text embedding :{len(embedded_query_results)}\")"
   ]
  }
 ],
 "metadata": {
  "kernelspec": {
   "display_name": "london-devops-VW7lFx7f-py3.11",
   "language": "python",
   "name": "python3"
  },
  "language_info": {
   "codemirror_mode": {
    "name": "ipython",
    "version": 3
   },
   "file_extension": ".py",
   "mimetype": "text/x-python",
   "name": "python",
   "nbconvert_exporter": "python",
   "pygments_lexer": "ipython3",
   "version": "3.11.7"
  },
  "orig_nbformat": 4
 },
 "nbformat": 4,
 "nbformat_minor": 2
}
