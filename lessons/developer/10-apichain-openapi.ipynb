{
 "cells": [
  {
   "cell_type": "markdown",
   "metadata": {},
   "source": [
    "To get you even more excited as a developer: The documents don't always have to be business information, we can use these with our own openAPI specs for example. In Langchain there is a standard *APIChain* which allows us to link that kind of documentation with questions we ask the llm. \n",
    "\n",
    "Example from langchain:\n",
    "- https://python.langchain.com/docs/use_cases/apis"
   ]
  },
  {
   "cell_type": "code",
   "execution_count": 1,
   "metadata": {},
   "outputs": [
    {
     "name": "stdout",
     "output_type": "stream",
     "text": [
      "Requirement already satisfied: langchain in /Users/patrick.debois/Library/Caches/pypoetry/virtualenvs/learning-llms-and-genai-for-dev-sec-ops-Sv6v5t2W-py3.11/lib/python3.11/site-packages (0.1.5)\n",
      "Requirement already satisfied: langchain-openai in /Users/patrick.debois/Library/Caches/pypoetry/virtualenvs/learning-llms-and-genai-for-dev-sec-ops-Sv6v5t2W-py3.11/lib/python3.11/site-packages (0.0.2.post1)\n",
      "Requirement already satisfied: PyYAML>=5.3 in /Users/patrick.debois/Library/Caches/pypoetry/virtualenvs/learning-llms-and-genai-for-dev-sec-ops-Sv6v5t2W-py3.11/lib/python3.11/site-packages (from langchain) (6.0.1)\n",
      "Requirement already satisfied: SQLAlchemy<3,>=1.4 in /Users/patrick.debois/Library/Caches/pypoetry/virtualenvs/learning-llms-and-genai-for-dev-sec-ops-Sv6v5t2W-py3.11/lib/python3.11/site-packages (from langchain) (2.0.25)\n",
      "Requirement already satisfied: aiohttp<4.0.0,>=3.8.3 in /Users/patrick.debois/Library/Caches/pypoetry/virtualenvs/learning-llms-and-genai-for-dev-sec-ops-Sv6v5t2W-py3.11/lib/python3.11/site-packages (from langchain) (3.9.3)\n",
      "Requirement already satisfied: dataclasses-json<0.7,>=0.5.7 in /Users/patrick.debois/Library/Caches/pypoetry/virtualenvs/learning-llms-and-genai-for-dev-sec-ops-Sv6v5t2W-py3.11/lib/python3.11/site-packages (from langchain) (0.6.4)\n",
      "Requirement already satisfied: jsonpatch<2.0,>=1.33 in /Users/patrick.debois/Library/Caches/pypoetry/virtualenvs/learning-llms-and-genai-for-dev-sec-ops-Sv6v5t2W-py3.11/lib/python3.11/site-packages (from langchain) (1.33)\n",
      "Requirement already satisfied: langchain-community<0.1,>=0.0.17 in /Users/patrick.debois/Library/Caches/pypoetry/virtualenvs/learning-llms-and-genai-for-dev-sec-ops-Sv6v5t2W-py3.11/lib/python3.11/site-packages (from langchain) (0.0.17)\n",
      "Requirement already satisfied: langchain-core<0.2,>=0.1.16 in /Users/patrick.debois/Library/Caches/pypoetry/virtualenvs/learning-llms-and-genai-for-dev-sec-ops-Sv6v5t2W-py3.11/lib/python3.11/site-packages (from langchain) (0.1.18)\n",
      "Requirement already satisfied: langsmith<0.1,>=0.0.83 in /Users/patrick.debois/Library/Caches/pypoetry/virtualenvs/learning-llms-and-genai-for-dev-sec-ops-Sv6v5t2W-py3.11/lib/python3.11/site-packages (from langchain) (0.0.86)\n",
      "Requirement already satisfied: numpy<2,>=1 in /Users/patrick.debois/Library/Caches/pypoetry/virtualenvs/learning-llms-and-genai-for-dev-sec-ops-Sv6v5t2W-py3.11/lib/python3.11/site-packages (from langchain) (1.26.3)\n",
      "Requirement already satisfied: pydantic<3,>=1 in /Users/patrick.debois/Library/Caches/pypoetry/virtualenvs/learning-llms-and-genai-for-dev-sec-ops-Sv6v5t2W-py3.11/lib/python3.11/site-packages (from langchain) (2.6.0)\n",
      "Requirement already satisfied: requests<3,>=2 in /Users/patrick.debois/Library/Caches/pypoetry/virtualenvs/learning-llms-and-genai-for-dev-sec-ops-Sv6v5t2W-py3.11/lib/python3.11/site-packages (from langchain) (2.31.0)\n",
      "Requirement already satisfied: tenacity<9.0.0,>=8.1.0 in /Users/patrick.debois/Library/Caches/pypoetry/virtualenvs/learning-llms-and-genai-for-dev-sec-ops-Sv6v5t2W-py3.11/lib/python3.11/site-packages (from langchain) (8.2.3)\n",
      "Requirement already satisfied: openai<2.0.0,>=1.6.1 in /Users/patrick.debois/Library/Caches/pypoetry/virtualenvs/learning-llms-and-genai-for-dev-sec-ops-Sv6v5t2W-py3.11/lib/python3.11/site-packages (from langchain-openai) (1.11.0)\n",
      "Requirement already satisfied: tiktoken<0.6.0,>=0.5.2 in /Users/patrick.debois/Library/Caches/pypoetry/virtualenvs/learning-llms-and-genai-for-dev-sec-ops-Sv6v5t2W-py3.11/lib/python3.11/site-packages (from langchain-openai) (0.5.2)\n",
      "Requirement already satisfied: aiosignal>=1.1.2 in /Users/patrick.debois/Library/Caches/pypoetry/virtualenvs/learning-llms-and-genai-for-dev-sec-ops-Sv6v5t2W-py3.11/lib/python3.11/site-packages (from aiohttp<4.0.0,>=3.8.3->langchain) (1.3.1)\n",
      "Requirement already satisfied: attrs>=17.3.0 in /Users/patrick.debois/Library/Caches/pypoetry/virtualenvs/learning-llms-and-genai-for-dev-sec-ops-Sv6v5t2W-py3.11/lib/python3.11/site-packages (from aiohttp<4.0.0,>=3.8.3->langchain) (23.2.0)\n",
      "Requirement already satisfied: frozenlist>=1.1.1 in /Users/patrick.debois/Library/Caches/pypoetry/virtualenvs/learning-llms-and-genai-for-dev-sec-ops-Sv6v5t2W-py3.11/lib/python3.11/site-packages (from aiohttp<4.0.0,>=3.8.3->langchain) (1.4.1)\n",
      "Requirement already satisfied: multidict<7.0,>=4.5 in /Users/patrick.debois/Library/Caches/pypoetry/virtualenvs/learning-llms-and-genai-for-dev-sec-ops-Sv6v5t2W-py3.11/lib/python3.11/site-packages (from aiohttp<4.0.0,>=3.8.3->langchain) (6.0.5)\n",
      "Requirement already satisfied: yarl<2.0,>=1.0 in /Users/patrick.debois/Library/Caches/pypoetry/virtualenvs/learning-llms-and-genai-for-dev-sec-ops-Sv6v5t2W-py3.11/lib/python3.11/site-packages (from aiohttp<4.0.0,>=3.8.3->langchain) (1.9.4)\n",
      "Requirement already satisfied: marshmallow<4.0.0,>=3.18.0 in /Users/patrick.debois/Library/Caches/pypoetry/virtualenvs/learning-llms-and-genai-for-dev-sec-ops-Sv6v5t2W-py3.11/lib/python3.11/site-packages (from dataclasses-json<0.7,>=0.5.7->langchain) (3.20.2)\n",
      "Requirement already satisfied: typing-inspect<1,>=0.4.0 in /Users/patrick.debois/Library/Caches/pypoetry/virtualenvs/learning-llms-and-genai-for-dev-sec-ops-Sv6v5t2W-py3.11/lib/python3.11/site-packages (from dataclasses-json<0.7,>=0.5.7->langchain) (0.9.0)\n",
      "Requirement already satisfied: jsonpointer>=1.9 in /Users/patrick.debois/Library/Caches/pypoetry/virtualenvs/learning-llms-and-genai-for-dev-sec-ops-Sv6v5t2W-py3.11/lib/python3.11/site-packages (from jsonpatch<2.0,>=1.33->langchain) (2.4)\n",
      "Requirement already satisfied: anyio<5,>=3 in /Users/patrick.debois/Library/Caches/pypoetry/virtualenvs/learning-llms-and-genai-for-dev-sec-ops-Sv6v5t2W-py3.11/lib/python3.11/site-packages (from langchain-core<0.2,>=0.1.16->langchain) (4.2.0)\n",
      "Requirement already satisfied: packaging<24.0,>=23.2 in /Users/patrick.debois/Library/Caches/pypoetry/virtualenvs/learning-llms-and-genai-for-dev-sec-ops-Sv6v5t2W-py3.11/lib/python3.11/site-packages (from langchain-core<0.2,>=0.1.16->langchain) (23.2)\n",
      "Requirement already satisfied: distro<2,>=1.7.0 in /Users/patrick.debois/Library/Caches/pypoetry/virtualenvs/learning-llms-and-genai-for-dev-sec-ops-Sv6v5t2W-py3.11/lib/python3.11/site-packages (from openai<2.0.0,>=1.6.1->langchain-openai) (1.9.0)\n",
      "Requirement already satisfied: httpx<1,>=0.23.0 in /Users/patrick.debois/Library/Caches/pypoetry/virtualenvs/learning-llms-and-genai-for-dev-sec-ops-Sv6v5t2W-py3.11/lib/python3.11/site-packages (from openai<2.0.0,>=1.6.1->langchain-openai) (0.26.0)\n",
      "Requirement already satisfied: sniffio in /Users/patrick.debois/Library/Caches/pypoetry/virtualenvs/learning-llms-and-genai-for-dev-sec-ops-Sv6v5t2W-py3.11/lib/python3.11/site-packages (from openai<2.0.0,>=1.6.1->langchain-openai) (1.3.0)\n",
      "Requirement already satisfied: tqdm>4 in /Users/patrick.debois/Library/Caches/pypoetry/virtualenvs/learning-llms-and-genai-for-dev-sec-ops-Sv6v5t2W-py3.11/lib/python3.11/site-packages (from openai<2.0.0,>=1.6.1->langchain-openai) (4.66.1)\n",
      "Requirement already satisfied: typing-extensions<5,>=4.7 in /Users/patrick.debois/Library/Caches/pypoetry/virtualenvs/learning-llms-and-genai-for-dev-sec-ops-Sv6v5t2W-py3.11/lib/python3.11/site-packages (from openai<2.0.0,>=1.6.1->langchain-openai) (4.9.0)\n",
      "Requirement already satisfied: annotated-types>=0.4.0 in /Users/patrick.debois/Library/Caches/pypoetry/virtualenvs/learning-llms-and-genai-for-dev-sec-ops-Sv6v5t2W-py3.11/lib/python3.11/site-packages (from pydantic<3,>=1->langchain) (0.6.0)\n",
      "Requirement already satisfied: pydantic-core==2.16.1 in /Users/patrick.debois/Library/Caches/pypoetry/virtualenvs/learning-llms-and-genai-for-dev-sec-ops-Sv6v5t2W-py3.11/lib/python3.11/site-packages (from pydantic<3,>=1->langchain) (2.16.1)\n",
      "Requirement already satisfied: charset-normalizer<4,>=2 in /Users/patrick.debois/Library/Caches/pypoetry/virtualenvs/learning-llms-and-genai-for-dev-sec-ops-Sv6v5t2W-py3.11/lib/python3.11/site-packages (from requests<3,>=2->langchain) (3.3.2)\n",
      "Requirement already satisfied: idna<4,>=2.5 in /Users/patrick.debois/Library/Caches/pypoetry/virtualenvs/learning-llms-and-genai-for-dev-sec-ops-Sv6v5t2W-py3.11/lib/python3.11/site-packages (from requests<3,>=2->langchain) (3.6)\n",
      "Requirement already satisfied: urllib3<3,>=1.21.1 in /Users/patrick.debois/Library/Caches/pypoetry/virtualenvs/learning-llms-and-genai-for-dev-sec-ops-Sv6v5t2W-py3.11/lib/python3.11/site-packages (from requests<3,>=2->langchain) (2.2.0)\n",
      "Requirement already satisfied: certifi>=2017.4.17 in /Users/patrick.debois/Library/Caches/pypoetry/virtualenvs/learning-llms-and-genai-for-dev-sec-ops-Sv6v5t2W-py3.11/lib/python3.11/site-packages (from requests<3,>=2->langchain) (2024.2.2)\n",
      "Requirement already satisfied: regex>=2022.1.18 in /Users/patrick.debois/Library/Caches/pypoetry/virtualenvs/learning-llms-and-genai-for-dev-sec-ops-Sv6v5t2W-py3.11/lib/python3.11/site-packages (from tiktoken<0.6.0,>=0.5.2->langchain-openai) (2023.12.25)\n",
      "Requirement already satisfied: httpcore==1.* in /Users/patrick.debois/Library/Caches/pypoetry/virtualenvs/learning-llms-and-genai-for-dev-sec-ops-Sv6v5t2W-py3.11/lib/python3.11/site-packages (from httpx<1,>=0.23.0->openai<2.0.0,>=1.6.1->langchain-openai) (1.0.2)\n",
      "Requirement already satisfied: h11<0.15,>=0.13 in /Users/patrick.debois/Library/Caches/pypoetry/virtualenvs/learning-llms-and-genai-for-dev-sec-ops-Sv6v5t2W-py3.11/lib/python3.11/site-packages (from httpcore==1.*->httpx<1,>=0.23.0->openai<2.0.0,>=1.6.1->langchain-openai) (0.14.0)\n",
      "Requirement already satisfied: mypy-extensions>=0.3.0 in /Users/patrick.debois/Library/Caches/pypoetry/virtualenvs/learning-llms-and-genai-for-dev-sec-ops-Sv6v5t2W-py3.11/lib/python3.11/site-packages (from typing-inspect<1,>=0.4.0->dataclasses-json<0.7,>=0.5.7->langchain) (1.0.0)\n",
      "\n",
      "\u001b[1m[\u001b[0m\u001b[34;49mnotice\u001b[0m\u001b[1;39;49m]\u001b[0m\u001b[39;49m A new release of pip is available: \u001b[0m\u001b[31;49m23.3.1\u001b[0m\u001b[39;49m -> \u001b[0m\u001b[32;49m24.0\u001b[0m\n",
      "\u001b[1m[\u001b[0m\u001b[34;49mnotice\u001b[0m\u001b[1;39;49m]\u001b[0m\u001b[39;49m To update, run: \u001b[0m\u001b[32;49mpip install --upgrade pip\u001b[0m\n",
      "Note: you may need to restart the kernel to use updated packages.\n"
     ]
    }
   ],
   "source": [
    "%pip install langchain langchain-openai"
   ]
  },
  {
   "cell_type": "markdown",
   "metadata": {},
   "source": [
    "In this example we ask the LLM to find the weather in London. We already know that the LLMs have a knowledge cut off so it can't do this. In this case we'd be asking the LLM to look for related parts in the documentation, form an api query and then provide that as extra context.\n",
    "\n",
    "Watch the magic under the hood... No coding , just from documentation the LLM was able to construct the right calls to the API of the weather service."
   ]
  },
  {
   "cell_type": "code",
   "execution_count": 2,
   "metadata": {},
   "outputs": [
    {
     "name": "stderr",
     "output_type": "stream",
     "text": [
      "/Users/patrick.debois/Library/Caches/pypoetry/virtualenvs/learning-llms-and-genai-for-dev-sec-ops-Sv6v5t2W-py3.11/lib/python3.11/site-packages/langchain_core/_api/deprecation.py:117: LangChainDeprecationWarning: The function `run` was deprecated in LangChain 0.1.0 and will be removed in 0.2.0. Use invoke instead.\n",
      "  warn_deprecated(\n"
     ]
    },
    {
     "name": "stdout",
     "output_type": "stream",
     "text": [
      "\n",
      "=============\n",
      "[llm][start] - prompts: You are given the below API Documentation:\n",
      "BASE URL: https://api.open-meteo.com/\n",
      "\n",
      "API Documentation\n",
      "The API endpoint /v1/forecast accepts a geographical coordinate, a list of weather variables and responds with a JSON hourly weather forecast for 7 days. Time always starts at 0:00 today and contains 168 hours. All URL parameters are listed below:\n",
      "\n",
      "Parameter\tFormat\tRequired\tDefault\tDescription\n",
      "latitude, longitude\tFloating point\tYes\t\tGeographical WGS84 coordinate of the location\n",
      "hourly\tString array\tNo\t\tA list of weather variables which should be returned. Values can be comma separated, or multiple &hourly= parameter in the URL can be used.\n",
      "daily\tString array\tNo\t\tA list of daily weather variable aggregations which should be returned. Values can be comma separated, or multiple &daily= parameter in the URL can be used. If daily weather variables are specified, parameter timezone is required.\n",
      "current_weather\tBool\tNo\tfalse\tInclude current weather conditions in the JSON output.\n",
      "temperature_unit\tString\tNo\tcelsius\tIf fahrenheit is set, all temperature values are converted to Fahrenheit.\n",
      "windspeed_unit\tString\tNo\tkmh\tOther wind speed speed units: ms, mph and kn\n",
      "precipitation_unit\tString\tNo\tmm\tOther precipitation amount units: inch\n",
      "timeformat\tString\tNo\tiso8601\tIf format unixtime is selected, all time values are returned in UNIX epoch time in seconds. Please note that all timestamp are in GMT+0! For daily values with unix timestamps, please apply utc_offset_seconds again to get the correct date.\n",
      "timezone\tString\tNo\tGMT\tIf timezone is set, all timestamps are returned as local-time and data is returned starting at 00:00 local-time. Any time zone name from the time zone database is supported. If auto is set as a time zone, the coordinates will be automatically resolved to the local time zone.\n",
      "past_days\tInteger (0-2)\tNo\t0\tIf past_days is set, yesterday or the day before yesterday data are also returned.\n",
      "start_date\n",
      "end_date\tString (yyyy-mm-dd)\tNo\t\tThe time interval to get weather data. A day must be specified as an ISO8601 date (e.g. 2022-06-30).\n",
      "models\tString array\tNo\tauto\tManually select one or more weather models. Per default, the best suitable weather models will be combined.\n",
      "\n",
      "Hourly Parameter Definition\n",
      "The parameter &hourly= accepts the following values. Most weather variables are given as an instantaneous value for the indicated hour. Some variables like precipitation are calculated from the preceding hour as an average or sum.\n",
      "\n",
      "Variable\tValid time\tUnit\tDescription\n",
      "temperature_2m\tInstant\t°C (°F)\tAir temperature at 2 meters above ground\n",
      "snowfall\tPreceding hour sum\tcm (inch)\tSnowfall amount of the preceding hour in centimeters. For the water equivalent in millimeter, divide by 7. E.g. 7 cm snow = 10 mm precipitation water equivalent\n",
      "rain\tPreceding hour sum\tmm (inch)\tRain from large scale weather systems of the preceding hour in millimeter\n",
      "showers\tPreceding hour sum\tmm (inch)\tShowers from convective precipitation in millimeters from the preceding hour\n",
      "weathercode\tInstant\tWMO code\tWeather condition as a numeric code. Follow WMO weather interpretation codes. See table below for details.\n",
      "snow_depth\tInstant\tmeters\tSnow depth on the ground\n",
      "freezinglevel_height\tInstant\tmeters\tAltitude above sea level of the 0°C level\n",
      "visibility\tInstant\tmeters\tViewing distance in meters. Influenced by low clouds, humidity and aerosols. Maximum visibility is approximately 24 km.\n",
      "Using this documentation, generate the full API url to call for answering the user question.\n",
      "You should build the API url in order to get a response that is as short as possible, while still getting the necessary information to answer the question. Pay attention to deliberately exclude any unnecessary pieces of data in the API call.\n",
      "\n",
      "Question:What is the weather like right now in London in degrees Celcius?\n",
      "API url:\n",
      "\n",
      "=============\n",
      "[llm][end] - generation  https://api.open-meteo.com/v1/forecast?latitude=51.5074&longitude=0.1278&hourly=temperature_2m&current_weather=true&temperature_unit=celsius&timezone=auto\n",
      "\n",
      "=============\n",
      "[llm][start] - prompts: You are given the below API Documentation:\n",
      "BASE URL: https://api.open-meteo.com/\n",
      "\n",
      "API Documentation\n",
      "The API endpoint /v1/forecast accepts a geographical coordinate, a list of weather variables and responds with a JSON hourly weather forecast for 7 days. Time always starts at 0:00 today and contains 168 hours. All URL parameters are listed below:\n",
      "\n",
      "Parameter\tFormat\tRequired\tDefault\tDescription\n",
      "latitude, longitude\tFloating point\tYes\t\tGeographical WGS84 coordinate of the location\n",
      "hourly\tString array\tNo\t\tA list of weather variables which should be returned. Values can be comma separated, or multiple &hourly= parameter in the URL can be used.\n",
      "daily\tString array\tNo\t\tA list of daily weather variable aggregations which should be returned. Values can be comma separated, or multiple &daily= parameter in the URL can be used. If daily weather variables are specified, parameter timezone is required.\n",
      "current_weather\tBool\tNo\tfalse\tInclude current weather conditions in the JSON output.\n",
      "temperature_unit\tString\tNo\tcelsius\tIf fahrenheit is set, all temperature values are converted to Fahrenheit.\n",
      "windspeed_unit\tString\tNo\tkmh\tOther wind speed speed units: ms, mph and kn\n",
      "precipitation_unit\tString\tNo\tmm\tOther precipitation amount units: inch\n",
      "timeformat\tString\tNo\tiso8601\tIf format unixtime is selected, all time values are returned in UNIX epoch time in seconds. Please note that all timestamp are in GMT+0! For daily values with unix timestamps, please apply utc_offset_seconds again to get the correct date.\n",
      "timezone\tString\tNo\tGMT\tIf timezone is set, all timestamps are returned as local-time and data is returned starting at 00:00 local-time. Any time zone name from the time zone database is supported. If auto is set as a time zone, the coordinates will be automatically resolved to the local time zone.\n",
      "past_days\tInteger (0-2)\tNo\t0\tIf past_days is set, yesterday or the day before yesterday data are also returned.\n",
      "start_date\n",
      "end_date\tString (yyyy-mm-dd)\tNo\t\tThe time interval to get weather data. A day must be specified as an ISO8601 date (e.g. 2022-06-30).\n",
      "models\tString array\tNo\tauto\tManually select one or more weather models. Per default, the best suitable weather models will be combined.\n",
      "\n",
      "Hourly Parameter Definition\n",
      "The parameter &hourly= accepts the following values. Most weather variables are given as an instantaneous value for the indicated hour. Some variables like precipitation are calculated from the preceding hour as an average or sum.\n",
      "\n",
      "Variable\tValid time\tUnit\tDescription\n",
      "temperature_2m\tInstant\t°C (°F)\tAir temperature at 2 meters above ground\n",
      "snowfall\tPreceding hour sum\tcm (inch)\tSnowfall amount of the preceding hour in centimeters. For the water equivalent in millimeter, divide by 7. E.g. 7 cm snow = 10 mm precipitation water equivalent\n",
      "rain\tPreceding hour sum\tmm (inch)\tRain from large scale weather systems of the preceding hour in millimeter\n",
      "showers\tPreceding hour sum\tmm (inch)\tShowers from convective precipitation in millimeters from the preceding hour\n",
      "weathercode\tInstant\tWMO code\tWeather condition as a numeric code. Follow WMO weather interpretation codes. See table below for details.\n",
      "snow_depth\tInstant\tmeters\tSnow depth on the ground\n",
      "freezinglevel_height\tInstant\tmeters\tAltitude above sea level of the 0°C level\n",
      "visibility\tInstant\tmeters\tViewing distance in meters. Influenced by low clouds, humidity and aerosols. Maximum visibility is approximately 24 km.\n",
      "Using this documentation, generate the full API url to call for answering the user question.\n",
      "You should build the API url in order to get a response that is as short as possible, while still getting the necessary information to answer the question. Pay attention to deliberately exclude any unnecessary pieces of data in the API call.\n",
      "\n",
      "Question:What is the weather like right now in London in degrees Celcius?\n",
      "API url: https://api.open-meteo.com/v1/forecast?latitude=51.5074&longitude=0.1278&hourly=temperature_2m&current_weather=true&temperature_unit=celsius&timezone=auto\n",
      "\n",
      "Here is the response from the API:\n",
      "\n",
      "{\"latitude\":51.5,\"longitude\":0.119999886,\"generationtime_ms\":0.0699758529663086,\"utc_offset_seconds\":0,\"timezone\":\"Europe/London\",\"timezone_abbreviation\":\"GMT\",\"elevation\":3.0,\"current_weather_units\":{\"time\":\"iso8601\",\"interval\":\"seconds\",\"temperature\":\"°C\",\"windspeed\":\"km/h\",\"winddirection\":\"°\",\"is_day\":\"\",\"weathercode\":\"wmo code\"},\"current_weather\":{\"time\":\"2024-02-04T12:30\",\"interval\":900,\"temperature\":13.8,\"windspeed\":23.1,\"winddirection\":255,\"is_day\":1,\"weathercode\":2},\"hourly_units\":{\"time\":\"iso8601\",\"temperature_2m\":\"°C\"},\"hourly\":{\"time\":[\"2024-02-04T00:00\",\"2024-02-04T01:00\",\"2024-02-04T02:00\",\"2024-02-04T03:00\",\"2024-02-04T04:00\",\"2024-02-04T05:00\",\"2024-02-04T06:00\",\"2024-02-04T07:00\",\"2024-02-04T08:00\",\"2024-02-04T09:00\",\"2024-02-04T10:00\",\"2024-02-04T11:00\",\"2024-02-04T12:00\",\"2024-02-04T13:00\",\"2024-02-04T14:00\",\"2024-02-04T15:00\",\"2024-02-04T16:00\",\"2024-02-04T17:00\",\"2024-02-04T18:00\",\"2024-02-04T19:00\",\"2024-02-04T20:00\",\"2024-02-04T21:00\",\"2024-02-04T22:00\",\"2024-02-04T23:00\",\"2024-02-05T00:00\",\"2024-02-05T01:00\",\"2024-02-05T02:00\",\"2024-02-05T03:00\",\"2024-02-05T04:00\",\"2024-02-05T05:00\",\"2024-02-05T06:00\",\"2024-02-05T07:00\",\"2024-02-05T08:00\",\"2024-02-05T09:00\",\"2024-02-05T10:00\",\"2024-02-05T11:00\",\"2024-02-05T12:00\",\"2024-02-05T13:00\",\"2024-02-05T14:00\",\"2024-02-05T15:00\",\"2024-02-05T16:00\",\"2024-02-05T17:00\",\"2024-02-05T18:00\",\"2024-02-05T19:00\",\"2024-02-05T20:00\",\"2024-02-05T21:00\",\"2024-02-05T22:00\",\"2024-02-05T23:00\",\"2024-02-06T00:00\",\"2024-02-06T01:00\",\"2024-02-06T02:00\",\"2024-02-06T03:00\",\"2024-02-06T04:00\",\"2024-02-06T05:00\",\"2024-02-06T06:00\",\"2024-02-06T07:00\",\"2024-02-06T08:00\",\"2024-02-06T09:00\",\"2024-02-06T10:00\",\"2024-02-06T11:00\",\"2024-02-06T12:00\",\"2024-02-06T13:00\",\"2024-02-06T14:00\",\"2024-02-06T15:00\",\"2024-02-06T16:00\",\"2024-02-06T17:00\",\"2024-02-06T18:00\",\"2024-02-06T19:00\",\"2024-02-06T20:00\",\"2024-02-06T21:00\",\"2024-02-06T22:00\",\"2024-02-06T23:00\",\"2024-02-07T00:00\",\"2024-02-07T01:00\",\"2024-02-07T02:00\",\"2024-02-07T03:00\",\"2024-02-07T04:00\",\"2024-02-07T05:00\",\"2024-02-07T06:00\",\"2024-02-07T07:00\",\"2024-02-07T08:00\",\"2024-02-07T09:00\",\"2024-02-07T10:00\",\"2024-02-07T11:00\",\"2024-02-07T12:00\",\"2024-02-07T13:00\",\"2024-02-07T14:00\",\"2024-02-07T15:00\",\"2024-02-07T16:00\",\"2024-02-07T17:00\",\"2024-02-07T18:00\",\"2024-02-07T19:00\",\"2024-02-07T20:00\",\"2024-02-07T21:00\",\"2024-02-07T22:00\",\"2024-02-07T23:00\",\"2024-02-08T00:00\",\"2024-02-08T01:00\",\"2024-02-08T02:00\",\"2024-02-08T03:00\",\"2024-02-08T04:00\",\"2024-02-08T05:00\",\"2024-02-08T06:00\",\"2024-02-08T07:00\",\"2024-02-08T08:00\",\"2024-02-08T09:00\",\"2024-02-08T10:00\",\"2024-02-08T11:00\",\"2024-02-08T12:00\",\"2024-02-08T13:00\",\"2024-02-08T14:00\",\"2024-02-08T15:00\",\"2024-02-08T16:00\",\"2024-02-08T17:00\",\"2024-02-08T18:00\",\"2024-02-08T19:00\",\"2024-02-08T20:00\",\"2024-02-08T21:00\",\"2024-02-08T22:00\",\"2024-02-08T23:00\",\"2024-02-09T00:00\",\"2024-02-09T01:00\",\"2024-02-09T02:00\",\"2024-02-09T03:00\",\"2024-02-09T04:00\",\"2024-02-09T05:00\",\"2024-02-09T06:00\",\"2024-02-09T07:00\",\"2024-02-09T08:00\",\"2024-02-09T09:00\",\"2024-02-09T10:00\",\"2024-02-09T11:00\",\"2024-02-09T12:00\",\"2024-02-09T13:00\",\"2024-02-09T14:00\",\"2024-02-09T15:00\",\"2024-02-09T16:00\",\"2024-02-09T17:00\",\"2024-02-09T18:00\",\"2024-02-09T19:00\",\"2024-02-09T20:00\",\"2024-02-09T21:00\",\"2024-02-09T22:00\",\"2024-02-09T23:00\",\"2024-02-10T00:00\",\"2024-02-10T01:00\",\"2024-02-10T02:00\",\"2024-02-10T03:00\",\"2024-02-10T04:00\",\"2024-02-10T05:00\",\"2024-02-10T06:00\",\"2024-02-10T07:00\",\"2024-02-10T08:00\",\"2024-02-10T09:00\",\"2024-02-10T10:00\",\"2024-02-10T11:00\",\"2024-02-10T12:00\",\"2024-02-10T13:00\",\"2024-02-10T14:00\",\"2024-02-10T15:00\",\"2024-02-10T16:00\",\"2024-02-10T17:00\",\"2024-02-10T18:00\",\"2024-02-10T19:00\",\"2024-02-10T20:00\",\"2024-02-10T21:00\",\"2024-02-10T22:00\",\"2024-02-10T23:00\"],\"temperature_2m\":[11.7,11.6,11.6,11.4,11.5,11.7,11.5,11.8,11.7,11.7,12.0,12.9,13.5,13.9,14.3,13.8,13.4,13.1,12.6,11.8,11.4,11.0,10.8,10.8,10.6,10.2,9.8,9.4,9.1,8.8,8.6,8.6,8.6,9.1,10.2,11.2,11.9,12.8,13.0,12.9,12.6,12.2,11.7,11.4,10.6,10.2,10.3,10.4,10.2,10.3,10.3,10.3,10.5,10.7,10.7,11.0,11.2,11.5,11.8,12.4,13.1,12.9,13.1,13.0,12.5,12.2,11.6,11.5,11.3,11.5,11.6,11.6,10.3,7.3,6.5,6.2,6.0,5.4,4.6,4.2,4.0,4.2,4.6,5.1,5.9,6.3,6.6,6.8,6.6,6.2,5.8,5.3,4.7,4.4,4.3,4.3,4.5,4.7,5.1,5.3,5.2,5.0,4.8,4.7,4.6,4.6,4.6,4.7,5.4,7.2,9.5,11.2,11.7,11.6,11.5,11.4,11.2,11.1,11.1,11.0,11.0,10.9,10.9,10.8,10.7,10.5,10.4,11.3,11.3,11.3,11.2,11.1,11.0,11.2,11.5,11.6,11.3,10.7,10.3,10.2,10.2,10.2,10.1,10.1,10.0,10.0,9.9,9.8,9.7,9.6,9.5,9.4,9.3,9.4,9.9,10.5,11.1,11.6,12.2,12.2,11.5,10.4,9.3,8.6,8.1,7.6,7.3,7.0]}}\n",
      "\n",
      "Summarize this response to answer the original question.\n",
      "\n",
      "Summary:\n",
      "\n",
      "=============\n",
      "[llm][end] - generation  The current temperature in London is 13.8 degrees Celsius. This information was obtained from the API url: https://api.open-meteo.com/v1/forecast?latitude=51.5074&longitude=0.1278&hourly=temperature_2m&current_weather=true&temperature_unit=celsius&timezone=auto.\n"
     ]
    },
    {
     "data": {
      "text/plain": [
       "' The current temperature in London is 13.8 degrees Celsius. This information was obtained from the API url: https://api.open-meteo.com/v1/forecast?latitude=51.5074&longitude=0.1278&hourly=temperature_2m&current_weather=true&temperature_unit=celsius&timezone=auto.'"
      ]
     },
     "execution_count": 2,
     "metadata": {},
     "output_type": "execute_result"
    }
   ],
   "source": [
    "from _lessonshelper.pretty_print_callback_handler import PrettyPrintCallbackHandler\n",
    "pretty_callback = PrettyPrintCallbackHandler()\n",
    "\n",
    "from langchain_openai import OpenAI\n",
    "llm = OpenAI(temperature=0, callbacks=[pretty_callback])\n",
    "\n",
    "\n",
    "from langchain.chains.api import open_meteo_docs\n",
    "from langchain.chains import APIChain\n",
    "chain = APIChain.from_llm_and_api_docs(llm, open_meteo_docs.OPEN_METEO_DOCS, limit_to_domains=None)\n",
    "\n",
    "chain.run('What is the weather like right now in London in degrees Celcius?')"
   ]
  }
 ],
 "metadata": {
  "kernelspec": {
   "display_name": "london-devops-VW7lFx7f-py3.11",
   "language": "python",
   "name": "python3"
  },
  "language_info": {
   "codemirror_mode": {
    "name": "ipython",
    "version": 3
   },
   "file_extension": ".py",
   "mimetype": "text/x-python",
   "name": "python",
   "nbconvert_exporter": "python",
   "pygments_lexer": "ipython3",
   "version": "3.11.7"
  },
  "orig_nbformat": 4
 },
 "nbformat": 4,
 "nbformat_minor": 2
}
