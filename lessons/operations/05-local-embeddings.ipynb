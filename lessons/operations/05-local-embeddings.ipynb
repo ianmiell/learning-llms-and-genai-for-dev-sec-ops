{
 "cells": [
  {
   "cell_type": "markdown",
   "metadata": {},
   "source": [
    "To run completely locally , you'd also need to run your embeddings locally.\n",
    "For this we will a model hosted on Huggingface (the github for models)."
   ]
  },
  {
   "cell_type": "code",
   "execution_count": 1,
   "metadata": {},
   "outputs": [
    {
     "name": "stdout",
     "output_type": "stream",
     "text": [
      "Requirement already satisfied: langchain in /Users/patrick.debois/Library/Caches/pypoetry/virtualenvs/learning-llms-and-genai-for-dev-sec-ops-Sv6v5t2W-py3.11/lib/python3.11/site-packages (0.1.5)\n",
      "Requirement already satisfied: PyYAML>=5.3 in /Users/patrick.debois/Library/Caches/pypoetry/virtualenvs/learning-llms-and-genai-for-dev-sec-ops-Sv6v5t2W-py3.11/lib/python3.11/site-packages (from langchain) (6.0.1)\n",
      "Requirement already satisfied: SQLAlchemy<3,>=1.4 in /Users/patrick.debois/Library/Caches/pypoetry/virtualenvs/learning-llms-and-genai-for-dev-sec-ops-Sv6v5t2W-py3.11/lib/python3.11/site-packages (from langchain) (2.0.25)\n",
      "Requirement already satisfied: aiohttp<4.0.0,>=3.8.3 in /Users/patrick.debois/Library/Caches/pypoetry/virtualenvs/learning-llms-and-genai-for-dev-sec-ops-Sv6v5t2W-py3.11/lib/python3.11/site-packages (from langchain) (3.9.3)\n",
      "Requirement already satisfied: dataclasses-json<0.7,>=0.5.7 in /Users/patrick.debois/Library/Caches/pypoetry/virtualenvs/learning-llms-and-genai-for-dev-sec-ops-Sv6v5t2W-py3.11/lib/python3.11/site-packages (from langchain) (0.6.4)\n",
      "Requirement already satisfied: jsonpatch<2.0,>=1.33 in /Users/patrick.debois/Library/Caches/pypoetry/virtualenvs/learning-llms-and-genai-for-dev-sec-ops-Sv6v5t2W-py3.11/lib/python3.11/site-packages (from langchain) (1.33)\n",
      "Requirement already satisfied: langchain-community<0.1,>=0.0.17 in /Users/patrick.debois/Library/Caches/pypoetry/virtualenvs/learning-llms-and-genai-for-dev-sec-ops-Sv6v5t2W-py3.11/lib/python3.11/site-packages (from langchain) (0.0.17)\n",
      "Requirement already satisfied: langchain-core<0.2,>=0.1.16 in /Users/patrick.debois/Library/Caches/pypoetry/virtualenvs/learning-llms-and-genai-for-dev-sec-ops-Sv6v5t2W-py3.11/lib/python3.11/site-packages (from langchain) (0.1.18)\n",
      "Requirement already satisfied: langsmith<0.1,>=0.0.83 in /Users/patrick.debois/Library/Caches/pypoetry/virtualenvs/learning-llms-and-genai-for-dev-sec-ops-Sv6v5t2W-py3.11/lib/python3.11/site-packages (from langchain) (0.0.86)\n",
      "Requirement already satisfied: numpy<2,>=1 in /Users/patrick.debois/Library/Caches/pypoetry/virtualenvs/learning-llms-and-genai-for-dev-sec-ops-Sv6v5t2W-py3.11/lib/python3.11/site-packages (from langchain) (1.26.3)\n",
      "Requirement already satisfied: pydantic<3,>=1 in /Users/patrick.debois/Library/Caches/pypoetry/virtualenvs/learning-llms-and-genai-for-dev-sec-ops-Sv6v5t2W-py3.11/lib/python3.11/site-packages (from langchain) (2.6.0)\n",
      "Requirement already satisfied: requests<3,>=2 in /Users/patrick.debois/Library/Caches/pypoetry/virtualenvs/learning-llms-and-genai-for-dev-sec-ops-Sv6v5t2W-py3.11/lib/python3.11/site-packages (from langchain) (2.31.0)\n",
      "Requirement already satisfied: tenacity<9.0.0,>=8.1.0 in /Users/patrick.debois/Library/Caches/pypoetry/virtualenvs/learning-llms-and-genai-for-dev-sec-ops-Sv6v5t2W-py3.11/lib/python3.11/site-packages (from langchain) (8.2.3)\n",
      "Requirement already satisfied: aiosignal>=1.1.2 in /Users/patrick.debois/Library/Caches/pypoetry/virtualenvs/learning-llms-and-genai-for-dev-sec-ops-Sv6v5t2W-py3.11/lib/python3.11/site-packages (from aiohttp<4.0.0,>=3.8.3->langchain) (1.3.1)\n",
      "Requirement already satisfied: attrs>=17.3.0 in /Users/patrick.debois/Library/Caches/pypoetry/virtualenvs/learning-llms-and-genai-for-dev-sec-ops-Sv6v5t2W-py3.11/lib/python3.11/site-packages (from aiohttp<4.0.0,>=3.8.3->langchain) (23.2.0)\n",
      "Requirement already satisfied: frozenlist>=1.1.1 in /Users/patrick.debois/Library/Caches/pypoetry/virtualenvs/learning-llms-and-genai-for-dev-sec-ops-Sv6v5t2W-py3.11/lib/python3.11/site-packages (from aiohttp<4.0.0,>=3.8.3->langchain) (1.4.1)\n",
      "Requirement already satisfied: multidict<7.0,>=4.5 in /Users/patrick.debois/Library/Caches/pypoetry/virtualenvs/learning-llms-and-genai-for-dev-sec-ops-Sv6v5t2W-py3.11/lib/python3.11/site-packages (from aiohttp<4.0.0,>=3.8.3->langchain) (6.0.5)\n",
      "Requirement already satisfied: yarl<2.0,>=1.0 in /Users/patrick.debois/Library/Caches/pypoetry/virtualenvs/learning-llms-and-genai-for-dev-sec-ops-Sv6v5t2W-py3.11/lib/python3.11/site-packages (from aiohttp<4.0.0,>=3.8.3->langchain) (1.9.4)\n",
      "Requirement already satisfied: marshmallow<4.0.0,>=3.18.0 in /Users/patrick.debois/Library/Caches/pypoetry/virtualenvs/learning-llms-and-genai-for-dev-sec-ops-Sv6v5t2W-py3.11/lib/python3.11/site-packages (from dataclasses-json<0.7,>=0.5.7->langchain) (3.20.2)\n",
      "Requirement already satisfied: typing-inspect<1,>=0.4.0 in /Users/patrick.debois/Library/Caches/pypoetry/virtualenvs/learning-llms-and-genai-for-dev-sec-ops-Sv6v5t2W-py3.11/lib/python3.11/site-packages (from dataclasses-json<0.7,>=0.5.7->langchain) (0.9.0)\n",
      "Requirement already satisfied: jsonpointer>=1.9 in /Users/patrick.debois/Library/Caches/pypoetry/virtualenvs/learning-llms-and-genai-for-dev-sec-ops-Sv6v5t2W-py3.11/lib/python3.11/site-packages (from jsonpatch<2.0,>=1.33->langchain) (2.4)\n",
      "Requirement already satisfied: anyio<5,>=3 in /Users/patrick.debois/Library/Caches/pypoetry/virtualenvs/learning-llms-and-genai-for-dev-sec-ops-Sv6v5t2W-py3.11/lib/python3.11/site-packages (from langchain-core<0.2,>=0.1.16->langchain) (4.2.0)\n",
      "Requirement already satisfied: packaging<24.0,>=23.2 in /Users/patrick.debois/Library/Caches/pypoetry/virtualenvs/learning-llms-and-genai-for-dev-sec-ops-Sv6v5t2W-py3.11/lib/python3.11/site-packages (from langchain-core<0.2,>=0.1.16->langchain) (23.2)\n",
      "Requirement already satisfied: annotated-types>=0.4.0 in /Users/patrick.debois/Library/Caches/pypoetry/virtualenvs/learning-llms-and-genai-for-dev-sec-ops-Sv6v5t2W-py3.11/lib/python3.11/site-packages (from pydantic<3,>=1->langchain) (0.6.0)\n",
      "Requirement already satisfied: pydantic-core==2.16.1 in /Users/patrick.debois/Library/Caches/pypoetry/virtualenvs/learning-llms-and-genai-for-dev-sec-ops-Sv6v5t2W-py3.11/lib/python3.11/site-packages (from pydantic<3,>=1->langchain) (2.16.1)\n",
      "Requirement already satisfied: typing-extensions>=4.6.1 in /Users/patrick.debois/Library/Caches/pypoetry/virtualenvs/learning-llms-and-genai-for-dev-sec-ops-Sv6v5t2W-py3.11/lib/python3.11/site-packages (from pydantic<3,>=1->langchain) (4.9.0)\n",
      "Requirement already satisfied: charset-normalizer<4,>=2 in /Users/patrick.debois/Library/Caches/pypoetry/virtualenvs/learning-llms-and-genai-for-dev-sec-ops-Sv6v5t2W-py3.11/lib/python3.11/site-packages (from requests<3,>=2->langchain) (3.3.2)\n",
      "Requirement already satisfied: idna<4,>=2.5 in /Users/patrick.debois/Library/Caches/pypoetry/virtualenvs/learning-llms-and-genai-for-dev-sec-ops-Sv6v5t2W-py3.11/lib/python3.11/site-packages (from requests<3,>=2->langchain) (3.6)\n",
      "Requirement already satisfied: urllib3<3,>=1.21.1 in /Users/patrick.debois/Library/Caches/pypoetry/virtualenvs/learning-llms-and-genai-for-dev-sec-ops-Sv6v5t2W-py3.11/lib/python3.11/site-packages (from requests<3,>=2->langchain) (2.2.0)\n",
      "Requirement already satisfied: certifi>=2017.4.17 in /Users/patrick.debois/Library/Caches/pypoetry/virtualenvs/learning-llms-and-genai-for-dev-sec-ops-Sv6v5t2W-py3.11/lib/python3.11/site-packages (from requests<3,>=2->langchain) (2024.2.2)\n",
      "Requirement already satisfied: sniffio>=1.1 in /Users/patrick.debois/Library/Caches/pypoetry/virtualenvs/learning-llms-and-genai-for-dev-sec-ops-Sv6v5t2W-py3.11/lib/python3.11/site-packages (from anyio<5,>=3->langchain-core<0.2,>=0.1.16->langchain) (1.3.0)\n",
      "Requirement already satisfied: mypy-extensions>=0.3.0 in /Users/patrick.debois/Library/Caches/pypoetry/virtualenvs/learning-llms-and-genai-for-dev-sec-ops-Sv6v5t2W-py3.11/lib/python3.11/site-packages (from typing-inspect<1,>=0.4.0->dataclasses-json<0.7,>=0.5.7->langchain) (1.0.0)\n",
      "\n",
      "\u001b[1m[\u001b[0m\u001b[34;49mnotice\u001b[0m\u001b[1;39;49m]\u001b[0m\u001b[39;49m A new release of pip is available: \u001b[0m\u001b[31;49m23.3.1\u001b[0m\u001b[39;49m -> \u001b[0m\u001b[32;49m24.0\u001b[0m\n",
      "\u001b[1m[\u001b[0m\u001b[34;49mnotice\u001b[0m\u001b[1;39;49m]\u001b[0m\u001b[39;49m To update, run: \u001b[0m\u001b[32;49mpip install --upgrade pip\u001b[0m\n",
      "Note: you may need to restart the kernel to use updated packages.\n"
     ]
    }
   ],
   "source": [
    "%pip install langchain"
   ]
  },
  {
   "cell_type": "code",
   "execution_count": 2,
   "metadata": {},
   "outputs": [
    {
     "name": "stdout",
     "output_type": "stream",
     "text": [
      "Requirement already satisfied: sentence_transformers in /Users/patrick.debois/Library/Caches/pypoetry/virtualenvs/learning-llms-and-genai-for-dev-sec-ops-Sv6v5t2W-py3.11/lib/python3.11/site-packages (2.3.1)\n",
      "Requirement already satisfied: transformers<5.0.0,>=4.32.0 in /Users/patrick.debois/Library/Caches/pypoetry/virtualenvs/learning-llms-and-genai-for-dev-sec-ops-Sv6v5t2W-py3.11/lib/python3.11/site-packages (from sentence_transformers) (4.37.2)\n",
      "Requirement already satisfied: tqdm in /Users/patrick.debois/Library/Caches/pypoetry/virtualenvs/learning-llms-and-genai-for-dev-sec-ops-Sv6v5t2W-py3.11/lib/python3.11/site-packages (from sentence_transformers) (4.66.1)\n",
      "Requirement already satisfied: torch>=1.11.0 in /Users/patrick.debois/Library/Caches/pypoetry/virtualenvs/learning-llms-and-genai-for-dev-sec-ops-Sv6v5t2W-py3.11/lib/python3.11/site-packages (from sentence_transformers) (2.2.0)\n",
      "Requirement already satisfied: numpy in /Users/patrick.debois/Library/Caches/pypoetry/virtualenvs/learning-llms-and-genai-for-dev-sec-ops-Sv6v5t2W-py3.11/lib/python3.11/site-packages (from sentence_transformers) (1.26.3)\n",
      "Requirement already satisfied: scikit-learn in /Users/patrick.debois/Library/Caches/pypoetry/virtualenvs/learning-llms-and-genai-for-dev-sec-ops-Sv6v5t2W-py3.11/lib/python3.11/site-packages (from sentence_transformers) (1.4.0)\n",
      "Requirement already satisfied: scipy in /Users/patrick.debois/Library/Caches/pypoetry/virtualenvs/learning-llms-and-genai-for-dev-sec-ops-Sv6v5t2W-py3.11/lib/python3.11/site-packages (from sentence_transformers) (1.12.0)\n",
      "Requirement already satisfied: nltk in /Users/patrick.debois/Library/Caches/pypoetry/virtualenvs/learning-llms-and-genai-for-dev-sec-ops-Sv6v5t2W-py3.11/lib/python3.11/site-packages (from sentence_transformers) (3.8.1)\n",
      "Requirement already satisfied: sentencepiece in /Users/patrick.debois/Library/Caches/pypoetry/virtualenvs/learning-llms-and-genai-for-dev-sec-ops-Sv6v5t2W-py3.11/lib/python3.11/site-packages (from sentence_transformers) (0.1.99)\n",
      "Requirement already satisfied: huggingface-hub>=0.15.1 in /Users/patrick.debois/Library/Caches/pypoetry/virtualenvs/learning-llms-and-genai-for-dev-sec-ops-Sv6v5t2W-py3.11/lib/python3.11/site-packages (from sentence_transformers) (0.20.3)\n",
      "Requirement already satisfied: Pillow in /Users/patrick.debois/Library/Caches/pypoetry/virtualenvs/learning-llms-and-genai-for-dev-sec-ops-Sv6v5t2W-py3.11/lib/python3.11/site-packages (from sentence_transformers) (10.2.0)\n",
      "Requirement already satisfied: filelock in /Users/patrick.debois/Library/Caches/pypoetry/virtualenvs/learning-llms-and-genai-for-dev-sec-ops-Sv6v5t2W-py3.11/lib/python3.11/site-packages (from huggingface-hub>=0.15.1->sentence_transformers) (3.13.1)\n",
      "Requirement already satisfied: fsspec>=2023.5.0 in /Users/patrick.debois/Library/Caches/pypoetry/virtualenvs/learning-llms-and-genai-for-dev-sec-ops-Sv6v5t2W-py3.11/lib/python3.11/site-packages (from huggingface-hub>=0.15.1->sentence_transformers) (2023.12.2)\n",
      "Requirement already satisfied: requests in /Users/patrick.debois/Library/Caches/pypoetry/virtualenvs/learning-llms-and-genai-for-dev-sec-ops-Sv6v5t2W-py3.11/lib/python3.11/site-packages (from huggingface-hub>=0.15.1->sentence_transformers) (2.31.0)\n",
      "Requirement already satisfied: pyyaml>=5.1 in /Users/patrick.debois/Library/Caches/pypoetry/virtualenvs/learning-llms-and-genai-for-dev-sec-ops-Sv6v5t2W-py3.11/lib/python3.11/site-packages (from huggingface-hub>=0.15.1->sentence_transformers) (6.0.1)\n",
      "Requirement already satisfied: typing-extensions>=3.7.4.3 in /Users/patrick.debois/Library/Caches/pypoetry/virtualenvs/learning-llms-and-genai-for-dev-sec-ops-Sv6v5t2W-py3.11/lib/python3.11/site-packages (from huggingface-hub>=0.15.1->sentence_transformers) (4.9.0)\n",
      "Requirement already satisfied: packaging>=20.9 in /Users/patrick.debois/Library/Caches/pypoetry/virtualenvs/learning-llms-and-genai-for-dev-sec-ops-Sv6v5t2W-py3.11/lib/python3.11/site-packages (from huggingface-hub>=0.15.1->sentence_transformers) (23.2)\n",
      "Requirement already satisfied: sympy in /Users/patrick.debois/Library/Caches/pypoetry/virtualenvs/learning-llms-and-genai-for-dev-sec-ops-Sv6v5t2W-py3.11/lib/python3.11/site-packages (from torch>=1.11.0->sentence_transformers) (1.12)\n",
      "Requirement already satisfied: networkx in /Users/patrick.debois/Library/Caches/pypoetry/virtualenvs/learning-llms-and-genai-for-dev-sec-ops-Sv6v5t2W-py3.11/lib/python3.11/site-packages (from torch>=1.11.0->sentence_transformers) (3.2.1)\n",
      "Requirement already satisfied: jinja2 in /Users/patrick.debois/Library/Caches/pypoetry/virtualenvs/learning-llms-and-genai-for-dev-sec-ops-Sv6v5t2W-py3.11/lib/python3.11/site-packages (from torch>=1.11.0->sentence_transformers) (3.1.3)\n",
      "Requirement already satisfied: regex!=2019.12.17 in /Users/patrick.debois/Library/Caches/pypoetry/virtualenvs/learning-llms-and-genai-for-dev-sec-ops-Sv6v5t2W-py3.11/lib/python3.11/site-packages (from transformers<5.0.0,>=4.32.0->sentence_transformers) (2023.12.25)\n",
      "Requirement already satisfied: tokenizers<0.19,>=0.14 in /Users/patrick.debois/Library/Caches/pypoetry/virtualenvs/learning-llms-and-genai-for-dev-sec-ops-Sv6v5t2W-py3.11/lib/python3.11/site-packages (from transformers<5.0.0,>=4.32.0->sentence_transformers) (0.15.1)\n",
      "Requirement already satisfied: safetensors>=0.4.1 in /Users/patrick.debois/Library/Caches/pypoetry/virtualenvs/learning-llms-and-genai-for-dev-sec-ops-Sv6v5t2W-py3.11/lib/python3.11/site-packages (from transformers<5.0.0,>=4.32.0->sentence_transformers) (0.4.2)\n",
      "Requirement already satisfied: click in /Users/patrick.debois/Library/Caches/pypoetry/virtualenvs/learning-llms-and-genai-for-dev-sec-ops-Sv6v5t2W-py3.11/lib/python3.11/site-packages (from nltk->sentence_transformers) (8.1.7)\n",
      "Requirement already satisfied: joblib in /Users/patrick.debois/Library/Caches/pypoetry/virtualenvs/learning-llms-and-genai-for-dev-sec-ops-Sv6v5t2W-py3.11/lib/python3.11/site-packages (from nltk->sentence_transformers) (1.3.2)\n",
      "Requirement already satisfied: threadpoolctl>=2.0.0 in /Users/patrick.debois/Library/Caches/pypoetry/virtualenvs/learning-llms-and-genai-for-dev-sec-ops-Sv6v5t2W-py3.11/lib/python3.11/site-packages (from scikit-learn->sentence_transformers) (3.2.0)\n",
      "Requirement already satisfied: MarkupSafe>=2.0 in /Users/patrick.debois/Library/Caches/pypoetry/virtualenvs/learning-llms-and-genai-for-dev-sec-ops-Sv6v5t2W-py3.11/lib/python3.11/site-packages (from jinja2->torch>=1.11.0->sentence_transformers) (2.1.5)\n",
      "Requirement already satisfied: charset-normalizer<4,>=2 in /Users/patrick.debois/Library/Caches/pypoetry/virtualenvs/learning-llms-and-genai-for-dev-sec-ops-Sv6v5t2W-py3.11/lib/python3.11/site-packages (from requests->huggingface-hub>=0.15.1->sentence_transformers) (3.3.2)\n",
      "Requirement already satisfied: idna<4,>=2.5 in /Users/patrick.debois/Library/Caches/pypoetry/virtualenvs/learning-llms-and-genai-for-dev-sec-ops-Sv6v5t2W-py3.11/lib/python3.11/site-packages (from requests->huggingface-hub>=0.15.1->sentence_transformers) (3.6)\n",
      "Requirement already satisfied: urllib3<3,>=1.21.1 in /Users/patrick.debois/Library/Caches/pypoetry/virtualenvs/learning-llms-and-genai-for-dev-sec-ops-Sv6v5t2W-py3.11/lib/python3.11/site-packages (from requests->huggingface-hub>=0.15.1->sentence_transformers) (2.2.0)\n",
      "Requirement already satisfied: certifi>=2017.4.17 in /Users/patrick.debois/Library/Caches/pypoetry/virtualenvs/learning-llms-and-genai-for-dev-sec-ops-Sv6v5t2W-py3.11/lib/python3.11/site-packages (from requests->huggingface-hub>=0.15.1->sentence_transformers) (2024.2.2)\n",
      "Requirement already satisfied: mpmath>=0.19 in /Users/patrick.debois/Library/Caches/pypoetry/virtualenvs/learning-llms-and-genai-for-dev-sec-ops-Sv6v5t2W-py3.11/lib/python3.11/site-packages (from sympy->torch>=1.11.0->sentence_transformers) (1.3.0)\n",
      "\n",
      "\u001b[1m[\u001b[0m\u001b[34;49mnotice\u001b[0m\u001b[1;39;49m]\u001b[0m\u001b[39;49m A new release of pip is available: \u001b[0m\u001b[31;49m23.3.1\u001b[0m\u001b[39;49m -> \u001b[0m\u001b[32;49m24.0\u001b[0m\n",
      "\u001b[1m[\u001b[0m\u001b[34;49mnotice\u001b[0m\u001b[1;39;49m]\u001b[0m\u001b[39;49m To update, run: \u001b[0m\u001b[32;49mpip install --upgrade pip\u001b[0m\n",
      "Note: you may need to restart the kernel to use updated packages.\n"
     ]
    }
   ],
   "source": [
    "%pip install sentence_transformers"
   ]
  },
  {
   "cell_type": "code",
   "execution_count": 3,
   "metadata": {},
   "outputs": [
    {
     "name": "stderr",
     "output_type": "stream",
     "text": [
      "/Users/patrick.debois/Library/Caches/pypoetry/virtualenvs/learning-llms-and-genai-for-dev-sec-ops-Sv6v5t2W-py3.11/lib/python3.11/site-packages/tqdm/auto.py:21: TqdmWarning: IProgress not found. Please update jupyter and ipywidgets. See https://ipywidgets.readthedocs.io/en/stable/user_install.html\n",
      "  from .autonotebook import tqdm as notebook_tqdm\n"
     ]
    },
    {
     "name": "stdout",
     "output_type": "stream",
     "text": [
      "5 384\n",
      "[-0.09151113033294678, 0.025147881358861923, 0.0020471387542784214, 0.005181071814149618, -0.015277124010026455, -0.05271570757031441, 0.016557497903704643, 0.04239163175225258, -0.029215801507234573, 0.006825144402682781, -0.027684267610311508, 0.007252918090671301, -0.010559383779764175, -0.04191431403160095, 0.03230904042720795, 0.037003107368946075, -0.05315244942903519, -0.009931977838277817, -0.10471191257238388, -0.039068423211574554, 0.035527851432561874, 0.0759001150727272, -0.10407819598913193, 0.044606175273656845, -0.02690211869776249, -0.03199000656604767, -0.0068667675368487835, 0.06416881829500198, -0.07118324190378189, -0.01758396252989769, 0.012554235756397247, 0.12845946848392487, -0.022762231528759003, 0.0537218302488327, 0.02916969172656536, 0.048877932131290436, -0.04694395884871483, -0.07912510633468628, 0.045164890587329865, 0.023789413273334503, -0.011888747103512287, 0.011806217022240162, -0.017342584207654, 0.039318010210990906, 0.05355006083846092, -0.07429259270429611, 0.025027228519320488, -0.08755499869585037, 0.02724352665245533, 0.07727697491645813, -0.047839947044849396, -0.005763466469943523, -0.054667141288518906, -0.05343832075595856, 0.08600781112909317, 0.007336716167628765, 0.009187690913677216, -0.09906987100839615, 0.0531579852104187, -0.06462103873491287, -0.09007000178098679, 0.04465144872665405, -0.11563211679458618, -0.021690165624022484, 0.01754828914999962, -0.03665594011545181, -0.03430086374282837, -0.05340956896543503, -0.0506414957344532, -0.0856981948018074, -0.009529520757496357, 0.025036359205842018, 0.03245258331298828, 0.05345011502504349, -0.013131195679306984, -0.08975648880004883, 0.0566212497651577, 0.0019698033574968576, 0.030657310038805008, 0.006431609392166138, 0.07051171362400055, -0.048392754048109055, 0.015184277668595314, -0.027121320366859436, -0.009402837604284286, -0.05028793588280678, 0.058439940214157104, 0.0020619374699890614, -0.02801414579153061, -0.0339321605861187, -0.11036337912082672, 0.07281819730997086, -0.027439776808023453, 0.0014600680442526937, -0.05286680907011032, -0.10202634334564209, 0.09397844970226288, 0.045552995055913925, -0.12457725405693054, 0.15514758229255676, 0.03557367995381355, 0.037855543196201324, 0.025922585278749466, 0.042606912553310394, -0.050403524190187454, 0.06678257882595062, -0.05466317757964134, 0.08857455104589462, -0.028777511790394783, -0.01159912534058094, 0.023446762934327126, -0.012094679288566113, 0.04150664061307907, 0.04544724524021149, 0.08052336424589157, 0.05635213851928711, 0.047780122607946396, 0.0300673209130764, 0.13186824321746826, -0.06568574905395508, 0.004145660437643528, -0.04921435937285423, -0.019922742620110512, -0.028346974402666092, 0.011700812727212906, -0.024010801687836647, -0.032602496445178986, -1.9912639204059386e-33, 0.062299102544784546, -0.00987206120043993, 0.0346318855881691, 0.041095081716775894, -0.04445022717118263, -0.024610741063952446, -0.07881541550159454, -0.020856693387031555, 0.004964170046150684, 0.004908507689833641, -0.03617079183459282, -0.04287084937095642, -0.07707688212394714, 0.039736308157444, -0.00028853569529019296, 0.07861875742673874, 0.01263455580919981, -0.010675978846848011, 0.030558854341506958, 0.031039446592330933, -0.03237269073724747, -0.014470423571765423, 0.027957018464803696, 0.027509260922670364, -0.013136273249983788, -0.00721009960398078, 0.07515053451061249, -0.12660905718803406, 0.05345906689763069, 0.08321765810251236, -0.015919404104351997, 0.01824554055929184, -0.016796573996543884, 0.03819079324603081, -0.06201845407485962, -0.03644629940390587, -0.011948023922741413, -0.046130768954753876, -0.04972513020038605, 0.05344922095537186, 0.023402638733386993, 0.005951392464339733, 0.060299117118120193, -0.03883710503578186, 0.011735568754374981, -0.0005573504022322595, 0.0797986090183258, 0.031749822199344635, 0.07367023825645447, -0.005358581431210041, -0.11065539717674255, -0.0070011913776397705, -0.04918630048632622, 0.023270096629858017, -0.06374968588352203, -0.012503151781857014, 0.012850300408899784, -0.028149012476205826, 0.061736736446619034, 0.02626943774521351, 0.07686818391084671, 0.09612715989351273, -0.05344963073730469, -0.056972797960042953, -0.09623776376247406, -0.008492832072079182, 0.06619145721197128, -0.014823504723608494, 0.05344102531671524, 0.0024222342763096094, 0.005454947240650654, 0.008450240828096867, 0.004888326395303011, 0.0025904872454702854, 0.000986177590675652, 0.03382914885878563, 0.01698138937354088, -0.011704891920089722, -0.0050369324162602425, -0.048127248883247375, -0.002070213435217738, -0.006697013508528471, -0.07066411525011063, -0.02210783213376999, 0.009296359494328499, -0.07361136376857758, -0.0029481397941708565, -0.09922722727060318, -0.1464572250843048, -0.008813434280455112, 0.016883110627532005, 0.0561227947473526, 0.09880463778972626, -0.039899181574583054, -0.00953813549131155, 1.0215211212538763e-33, 0.1457991749048233, 0.009960411116480827, -0.02433588355779648, -0.025420762598514557, 0.03425264358520508, -0.0026528681628406048, 0.004149300046265125, 0.059019576758146286, -0.06796848028898239, 0.028607677668333054, 0.004739988129585981, 0.015115756541490555, 0.05504811555147171, -0.019880635663866997, 0.04234771430492401, 0.08743788301944733, 0.02679084613919258, 0.04032451659440994, -0.038884058594703674, 0.027903622016310692, -0.08030318468809128, -0.03400101140141487, -0.0060109649784862995, -0.06215997785329819, 0.04875314608216286, -0.0024327768478542566, 0.07537804543972015, 0.05105173587799072, -0.10411733388900757, -0.011104919016361237, 0.002903236774727702, 0.057382889091968536, -0.027405034750699997, -0.005330543965101242, 0.04306602478027344, 0.009135019034147263, 0.011324952356517315, -0.03752719610929489, 0.016563083976507187, -0.037385471165180206, -0.022031135857105255, 0.0014769312692806125, 0.007139070890843868, 0.06618749350309372, -0.04125577583909035, -0.00560399005189538, 0.05445307865738869, -0.02530083805322647, -0.04718054458498955, 0.01572815701365471, -0.08216185122728348, -0.06643756479024887, 0.04537365213036537, 0.007874020375311375, -0.03452315181493759, 0.09003126621246338, 0.06255939602851868, 0.019906921312212944, 0.0814216136932373, -0.012106250040233135, 0.03163400664925575, 0.0552707277238369, 0.022233476862311363, 0.11265020072460175, 0.02890235185623169, 0.03601820021867752, -0.05632767081260681, -0.059204552322626114, -0.03194594383239746, -0.018858298659324646, 0.03431205451488495, -0.020330321043729782, 0.07562766969203949, -0.008240392431616783, 0.00996991153806448, -0.005974783096462488, 0.057787202298641205, 0.05027875304222107, 0.015793470665812492, 0.035391900688409805, 0.014925508759915829, -0.00846559926867485, 0.02869638241827488, 0.02533901482820511, 0.006211589090526104, 0.031197750940918922, 0.06677702814340591, 0.045858073979616165, 0.01416773907840252, -0.06819602847099304, 0.033860016614198685, 0.06280340254306793, 0.017528263852000237, 0.01406071800738573, 0.03421977534890175, -1.7425245246727172e-08, 0.02590896748006344, -0.0015169657999649644, 0.13716048002243042, 0.04528237134218216, 0.04866837337613106, 0.04849408566951752, -0.026318440213799477, -0.05913413688540459, -0.04150426387786865, -0.012950352393090725, 0.04486389458179474, 0.06018152832984924, -0.08090677857398987, -0.022988831624388695, 0.07353045791387558, 0.008819302543997765, -0.004131747409701347, 0.06105377525091171, -0.058560069650411606, -0.07941021025180817, 0.006868015043437481, 0.07912315428256989, -0.004490461200475693, -0.0761190727353096, 0.022105425596237183, -0.02488638460636139, -0.013001593761146069, -0.024047719314694405, -0.06338231265544891, -0.022533994168043137, -0.005546173546463251, 0.13573867082595825, -0.03181448578834534, 0.004699959419667721, -0.016835689544677734, -0.004079695791006088, -0.04844217002391815, -0.006069867871701717, 0.05689240247011185, -0.09979322552680969, -0.05751151591539383, -0.10030468553304672, -0.009373287670314312, -0.0646170824766159, -0.008519807830452919, 0.04054839909076691, 0.019014883786439896, -0.04364659637212753, 0.022501789033412933, -0.11012441664934158, -0.01161370612680912, 0.002382724080234766, 0.06422435492277145, 0.056455399841070175, 0.05996254086494446, 0.05353095009922981, 0.031024081632494926, -0.0038781296461820602, -0.06688215583562851, 0.00850094947963953, 0.11071619391441345, 0.02743065170943737, 0.03734210133552551, 0.038428716361522675]\n"
     ]
    }
   ],
   "source": [
    "#from langchain.embeddings import OpenAIEmbeddings\n",
    "from langchain.embeddings import SentenceTransformerEmbeddings\n",
    "\n",
    "# So instead of using OpenAIEmbeddings, we run a local model\n",
    "# embeddings_model = OpenAIEmbeddings()\n",
    "embeddings_model = SentenceTransformerEmbeddings(model_name=\"all-MiniLM-L6-v2\")\n",
    "\n",
    "embeddings = embeddings_model.embed_documents(\n",
    "    [\n",
    "        \"Hi there!\",\n",
    "        \"Oh, hello!\",\n",
    "        \"What's your name?\",\n",
    "        \"My friends call me World\",\n",
    "        \"Hello World!\",\n",
    "    ]\n",
    ")\n",
    "print(len(embeddings), len(embeddings[0]))\n",
    "print(embeddings[0])"
   ]
  }
 ],
 "metadata": {
  "kernelspec": {
   "display_name": "london-devops-VW7lFx7f-py3.11",
   "language": "python",
   "name": "python3"
  },
  "language_info": {
   "codemirror_mode": {
    "name": "ipython",
    "version": 3
   },
   "file_extension": ".py",
   "mimetype": "text/x-python",
   "name": "python",
   "nbconvert_exporter": "python",
   "pygments_lexer": "ipython3",
   "version": "3.11.7"
  },
  "orig_nbformat": 4
 },
 "nbformat": 4,
 "nbformat_minor": 2
}
