{
 "cells": [
  {
   "cell_type": "markdown",
   "metadata": {},
   "source": [
    "To reduce the costs we can consider caching the results of the llm.\n",
    "Langchain allows us to do global caching of calls.\n",
    "You need to verify that the caching does not contain personalized answers that should not be cached."
   ]
  },
  {
   "cell_type": "code",
   "execution_count": 8,
   "metadata": {},
   "outputs": [
    {
     "name": "stderr",
     "output_type": "stream",
     "text": [
      "huggingface/tokenizers: The current process just got forked, after parallelism has already been used. Disabling parallelism to avoid deadlocks...\n",
      "To disable this warning, you can either:\n",
      "\t- Avoid using `tokenizers` before the fork if possible\n",
      "\t- Explicitly set the environment variable TOKENIZERS_PARALLELISM=(true | false)\n"
     ]
    },
    {
     "name": "stdout",
     "output_type": "stream",
     "text": [
      "Requirement already satisfied: langchain in /Users/patrick.debois/Library/Caches/pypoetry/virtualenvs/learning-llms-and-genai-for-dev-sec-ops-Sv6v5t2W-py3.11/lib/python3.11/site-packages (0.1.5)\n",
      "Requirement already satisfied: langchain-openai in /Users/patrick.debois/Library/Caches/pypoetry/virtualenvs/learning-llms-and-genai-for-dev-sec-ops-Sv6v5t2W-py3.11/lib/python3.11/site-packages (0.0.2.post1)\n",
      "Requirement already satisfied: gptcache in /Users/patrick.debois/Library/Caches/pypoetry/virtualenvs/learning-llms-and-genai-for-dev-sec-ops-Sv6v5t2W-py3.11/lib/python3.11/site-packages (0.1.43)\n",
      "Requirement already satisfied: PyYAML>=5.3 in /Users/patrick.debois/Library/Caches/pypoetry/virtualenvs/learning-llms-and-genai-for-dev-sec-ops-Sv6v5t2W-py3.11/lib/python3.11/site-packages (from langchain) (6.0.1)\n",
      "Requirement already satisfied: SQLAlchemy<3,>=1.4 in /Users/patrick.debois/Library/Caches/pypoetry/virtualenvs/learning-llms-and-genai-for-dev-sec-ops-Sv6v5t2W-py3.11/lib/python3.11/site-packages (from langchain) (2.0.25)\n",
      "Requirement already satisfied: aiohttp<4.0.0,>=3.8.3 in /Users/patrick.debois/Library/Caches/pypoetry/virtualenvs/learning-llms-and-genai-for-dev-sec-ops-Sv6v5t2W-py3.11/lib/python3.11/site-packages (from langchain) (3.9.3)\n",
      "Requirement already satisfied: dataclasses-json<0.7,>=0.5.7 in /Users/patrick.debois/Library/Caches/pypoetry/virtualenvs/learning-llms-and-genai-for-dev-sec-ops-Sv6v5t2W-py3.11/lib/python3.11/site-packages (from langchain) (0.6.4)\n",
      "Requirement already satisfied: jsonpatch<2.0,>=1.33 in /Users/patrick.debois/Library/Caches/pypoetry/virtualenvs/learning-llms-and-genai-for-dev-sec-ops-Sv6v5t2W-py3.11/lib/python3.11/site-packages (from langchain) (1.33)\n",
      "Requirement already satisfied: langchain-community<0.1,>=0.0.17 in /Users/patrick.debois/Library/Caches/pypoetry/virtualenvs/learning-llms-and-genai-for-dev-sec-ops-Sv6v5t2W-py3.11/lib/python3.11/site-packages (from langchain) (0.0.17)\n",
      "Requirement already satisfied: langchain-core<0.2,>=0.1.16 in /Users/patrick.debois/Library/Caches/pypoetry/virtualenvs/learning-llms-and-genai-for-dev-sec-ops-Sv6v5t2W-py3.11/lib/python3.11/site-packages (from langchain) (0.1.18)\n",
      "Requirement already satisfied: langsmith<0.1,>=0.0.83 in /Users/patrick.debois/Library/Caches/pypoetry/virtualenvs/learning-llms-and-genai-for-dev-sec-ops-Sv6v5t2W-py3.11/lib/python3.11/site-packages (from langchain) (0.0.86)\n",
      "Requirement already satisfied: numpy<2,>=1 in /Users/patrick.debois/Library/Caches/pypoetry/virtualenvs/learning-llms-and-genai-for-dev-sec-ops-Sv6v5t2W-py3.11/lib/python3.11/site-packages (from langchain) (1.26.3)\n",
      "Requirement already satisfied: pydantic<3,>=1 in /Users/patrick.debois/Library/Caches/pypoetry/virtualenvs/learning-llms-and-genai-for-dev-sec-ops-Sv6v5t2W-py3.11/lib/python3.11/site-packages (from langchain) (2.6.0)\n",
      "Requirement already satisfied: requests<3,>=2 in /Users/patrick.debois/Library/Caches/pypoetry/virtualenvs/learning-llms-and-genai-for-dev-sec-ops-Sv6v5t2W-py3.11/lib/python3.11/site-packages (from langchain) (2.31.0)\n",
      "Requirement already satisfied: tenacity<9.0.0,>=8.1.0 in /Users/patrick.debois/Library/Caches/pypoetry/virtualenvs/learning-llms-and-genai-for-dev-sec-ops-Sv6v5t2W-py3.11/lib/python3.11/site-packages (from langchain) (8.2.3)\n",
      "Requirement already satisfied: openai<2.0.0,>=1.6.1 in /Users/patrick.debois/Library/Caches/pypoetry/virtualenvs/learning-llms-and-genai-for-dev-sec-ops-Sv6v5t2W-py3.11/lib/python3.11/site-packages (from langchain-openai) (1.11.0)\n",
      "Requirement already satisfied: tiktoken<0.6.0,>=0.5.2 in /Users/patrick.debois/Library/Caches/pypoetry/virtualenvs/learning-llms-and-genai-for-dev-sec-ops-Sv6v5t2W-py3.11/lib/python3.11/site-packages (from langchain-openai) (0.5.2)\n",
      "Requirement already satisfied: cachetools in /Users/patrick.debois/Library/Caches/pypoetry/virtualenvs/learning-llms-and-genai-for-dev-sec-ops-Sv6v5t2W-py3.11/lib/python3.11/site-packages (from gptcache) (5.3.2)\n",
      "Requirement already satisfied: aiosignal>=1.1.2 in /Users/patrick.debois/Library/Caches/pypoetry/virtualenvs/learning-llms-and-genai-for-dev-sec-ops-Sv6v5t2W-py3.11/lib/python3.11/site-packages (from aiohttp<4.0.0,>=3.8.3->langchain) (1.3.1)\n",
      "Requirement already satisfied: attrs>=17.3.0 in /Users/patrick.debois/Library/Caches/pypoetry/virtualenvs/learning-llms-and-genai-for-dev-sec-ops-Sv6v5t2W-py3.11/lib/python3.11/site-packages (from aiohttp<4.0.0,>=3.8.3->langchain) (23.2.0)\n",
      "Requirement already satisfied: frozenlist>=1.1.1 in /Users/patrick.debois/Library/Caches/pypoetry/virtualenvs/learning-llms-and-genai-for-dev-sec-ops-Sv6v5t2W-py3.11/lib/python3.11/site-packages (from aiohttp<4.0.0,>=3.8.3->langchain) (1.4.1)\n",
      "Requirement already satisfied: multidict<7.0,>=4.5 in /Users/patrick.debois/Library/Caches/pypoetry/virtualenvs/learning-llms-and-genai-for-dev-sec-ops-Sv6v5t2W-py3.11/lib/python3.11/site-packages (from aiohttp<4.0.0,>=3.8.3->langchain) (6.0.5)\n",
      "Requirement already satisfied: yarl<2.0,>=1.0 in /Users/patrick.debois/Library/Caches/pypoetry/virtualenvs/learning-llms-and-genai-for-dev-sec-ops-Sv6v5t2W-py3.11/lib/python3.11/site-packages (from aiohttp<4.0.0,>=3.8.3->langchain) (1.9.4)\n",
      "Requirement already satisfied: marshmallow<4.0.0,>=3.18.0 in /Users/patrick.debois/Library/Caches/pypoetry/virtualenvs/learning-llms-and-genai-for-dev-sec-ops-Sv6v5t2W-py3.11/lib/python3.11/site-packages (from dataclasses-json<0.7,>=0.5.7->langchain) (3.20.2)\n",
      "Requirement already satisfied: typing-inspect<1,>=0.4.0 in /Users/patrick.debois/Library/Caches/pypoetry/virtualenvs/learning-llms-and-genai-for-dev-sec-ops-Sv6v5t2W-py3.11/lib/python3.11/site-packages (from dataclasses-json<0.7,>=0.5.7->langchain) (0.9.0)\n",
      "Requirement already satisfied: jsonpointer>=1.9 in /Users/patrick.debois/Library/Caches/pypoetry/virtualenvs/learning-llms-and-genai-for-dev-sec-ops-Sv6v5t2W-py3.11/lib/python3.11/site-packages (from jsonpatch<2.0,>=1.33->langchain) (2.4)\n",
      "Requirement already satisfied: anyio<5,>=3 in /Users/patrick.debois/Library/Caches/pypoetry/virtualenvs/learning-llms-and-genai-for-dev-sec-ops-Sv6v5t2W-py3.11/lib/python3.11/site-packages (from langchain-core<0.2,>=0.1.16->langchain) (4.2.0)\n",
      "Requirement already satisfied: packaging<24.0,>=23.2 in /Users/patrick.debois/Library/Caches/pypoetry/virtualenvs/learning-llms-and-genai-for-dev-sec-ops-Sv6v5t2W-py3.11/lib/python3.11/site-packages (from langchain-core<0.2,>=0.1.16->langchain) (23.2)\n",
      "Requirement already satisfied: distro<2,>=1.7.0 in /Users/patrick.debois/Library/Caches/pypoetry/virtualenvs/learning-llms-and-genai-for-dev-sec-ops-Sv6v5t2W-py3.11/lib/python3.11/site-packages (from openai<2.0.0,>=1.6.1->langchain-openai) (1.9.0)\n",
      "Requirement already satisfied: httpx<1,>=0.23.0 in /Users/patrick.debois/Library/Caches/pypoetry/virtualenvs/learning-llms-and-genai-for-dev-sec-ops-Sv6v5t2W-py3.11/lib/python3.11/site-packages (from openai<2.0.0,>=1.6.1->langchain-openai) (0.26.0)\n",
      "Requirement already satisfied: sniffio in /Users/patrick.debois/Library/Caches/pypoetry/virtualenvs/learning-llms-and-genai-for-dev-sec-ops-Sv6v5t2W-py3.11/lib/python3.11/site-packages (from openai<2.0.0,>=1.6.1->langchain-openai) (1.3.0)\n",
      "Requirement already satisfied: tqdm>4 in /Users/patrick.debois/Library/Caches/pypoetry/virtualenvs/learning-llms-and-genai-for-dev-sec-ops-Sv6v5t2W-py3.11/lib/python3.11/site-packages (from openai<2.0.0,>=1.6.1->langchain-openai) (4.66.1)\n",
      "Requirement already satisfied: typing-extensions<5,>=4.7 in /Users/patrick.debois/Library/Caches/pypoetry/virtualenvs/learning-llms-and-genai-for-dev-sec-ops-Sv6v5t2W-py3.11/lib/python3.11/site-packages (from openai<2.0.0,>=1.6.1->langchain-openai) (4.9.0)\n",
      "Requirement already satisfied: annotated-types>=0.4.0 in /Users/patrick.debois/Library/Caches/pypoetry/virtualenvs/learning-llms-and-genai-for-dev-sec-ops-Sv6v5t2W-py3.11/lib/python3.11/site-packages (from pydantic<3,>=1->langchain) (0.6.0)\n",
      "Requirement already satisfied: pydantic-core==2.16.1 in /Users/patrick.debois/Library/Caches/pypoetry/virtualenvs/learning-llms-and-genai-for-dev-sec-ops-Sv6v5t2W-py3.11/lib/python3.11/site-packages (from pydantic<3,>=1->langchain) (2.16.1)\n",
      "Requirement already satisfied: charset-normalizer<4,>=2 in /Users/patrick.debois/Library/Caches/pypoetry/virtualenvs/learning-llms-and-genai-for-dev-sec-ops-Sv6v5t2W-py3.11/lib/python3.11/site-packages (from requests<3,>=2->langchain) (3.3.2)\n",
      "Requirement already satisfied: idna<4,>=2.5 in /Users/patrick.debois/Library/Caches/pypoetry/virtualenvs/learning-llms-and-genai-for-dev-sec-ops-Sv6v5t2W-py3.11/lib/python3.11/site-packages (from requests<3,>=2->langchain) (3.6)\n",
      "Requirement already satisfied: urllib3<3,>=1.21.1 in /Users/patrick.debois/Library/Caches/pypoetry/virtualenvs/learning-llms-and-genai-for-dev-sec-ops-Sv6v5t2W-py3.11/lib/python3.11/site-packages (from requests<3,>=2->langchain) (2.2.0)\n",
      "Requirement already satisfied: certifi>=2017.4.17 in /Users/patrick.debois/Library/Caches/pypoetry/virtualenvs/learning-llms-and-genai-for-dev-sec-ops-Sv6v5t2W-py3.11/lib/python3.11/site-packages (from requests<3,>=2->langchain) (2024.2.2)\n",
      "Requirement already satisfied: regex>=2022.1.18 in /Users/patrick.debois/Library/Caches/pypoetry/virtualenvs/learning-llms-and-genai-for-dev-sec-ops-Sv6v5t2W-py3.11/lib/python3.11/site-packages (from tiktoken<0.6.0,>=0.5.2->langchain-openai) (2023.12.25)\n",
      "Requirement already satisfied: httpcore==1.* in /Users/patrick.debois/Library/Caches/pypoetry/virtualenvs/learning-llms-and-genai-for-dev-sec-ops-Sv6v5t2W-py3.11/lib/python3.11/site-packages (from httpx<1,>=0.23.0->openai<2.0.0,>=1.6.1->langchain-openai) (1.0.2)\n",
      "Requirement already satisfied: h11<0.15,>=0.13 in /Users/patrick.debois/Library/Caches/pypoetry/virtualenvs/learning-llms-and-genai-for-dev-sec-ops-Sv6v5t2W-py3.11/lib/python3.11/site-packages (from httpcore==1.*->httpx<1,>=0.23.0->openai<2.0.0,>=1.6.1->langchain-openai) (0.14.0)\n",
      "Requirement already satisfied: mypy-extensions>=0.3.0 in /Users/patrick.debois/Library/Caches/pypoetry/virtualenvs/learning-llms-and-genai-for-dev-sec-ops-Sv6v5t2W-py3.11/lib/python3.11/site-packages (from typing-inspect<1,>=0.4.0->dataclasses-json<0.7,>=0.5.7->langchain) (1.0.0)\n",
      "\n",
      "\u001b[1m[\u001b[0m\u001b[34;49mnotice\u001b[0m\u001b[1;39;49m]\u001b[0m\u001b[39;49m A new release of pip is available: \u001b[0m\u001b[31;49m23.3.1\u001b[0m\u001b[39;49m -> \u001b[0m\u001b[32;49m24.0\u001b[0m\n",
      "\u001b[1m[\u001b[0m\u001b[34;49mnotice\u001b[0m\u001b[1;39;49m]\u001b[0m\u001b[39;49m To update, run: \u001b[0m\u001b[32;49mpip install --upgrade pip\u001b[0m\n",
      "Note: you may need to restart the kernel to use updated packages.\n"
     ]
    }
   ],
   "source": [
    "%pip install langchain langchain-openai gptcache"
   ]
  },
  {
   "cell_type": "markdown",
   "metadata": {},
   "source": [
    "In the first strategy we enable the caching on a global level.\n",
    "We use a database to store the input prompt and output prompt.\n",
    "And when we get another request that is the same , we return it from cache."
   ]
  },
  {
   "cell_type": "code",
   "execution_count": 9,
   "metadata": {},
   "outputs": [],
   "source": [
    "from gptcache import Cache\n",
    "from gptcache.manager.factory import manager_factory\n",
    "from gptcache.processor.pre import get_prompt\n",
    "from gptcache.adapter.api import init_similar_cache\n",
    "\n",
    "from langchain.cache import GPTCache\n",
    "import langchain\n",
    "import hashlib\n",
    "\n",
    "\n",
    "def get_hashed_name(name):\n",
    "    return hashlib.sha256(name.encode()).hexdigest()\n",
    "\n",
    "\n",
    "def init_gptcache_exact_match(cache_obj: Cache, llm: str):\n",
    "    hashed_llm = get_hashed_name(llm)\n",
    "    cache_obj.init(\n",
    "        pre_embedding_func=get_prompt,\n",
    "        data_manager=manager_factory(manager=\"map\", data_dir=f\"map_cache_{hashed_llm}\"),\n",
    "    )\n",
    "\n",
    "\n",
    "def init_gptcache_embeddings_match(cache_obj: Cache, llm: str):\n",
    "    hashed_llm = get_hashed_name(llm)\n",
    "    init_similar_cache(cache_obj=cache_obj, data_dir=f\"similar_cache_{hashed_llm}\")\n",
    "\n"
   ]
  },
  {
   "cell_type": "markdown",
   "metadata": {},
   "source": [
    "Running the same prompt 10 times is slow"
   ]
  },
  {
   "cell_type": "code",
   "execution_count": 10,
   "metadata": {},
   "outputs": [],
   "source": [
    "\n",
    "from langchain_openai import OpenAI\n",
    "llm=OpenAI(temperature=0)\n",
    "prompt=\"Hello world\"\n",
    "\n",
    "langchain.llm_cache=None\n",
    "for i in range(1,10):\n",
    "    result = llm.invoke(prompt)\n",
    "   # print(result)\n"
   ]
  },
  {
   "cell_type": "markdown",
   "metadata": {},
   "source": [
    "When we enable the caching it goes a lot faster once it's warmed up"
   ]
  },
  {
   "cell_type": "code",
   "execution_count": 11,
   "metadata": {},
   "outputs": [],
   "source": [
    "langchain.llm_cache = GPTCache(init_gptcache_exact_match)\n",
    "# Now run it once\n",
    "result = llm.invoke(\"Hello world\")\n"
   ]
  },
  {
   "cell_type": "code",
   "execution_count": 12,
   "metadata": {},
   "outputs": [],
   "source": [
    "\n",
    "# Now run it 10 times\n",
    "for i in range(1,10):\n",
    "    result = llm.invoke(prompt)\n",
    "    #print(result)"
   ]
  },
  {
   "cell_type": "markdown",
   "metadata": {},
   "source": [
    "With embeddings we can make this is a bit more clever. Not just exact matches can be used to return, but now also make it return similar questions."
   ]
  },
  {
   "cell_type": "code",
   "execution_count": 13,
   "metadata": {},
   "outputs": [],
   "source": [
    "# Set the caching to use embeddings\n",
    "langchain.llm_cache = GPTCache(init_gptcache_embeddings_match)\n",
    "\n",
    "# Now run it once to warm up the cache\n",
    "result = llm.invoke(\"Hello world\")\n"
   ]
  },
  {
   "cell_type": "code",
   "execution_count": 14,
   "metadata": {},
   "outputs": [],
   "source": [
    "# Now run a similar request\n",
    "similar_prompt=\"Hello world :)\"\n",
    "for i in range(1,10):\n",
    "    result = llm.invoke(similar_prompt)"
   ]
  }
 ],
 "metadata": {
  "kernelspec": {
   "display_name": "london-devops-VW7lFx7f-py3.11",
   "language": "python",
   "name": "python3"
  },
  "language_info": {
   "codemirror_mode": {
    "name": "ipython",
    "version": 3
   },
   "file_extension": ".py",
   "mimetype": "text/x-python",
   "name": "python",
   "nbconvert_exporter": "python",
   "pygments_lexer": "ipython3",
   "version": "3.11.7"
  },
  "orig_nbformat": 4
 },
 "nbformat": 4,
 "nbformat_minor": 2
}
